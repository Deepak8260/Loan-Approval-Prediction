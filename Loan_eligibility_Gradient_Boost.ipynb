{
 "cells": [
  {
   "cell_type": "code",
   "execution_count": 1,
   "id": "ee6ac54b-6085-4265-9046-1ea07599540f",
   "metadata": {},
   "outputs": [],
   "source": [
    "import pandas as pd\n",
    "import numpy as np\n",
    "import os\n",
    "import matplotlib.pyplot as plt\n",
    "import seaborn as sns\n",
    "import statistics\n",
    "from sklearn.model_selection import train_test_split,GridSearchCV,cross_val_score\n",
    "from sklearn.preprocessing import LabelBinarizer,StandardScaler,OrdinalEncoder\n",
    "from sklearn.metrics import confusion_matrix\n",
    "from sklearn.metrics import roc_auc_score\n",
    "from sklearn.metrics import roc_curve\n",
    "from scipy.stats import boxcox\n",
    "from sklearn.linear_model import LogisticRegression,RidgeClassifier, PassiveAggressiveClassifier\n",
    "from sklearn import metrics\n",
    "from sklearn import preprocessing\n",
    "from sklearn.ensemble import RandomForestClassifier, GradientBoostingClassifier\n",
    "from xgboost import plot_importance\n",
    "from matplotlib import pyplot\n",
    "from sklearn.naive_bayes import BernoulliNB\n",
    "from sklearn.neighbors import KNeighborsClassifier\n",
    "from sklearn.svm import LinearSVC\n",
    "from sklearn.tree import DecisionTreeClassifier\n",
    "from xgboost import XGBClassifier\n",
    "import joblib\n",
    "from imblearn.over_sampling import SMOTE\n",
    "%matplotlib inline\n"
   ]
  },
  {
   "cell_type": "code",
   "execution_count": 2,
   "id": "ed0e2741-e739-4765-8bb3-5c5fc3fd5704",
   "metadata": {},
   "outputs": [
    {
     "name": "stderr",
     "output_type": "stream",
     "text": [
      "C:\\Users\\kumar\\AppData\\Local\\Temp\\ipykernel_20372\\847288635.py:1: DtypeWarning: Columns (10,16) have mixed types. Specify dtype option on import or set low_memory=False.\n",
      "  data =pd.read_csv(\"LoansTrainingSetV2.csv\")\n"
     ]
    },
    {
     "data": {
      "text/html": [
       "<div>\n",
       "<style scoped>\n",
       "    .dataframe tbody tr th:only-of-type {\n",
       "        vertical-align: middle;\n",
       "    }\n",
       "\n",
       "    .dataframe tbody tr th {\n",
       "        vertical-align: top;\n",
       "    }\n",
       "\n",
       "    .dataframe thead th {\n",
       "        text-align: right;\n",
       "    }\n",
       "</style>\n",
       "<table border=\"1\" class=\"dataframe\">\n",
       "  <thead>\n",
       "    <tr style=\"text-align: right;\">\n",
       "      <th></th>\n",
       "      <th>Loan ID</th>\n",
       "      <th>Customer ID</th>\n",
       "      <th>Loan Status</th>\n",
       "      <th>Current Loan Amount</th>\n",
       "      <th>Term</th>\n",
       "      <th>Credit Score</th>\n",
       "      <th>Years in current job</th>\n",
       "      <th>Home Ownership</th>\n",
       "      <th>Annual Income</th>\n",
       "      <th>Purpose</th>\n",
       "      <th>Monthly Debt</th>\n",
       "      <th>Years of Credit History</th>\n",
       "      <th>Months since last delinquent</th>\n",
       "      <th>Number of Open Accounts</th>\n",
       "      <th>Number of Credit Problems</th>\n",
       "      <th>Current Credit Balance</th>\n",
       "      <th>Maximum Open Credit</th>\n",
       "      <th>Bankruptcies</th>\n",
       "      <th>Tax Liens</th>\n",
       "    </tr>\n",
       "  </thead>\n",
       "  <tbody>\n",
       "    <tr>\n",
       "      <th>0</th>\n",
       "      <td>6cf51492-02a2-423e-b93d-676f05b9ad53</td>\n",
       "      <td>7c202b37-2add-44e8-9aea-d5b119aea935</td>\n",
       "      <td>Loan Refused</td>\n",
       "      <td>12232</td>\n",
       "      <td>Short Term</td>\n",
       "      <td>7280.0</td>\n",
       "      <td>&lt; 1 year</td>\n",
       "      <td>Rent</td>\n",
       "      <td>46643.0</td>\n",
       "      <td>Debt Consolidation</td>\n",
       "      <td>777.39</td>\n",
       "      <td>18.0</td>\n",
       "      <td>10.0</td>\n",
       "      <td>12</td>\n",
       "      <td>0</td>\n",
       "      <td>6762</td>\n",
       "      <td>7946</td>\n",
       "      <td>0.0</td>\n",
       "      <td>0.0</td>\n",
       "    </tr>\n",
       "    <tr>\n",
       "      <th>1</th>\n",
       "      <td>552e7ade-4292-4354-9ff9-c48031697d72</td>\n",
       "      <td>e7217b0a-07ac-47dd-b379-577b5a35b7c6</td>\n",
       "      <td>Loan Refused</td>\n",
       "      <td>25014</td>\n",
       "      <td>Long Term</td>\n",
       "      <td>7330.0</td>\n",
       "      <td>10+ years</td>\n",
       "      <td>Home Mortgage</td>\n",
       "      <td>81099.0</td>\n",
       "      <td>Debt Consolidation</td>\n",
       "      <td>892.09</td>\n",
       "      <td>26.7</td>\n",
       "      <td>NaN</td>\n",
       "      <td>14</td>\n",
       "      <td>0</td>\n",
       "      <td>35706</td>\n",
       "      <td>77961</td>\n",
       "      <td>0.0</td>\n",
       "      <td>0.0</td>\n",
       "    </tr>\n",
       "    <tr>\n",
       "      <th>2</th>\n",
       "      <td>9b5e32b3-8d76-4801-afc8-d729d5a2e6b9</td>\n",
       "      <td>0a62fc41-16c8-40b5-92ff-9e4b763ce714</td>\n",
       "      <td>Loan Refused</td>\n",
       "      <td>16117</td>\n",
       "      <td>Short Term</td>\n",
       "      <td>7240.0</td>\n",
       "      <td>9 years</td>\n",
       "      <td>Home Mortgage</td>\n",
       "      <td>60438.0</td>\n",
       "      <td>Home Improvements</td>\n",
       "      <td>1244.02</td>\n",
       "      <td>16.7</td>\n",
       "      <td>32.0</td>\n",
       "      <td>11</td>\n",
       "      <td>1</td>\n",
       "      <td>11275</td>\n",
       "      <td>14815</td>\n",
       "      <td>1.0</td>\n",
       "      <td>0.0</td>\n",
       "    </tr>\n",
       "    <tr>\n",
       "      <th>3</th>\n",
       "      <td>5419b7c7-ac11-4be2-a8a7-b131fb6d6dbe</td>\n",
       "      <td>30f36c59-5182-4482-8bbb-5b736849ae43</td>\n",
       "      <td>Loan Refused</td>\n",
       "      <td>11716</td>\n",
       "      <td>Short Term</td>\n",
       "      <td>7400.0</td>\n",
       "      <td>3 years</td>\n",
       "      <td>Rent</td>\n",
       "      <td>34171.0</td>\n",
       "      <td>Debt Consolidation</td>\n",
       "      <td>990.94</td>\n",
       "      <td>10.0</td>\n",
       "      <td>NaN</td>\n",
       "      <td>21</td>\n",
       "      <td>0</td>\n",
       "      <td>7009</td>\n",
       "      <td>43533</td>\n",
       "      <td>0.0</td>\n",
       "      <td>0.0</td>\n",
       "    </tr>\n",
       "    <tr>\n",
       "      <th>4</th>\n",
       "      <td>1450910f-9495-4fc9-afaf-9bdf4b9821df</td>\n",
       "      <td>70c26012-bba5-42c0-8dcb-75295ada31bb</td>\n",
       "      <td>Loan Refused</td>\n",
       "      <td>9789</td>\n",
       "      <td>Long Term</td>\n",
       "      <td>6860.0</td>\n",
       "      <td>10+ years</td>\n",
       "      <td>Home Mortgage</td>\n",
       "      <td>47003.0</td>\n",
       "      <td>Home Improvements</td>\n",
       "      <td>503.71</td>\n",
       "      <td>16.7</td>\n",
       "      <td>25.0</td>\n",
       "      <td>13</td>\n",
       "      <td>1</td>\n",
       "      <td>16913</td>\n",
       "      <td>19553</td>\n",
       "      <td>1.0</td>\n",
       "      <td>0.0</td>\n",
       "    </tr>\n",
       "    <tr>\n",
       "      <th>...</th>\n",
       "      <td>...</td>\n",
       "      <td>...</td>\n",
       "      <td>...</td>\n",
       "      <td>...</td>\n",
       "      <td>...</td>\n",
       "      <td>...</td>\n",
       "      <td>...</td>\n",
       "      <td>...</td>\n",
       "      <td>...</td>\n",
       "      <td>...</td>\n",
       "      <td>...</td>\n",
       "      <td>...</td>\n",
       "      <td>...</td>\n",
       "      <td>...</td>\n",
       "      <td>...</td>\n",
       "      <td>...</td>\n",
       "      <td>...</td>\n",
       "      <td>...</td>\n",
       "      <td>...</td>\n",
       "    </tr>\n",
       "    <tr>\n",
       "      <th>111102</th>\n",
       "      <td>503f01e2-c3c4-4b10-886e-f15de57b6f1a</td>\n",
       "      <td>27a17610-1d8c-48a7-b0db-2d81a4fa099a</td>\n",
       "      <td>Loan Given</td>\n",
       "      <td>15654</td>\n",
       "      <td>Long Term</td>\n",
       "      <td>686.0</td>\n",
       "      <td>10+ years</td>\n",
       "      <td>Rent</td>\n",
       "      <td>43050.0</td>\n",
       "      <td>Debt Consolidation</td>\n",
       "      <td>889.69</td>\n",
       "      <td>14.1</td>\n",
       "      <td>49.0</td>\n",
       "      <td>18</td>\n",
       "      <td>0</td>\n",
       "      <td>14730</td>\n",
       "      <td>29757</td>\n",
       "      <td>0.0</td>\n",
       "      <td>0.0</td>\n",
       "    </tr>\n",
       "    <tr>\n",
       "      <th>111103</th>\n",
       "      <td>8af53bc0-56a4-4801-a960-52a46a90b33f</td>\n",
       "      <td>c124ca71-f42a-47cc-8ec2-236f7e9868a5</td>\n",
       "      <td>Loan Given</td>\n",
       "      <td>15237</td>\n",
       "      <td>Short Term</td>\n",
       "      <td>706.0</td>\n",
       "      <td>10+ years</td>\n",
       "      <td>Home Mortgage</td>\n",
       "      <td>60948.0</td>\n",
       "      <td>Debt Consolidation</td>\n",
       "      <td>700.9</td>\n",
       "      <td>15.9</td>\n",
       "      <td>48.0</td>\n",
       "      <td>11</td>\n",
       "      <td>0</td>\n",
       "      <td>17733</td>\n",
       "      <td>23060</td>\n",
       "      <td>0.0</td>\n",
       "      <td>0.0</td>\n",
       "    </tr>\n",
       "    <tr>\n",
       "      <th>111104</th>\n",
       "      <td>96efd327-f965-42ae-8b2b-d2555205ce19</td>\n",
       "      <td>7d959a54-8eeb-4df6-b582-046f889e4cff</td>\n",
       "      <td>Loan Given</td>\n",
       "      <td>10413</td>\n",
       "      <td>Short Term</td>\n",
       "      <td>719.0</td>\n",
       "      <td>5 years</td>\n",
       "      <td>Home Mortgage</td>\n",
       "      <td>66945.0</td>\n",
       "      <td>Debt Consolidation</td>\n",
       "      <td>1210.59</td>\n",
       "      <td>8.7</td>\n",
       "      <td>NaN</td>\n",
       "      <td>11</td>\n",
       "      <td>0</td>\n",
       "      <td>5205</td>\n",
       "      <td>6348</td>\n",
       "      <td>0.0</td>\n",
       "      <td>0.0</td>\n",
       "    </tr>\n",
       "    <tr>\n",
       "      <th>111105</th>\n",
       "      <td>ec19166c-70c5-4d49-adb6-fb3fc15024a2</td>\n",
       "      <td>5723fbf2-1ce8-4752-8bee-1bebf339f278</td>\n",
       "      <td>Loan Given</td>\n",
       "      <td>34447</td>\n",
       "      <td>Short Term</td>\n",
       "      <td>626.0</td>\n",
       "      <td>10+ years</td>\n",
       "      <td>Home Mortgage</td>\n",
       "      <td>78736.0</td>\n",
       "      <td>Debt Consolidation</td>\n",
       "      <td>1476.3</td>\n",
       "      <td>30.4</td>\n",
       "      <td>9.0</td>\n",
       "      <td>12</td>\n",
       "      <td>0</td>\n",
       "      <td>32318</td>\n",
       "      <td>37580</td>\n",
       "      <td>0.0</td>\n",
       "      <td>0.0</td>\n",
       "    </tr>\n",
       "    <tr>\n",
       "      <th>111106</th>\n",
       "      <td>f83ae0e1-bd30-46c7-9f72-f4f9fe2f36ca</td>\n",
       "      <td>74187e35-39c2-4010-ae0d-8bcd0544189e</td>\n",
       "      <td>Loan Given</td>\n",
       "      <td>9209</td>\n",
       "      <td>Long Term</td>\n",
       "      <td>708.0</td>\n",
       "      <td>&lt; 1 year</td>\n",
       "      <td>Own Home</td>\n",
       "      <td>123454.0</td>\n",
       "      <td>Debt Consolidation</td>\n",
       "      <td>668.71</td>\n",
       "      <td>20.1</td>\n",
       "      <td>16.0</td>\n",
       "      <td>8</td>\n",
       "      <td>0</td>\n",
       "      <td>6835</td>\n",
       "      <td>9261</td>\n",
       "      <td>0.0</td>\n",
       "      <td>0.0</td>\n",
       "    </tr>\n",
       "  </tbody>\n",
       "</table>\n",
       "<p>111107 rows × 19 columns</p>\n",
       "</div>"
      ],
      "text/plain": [
       "                                     Loan ID  \\\n",
       "0       6cf51492-02a2-423e-b93d-676f05b9ad53   \n",
       "1       552e7ade-4292-4354-9ff9-c48031697d72   \n",
       "2       9b5e32b3-8d76-4801-afc8-d729d5a2e6b9   \n",
       "3       5419b7c7-ac11-4be2-a8a7-b131fb6d6dbe   \n",
       "4       1450910f-9495-4fc9-afaf-9bdf4b9821df   \n",
       "...                                      ...   \n",
       "111102  503f01e2-c3c4-4b10-886e-f15de57b6f1a   \n",
       "111103  8af53bc0-56a4-4801-a960-52a46a90b33f   \n",
       "111104  96efd327-f965-42ae-8b2b-d2555205ce19   \n",
       "111105  ec19166c-70c5-4d49-adb6-fb3fc15024a2   \n",
       "111106  f83ae0e1-bd30-46c7-9f72-f4f9fe2f36ca   \n",
       "\n",
       "                                 Customer ID   Loan Status  \\\n",
       "0       7c202b37-2add-44e8-9aea-d5b119aea935  Loan Refused   \n",
       "1       e7217b0a-07ac-47dd-b379-577b5a35b7c6  Loan Refused   \n",
       "2       0a62fc41-16c8-40b5-92ff-9e4b763ce714  Loan Refused   \n",
       "3       30f36c59-5182-4482-8bbb-5b736849ae43  Loan Refused   \n",
       "4       70c26012-bba5-42c0-8dcb-75295ada31bb  Loan Refused   \n",
       "...                                      ...           ...   \n",
       "111102  27a17610-1d8c-48a7-b0db-2d81a4fa099a    Loan Given   \n",
       "111103  c124ca71-f42a-47cc-8ec2-236f7e9868a5    Loan Given   \n",
       "111104  7d959a54-8eeb-4df6-b582-046f889e4cff    Loan Given   \n",
       "111105  5723fbf2-1ce8-4752-8bee-1bebf339f278    Loan Given   \n",
       "111106  74187e35-39c2-4010-ae0d-8bcd0544189e    Loan Given   \n",
       "\n",
       "        Current Loan Amount        Term  Credit Score Years in current job  \\\n",
       "0                     12232  Short Term        7280.0             < 1 year   \n",
       "1                     25014   Long Term        7330.0            10+ years   \n",
       "2                     16117  Short Term        7240.0              9 years   \n",
       "3                     11716  Short Term        7400.0              3 years   \n",
       "4                      9789   Long Term        6860.0            10+ years   \n",
       "...                     ...         ...           ...                  ...   \n",
       "111102                15654   Long Term         686.0            10+ years   \n",
       "111103                15237  Short Term         706.0            10+ years   \n",
       "111104                10413  Short Term         719.0              5 years   \n",
       "111105                34447  Short Term         626.0            10+ years   \n",
       "111106                 9209   Long Term         708.0             < 1 year   \n",
       "\n",
       "       Home Ownership  Annual Income             Purpose Monthly Debt  \\\n",
       "0                Rent        46643.0  Debt Consolidation       777.39   \n",
       "1       Home Mortgage        81099.0  Debt Consolidation       892.09   \n",
       "2       Home Mortgage        60438.0   Home Improvements      1244.02   \n",
       "3                Rent        34171.0  Debt Consolidation       990.94   \n",
       "4       Home Mortgage        47003.0   Home Improvements       503.71   \n",
       "...               ...            ...                 ...          ...   \n",
       "111102           Rent        43050.0  Debt Consolidation       889.69   \n",
       "111103  Home Mortgage        60948.0  Debt Consolidation        700.9   \n",
       "111104  Home Mortgage        66945.0  Debt Consolidation      1210.59   \n",
       "111105  Home Mortgage        78736.0  Debt Consolidation       1476.3   \n",
       "111106       Own Home       123454.0  Debt Consolidation       668.71   \n",
       "\n",
       "        Years of Credit History  Months since last delinquent  \\\n",
       "0                          18.0                          10.0   \n",
       "1                          26.7                           NaN   \n",
       "2                          16.7                          32.0   \n",
       "3                          10.0                           NaN   \n",
       "4                          16.7                          25.0   \n",
       "...                         ...                           ...   \n",
       "111102                     14.1                          49.0   \n",
       "111103                     15.9                          48.0   \n",
       "111104                      8.7                           NaN   \n",
       "111105                     30.4                           9.0   \n",
       "111106                     20.1                          16.0   \n",
       "\n",
       "        Number of Open Accounts  Number of Credit Problems  \\\n",
       "0                            12                          0   \n",
       "1                            14                          0   \n",
       "2                            11                          1   \n",
       "3                            21                          0   \n",
       "4                            13                          1   \n",
       "...                         ...                        ...   \n",
       "111102                       18                          0   \n",
       "111103                       11                          0   \n",
       "111104                       11                          0   \n",
       "111105                       12                          0   \n",
       "111106                        8                          0   \n",
       "\n",
       "        Current Credit Balance Maximum Open Credit  Bankruptcies  Tax Liens  \n",
       "0                         6762                7946           0.0        0.0  \n",
       "1                        35706               77961           0.0        0.0  \n",
       "2                        11275               14815           1.0        0.0  \n",
       "3                         7009               43533           0.0        0.0  \n",
       "4                        16913               19553           1.0        0.0  \n",
       "...                        ...                 ...           ...        ...  \n",
       "111102                   14730               29757           0.0        0.0  \n",
       "111103                   17733               23060           0.0        0.0  \n",
       "111104                    5205                6348           0.0        0.0  \n",
       "111105                   32318               37580           0.0        0.0  \n",
       "111106                    6835                9261           0.0        0.0  \n",
       "\n",
       "[111107 rows x 19 columns]"
      ]
     },
     "execution_count": 2,
     "metadata": {},
     "output_type": "execute_result"
    }
   ],
   "source": [
    "data =pd.read_csv(\"LoansTrainingSetV2.csv\")\n",
    "data"
   ]
  },
  {
   "cell_type": "code",
   "execution_count": 3,
   "id": "64d86d0c-052b-4642-9884-cf1424a31add",
   "metadata": {},
   "outputs": [
    {
     "data": {
      "text/plain": [
       "111107"
      ]
     },
     "execution_count": 3,
     "metadata": {},
     "output_type": "execute_result"
    }
   ],
   "source": [
    "len(data)"
   ]
  },
  {
   "cell_type": "code",
   "execution_count": 4,
   "id": "12449fcd-67be-4c03-bd2c-0c3f5196016e",
   "metadata": {},
   "outputs": [
    {
     "data": {
      "text/plain": [
       "Loan ID                             0\n",
       "Customer ID                         0\n",
       "Loan Status                         0\n",
       "Current Loan Amount                 0\n",
       "Term                                0\n",
       "Credit Score                    21338\n",
       "Years in current job             4693\n",
       "Home Ownership                      0\n",
       "Annual Income                   21338\n",
       "Purpose                             0\n",
       "Monthly Debt                        0\n",
       "Years of Credit History             0\n",
       "Months since last delinquent    59003\n",
       "Number of Open Accounts             0\n",
       "Number of Credit Problems           0\n",
       "Current Credit Balance              0\n",
       "Maximum Open Credit                 0\n",
       "Bankruptcies                      228\n",
       "Tax Liens                          11\n",
       "dtype: int64"
      ]
     },
     "execution_count": 4,
     "metadata": {},
     "output_type": "execute_result"
    }
   ],
   "source": [
    "data.isnull().sum()"
   ]
  },
  {
   "cell_type": "code",
   "execution_count": 5,
   "id": "068e3f69-1dc0-468c-8a5a-071afc8a3fe6",
   "metadata": {},
   "outputs": [
    {
     "data": {
      "text/html": [
       "<div>\n",
       "<style scoped>\n",
       "    .dataframe tbody tr th:only-of-type {\n",
       "        vertical-align: middle;\n",
       "    }\n",
       "\n",
       "    .dataframe tbody tr th {\n",
       "        vertical-align: top;\n",
       "    }\n",
       "\n",
       "    .dataframe thead th {\n",
       "        text-align: right;\n",
       "    }\n",
       "</style>\n",
       "<table border=\"1\" class=\"dataframe\">\n",
       "  <thead>\n",
       "    <tr style=\"text-align: right;\">\n",
       "      <th></th>\n",
       "      <th>Loan ID</th>\n",
       "      <th>Customer ID</th>\n",
       "      <th>Loan Status</th>\n",
       "      <th>Current Loan Amount</th>\n",
       "      <th>Term</th>\n",
       "      <th>Credit Score</th>\n",
       "      <th>Years in current job</th>\n",
       "      <th>Home Ownership</th>\n",
       "      <th>Annual Income</th>\n",
       "      <th>Purpose</th>\n",
       "      <th>Monthly Debt</th>\n",
       "      <th>Years of Credit History</th>\n",
       "      <th>Months since last delinquent</th>\n",
       "      <th>Number of Open Accounts</th>\n",
       "      <th>Number of Credit Problems</th>\n",
       "      <th>Current Credit Balance</th>\n",
       "      <th>Maximum Open Credit</th>\n",
       "      <th>Bankruptcies</th>\n",
       "      <th>Tax Liens</th>\n",
       "    </tr>\n",
       "  </thead>\n",
       "  <tbody>\n",
       "    <tr>\n",
       "      <th>0</th>\n",
       "      <td>6cf51492-02a2-423e-b93d-676f05b9ad53</td>\n",
       "      <td>7c202b37-2add-44e8-9aea-d5b119aea935</td>\n",
       "      <td>Loan Refused</td>\n",
       "      <td>12232</td>\n",
       "      <td>Short Term</td>\n",
       "      <td>7280.0</td>\n",
       "      <td>&lt; 1 year</td>\n",
       "      <td>Rent</td>\n",
       "      <td>46643.0</td>\n",
       "      <td>Debt Consolidation</td>\n",
       "      <td>777.39</td>\n",
       "      <td>18.0</td>\n",
       "      <td>10.0</td>\n",
       "      <td>12</td>\n",
       "      <td>0</td>\n",
       "      <td>6762</td>\n",
       "      <td>7946</td>\n",
       "      <td>0.0</td>\n",
       "      <td>0.0</td>\n",
       "    </tr>\n",
       "    <tr>\n",
       "      <th>1</th>\n",
       "      <td>552e7ade-4292-4354-9ff9-c48031697d72</td>\n",
       "      <td>e7217b0a-07ac-47dd-b379-577b5a35b7c6</td>\n",
       "      <td>Loan Refused</td>\n",
       "      <td>25014</td>\n",
       "      <td>Long Term</td>\n",
       "      <td>7330.0</td>\n",
       "      <td>10+ years</td>\n",
       "      <td>Home Mortgage</td>\n",
       "      <td>81099.0</td>\n",
       "      <td>Debt Consolidation</td>\n",
       "      <td>892.09</td>\n",
       "      <td>26.7</td>\n",
       "      <td>NaN</td>\n",
       "      <td>14</td>\n",
       "      <td>0</td>\n",
       "      <td>35706</td>\n",
       "      <td>77961</td>\n",
       "      <td>0.0</td>\n",
       "      <td>0.0</td>\n",
       "    </tr>\n",
       "    <tr>\n",
       "      <th>2</th>\n",
       "      <td>9b5e32b3-8d76-4801-afc8-d729d5a2e6b9</td>\n",
       "      <td>0a62fc41-16c8-40b5-92ff-9e4b763ce714</td>\n",
       "      <td>Loan Refused</td>\n",
       "      <td>16117</td>\n",
       "      <td>Short Term</td>\n",
       "      <td>7240.0</td>\n",
       "      <td>9 years</td>\n",
       "      <td>Home Mortgage</td>\n",
       "      <td>60438.0</td>\n",
       "      <td>Home Improvements</td>\n",
       "      <td>1244.02</td>\n",
       "      <td>16.7</td>\n",
       "      <td>32.0</td>\n",
       "      <td>11</td>\n",
       "      <td>1</td>\n",
       "      <td>11275</td>\n",
       "      <td>14815</td>\n",
       "      <td>1.0</td>\n",
       "      <td>0.0</td>\n",
       "    </tr>\n",
       "    <tr>\n",
       "      <th>3</th>\n",
       "      <td>5419b7c7-ac11-4be2-a8a7-b131fb6d6dbe</td>\n",
       "      <td>30f36c59-5182-4482-8bbb-5b736849ae43</td>\n",
       "      <td>Loan Refused</td>\n",
       "      <td>11716</td>\n",
       "      <td>Short Term</td>\n",
       "      <td>7400.0</td>\n",
       "      <td>3 years</td>\n",
       "      <td>Rent</td>\n",
       "      <td>34171.0</td>\n",
       "      <td>Debt Consolidation</td>\n",
       "      <td>990.94</td>\n",
       "      <td>10.0</td>\n",
       "      <td>NaN</td>\n",
       "      <td>21</td>\n",
       "      <td>0</td>\n",
       "      <td>7009</td>\n",
       "      <td>43533</td>\n",
       "      <td>0.0</td>\n",
       "      <td>0.0</td>\n",
       "    </tr>\n",
       "    <tr>\n",
       "      <th>4</th>\n",
       "      <td>1450910f-9495-4fc9-afaf-9bdf4b9821df</td>\n",
       "      <td>70c26012-bba5-42c0-8dcb-75295ada31bb</td>\n",
       "      <td>Loan Refused</td>\n",
       "      <td>9789</td>\n",
       "      <td>Long Term</td>\n",
       "      <td>6860.0</td>\n",
       "      <td>10+ years</td>\n",
       "      <td>Home Mortgage</td>\n",
       "      <td>47003.0</td>\n",
       "      <td>Home Improvements</td>\n",
       "      <td>503.71</td>\n",
       "      <td>16.7</td>\n",
       "      <td>25.0</td>\n",
       "      <td>13</td>\n",
       "      <td>1</td>\n",
       "      <td>16913</td>\n",
       "      <td>19553</td>\n",
       "      <td>1.0</td>\n",
       "      <td>0.0</td>\n",
       "    </tr>\n",
       "    <tr>\n",
       "      <th>...</th>\n",
       "      <td>...</td>\n",
       "      <td>...</td>\n",
       "      <td>...</td>\n",
       "      <td>...</td>\n",
       "      <td>...</td>\n",
       "      <td>...</td>\n",
       "      <td>...</td>\n",
       "      <td>...</td>\n",
       "      <td>...</td>\n",
       "      <td>...</td>\n",
       "      <td>...</td>\n",
       "      <td>...</td>\n",
       "      <td>...</td>\n",
       "      <td>...</td>\n",
       "      <td>...</td>\n",
       "      <td>...</td>\n",
       "      <td>...</td>\n",
       "      <td>...</td>\n",
       "      <td>...</td>\n",
       "    </tr>\n",
       "    <tr>\n",
       "      <th>88905</th>\n",
       "      <td>77d7330a-dedb-415a-ac55-865338f27c3f</td>\n",
       "      <td>8ab2250d-4807-4ba2-964e-670e886abbcf</td>\n",
       "      <td>Loan Given</td>\n",
       "      <td>10136</td>\n",
       "      <td>Short Term</td>\n",
       "      <td>728.0</td>\n",
       "      <td>10+ years</td>\n",
       "      <td>Rent</td>\n",
       "      <td>35476.0</td>\n",
       "      <td>Debt Consolidation</td>\n",
       "      <td>567.62</td>\n",
       "      <td>21.2</td>\n",
       "      <td>14.0</td>\n",
       "      <td>14</td>\n",
       "      <td>0</td>\n",
       "      <td>15914</td>\n",
       "      <td>28265</td>\n",
       "      <td>0.0</td>\n",
       "      <td>0.0</td>\n",
       "    </tr>\n",
       "    <tr>\n",
       "      <th>88906</th>\n",
       "      <td>7934a353-b3c5-430e-b7fb-03ff163aac20</td>\n",
       "      <td>341809ba-0559-4c66-a0fb-9f52471cd664</td>\n",
       "      <td>Loan Given</td>\n",
       "      <td>29610</td>\n",
       "      <td>Short Term</td>\n",
       "      <td>710.0</td>\n",
       "      <td>10+ years</td>\n",
       "      <td>Home Mortgage</td>\n",
       "      <td>123375.0</td>\n",
       "      <td>Debt Consolidation</td>\n",
       "      <td>2508.63</td>\n",
       "      <td>15.0</td>\n",
       "      <td>16.0</td>\n",
       "      <td>11</td>\n",
       "      <td>0</td>\n",
       "      <td>17727</td>\n",
       "      <td>32766</td>\n",
       "      <td>0.0</td>\n",
       "      <td>0.0</td>\n",
       "    </tr>\n",
       "    <tr>\n",
       "      <th>88907</th>\n",
       "      <td>d43b4c9c-8cb9-4cff-b86c-84b4f2c6aa13</td>\n",
       "      <td>5dc48d5a-36e9-4e52-9568-d81f218386b0</td>\n",
       "      <td>Loan Given</td>\n",
       "      <td>24394</td>\n",
       "      <td>Short Term</td>\n",
       "      <td>746.0</td>\n",
       "      <td>NaN</td>\n",
       "      <td>Home Mortgage</td>\n",
       "      <td>71148.0</td>\n",
       "      <td>Debt Consolidation</td>\n",
       "      <td>818.2</td>\n",
       "      <td>36.4</td>\n",
       "      <td>9.0</td>\n",
       "      <td>8</td>\n",
       "      <td>0</td>\n",
       "      <td>44728</td>\n",
       "      <td>53374</td>\n",
       "      <td>0.0</td>\n",
       "      <td>0.0</td>\n",
       "    </tr>\n",
       "    <tr>\n",
       "      <th>88908</th>\n",
       "      <td>e3ffa0d5-5164-4815-9231-7ae5e0887dfd</td>\n",
       "      <td>2bfeb5be-6441-4e2d-be6e-20a138127d93</td>\n",
       "      <td>Loan Refused</td>\n",
       "      <td>5030</td>\n",
       "      <td>Short Term</td>\n",
       "      <td>722.0</td>\n",
       "      <td>NaN</td>\n",
       "      <td>Rent</td>\n",
       "      <td>25424.0</td>\n",
       "      <td>Debt Consolidation</td>\n",
       "      <td>360.17</td>\n",
       "      <td>19.0</td>\n",
       "      <td>7.0</td>\n",
       "      <td>12</td>\n",
       "      <td>0</td>\n",
       "      <td>6374</td>\n",
       "      <td>18422</td>\n",
       "      <td>0.0</td>\n",
       "      <td>0.0</td>\n",
       "    </tr>\n",
       "    <tr>\n",
       "      <th>88909</th>\n",
       "      <td>26e3e4f3-7442-4b68-bc2b-a9c4567f67ce</td>\n",
       "      <td>5514bfcc-e996-4d9b-80d4-9ea66dfa1ac5</td>\n",
       "      <td>Loan Given</td>\n",
       "      <td>18446</td>\n",
       "      <td>Short Term</td>\n",
       "      <td>718.0</td>\n",
       "      <td>6 years</td>\n",
       "      <td>Rent</td>\n",
       "      <td>44066.0</td>\n",
       "      <td>Debt Consolidation</td>\n",
       "      <td>749.13</td>\n",
       "      <td>10.7</td>\n",
       "      <td>NaN</td>\n",
       "      <td>18</td>\n",
       "      <td>1</td>\n",
       "      <td>6718</td>\n",
       "      <td>21124</td>\n",
       "      <td>0.0</td>\n",
       "      <td>1.0</td>\n",
       "    </tr>\n",
       "  </tbody>\n",
       "</table>\n",
       "<p>88910 rows × 19 columns</p>\n",
       "</div>"
      ],
      "text/plain": [
       "                                    Loan ID  \\\n",
       "0      6cf51492-02a2-423e-b93d-676f05b9ad53   \n",
       "1      552e7ade-4292-4354-9ff9-c48031697d72   \n",
       "2      9b5e32b3-8d76-4801-afc8-d729d5a2e6b9   \n",
       "3      5419b7c7-ac11-4be2-a8a7-b131fb6d6dbe   \n",
       "4      1450910f-9495-4fc9-afaf-9bdf4b9821df   \n",
       "...                                     ...   \n",
       "88905  77d7330a-dedb-415a-ac55-865338f27c3f   \n",
       "88906  7934a353-b3c5-430e-b7fb-03ff163aac20   \n",
       "88907  d43b4c9c-8cb9-4cff-b86c-84b4f2c6aa13   \n",
       "88908  e3ffa0d5-5164-4815-9231-7ae5e0887dfd   \n",
       "88909  26e3e4f3-7442-4b68-bc2b-a9c4567f67ce   \n",
       "\n",
       "                                Customer ID   Loan Status  \\\n",
       "0      7c202b37-2add-44e8-9aea-d5b119aea935  Loan Refused   \n",
       "1      e7217b0a-07ac-47dd-b379-577b5a35b7c6  Loan Refused   \n",
       "2      0a62fc41-16c8-40b5-92ff-9e4b763ce714  Loan Refused   \n",
       "3      30f36c59-5182-4482-8bbb-5b736849ae43  Loan Refused   \n",
       "4      70c26012-bba5-42c0-8dcb-75295ada31bb  Loan Refused   \n",
       "...                                     ...           ...   \n",
       "88905  8ab2250d-4807-4ba2-964e-670e886abbcf    Loan Given   \n",
       "88906  341809ba-0559-4c66-a0fb-9f52471cd664    Loan Given   \n",
       "88907  5dc48d5a-36e9-4e52-9568-d81f218386b0    Loan Given   \n",
       "88908  2bfeb5be-6441-4e2d-be6e-20a138127d93  Loan Refused   \n",
       "88909  5514bfcc-e996-4d9b-80d4-9ea66dfa1ac5    Loan Given   \n",
       "\n",
       "       Current Loan Amount        Term  Credit Score Years in current job  \\\n",
       "0                    12232  Short Term        7280.0             < 1 year   \n",
       "1                    25014   Long Term        7330.0            10+ years   \n",
       "2                    16117  Short Term        7240.0              9 years   \n",
       "3                    11716  Short Term        7400.0              3 years   \n",
       "4                     9789   Long Term        6860.0            10+ years   \n",
       "...                    ...         ...           ...                  ...   \n",
       "88905                10136  Short Term         728.0            10+ years   \n",
       "88906                29610  Short Term         710.0            10+ years   \n",
       "88907                24394  Short Term         746.0                  NaN   \n",
       "88908                 5030  Short Term         722.0                  NaN   \n",
       "88909                18446  Short Term         718.0              6 years   \n",
       "\n",
       "      Home Ownership  Annual Income             Purpose Monthly Debt  \\\n",
       "0               Rent        46643.0  Debt Consolidation       777.39   \n",
       "1      Home Mortgage        81099.0  Debt Consolidation       892.09   \n",
       "2      Home Mortgage        60438.0   Home Improvements      1244.02   \n",
       "3               Rent        34171.0  Debt Consolidation       990.94   \n",
       "4      Home Mortgage        47003.0   Home Improvements       503.71   \n",
       "...              ...            ...                 ...          ...   \n",
       "88905           Rent        35476.0  Debt Consolidation       567.62   \n",
       "88906  Home Mortgage       123375.0  Debt Consolidation      2508.63   \n",
       "88907  Home Mortgage        71148.0  Debt Consolidation        818.2   \n",
       "88908           Rent        25424.0  Debt Consolidation       360.17   \n",
       "88909           Rent        44066.0  Debt Consolidation       749.13   \n",
       "\n",
       "       Years of Credit History  Months since last delinquent  \\\n",
       "0                         18.0                          10.0   \n",
       "1                         26.7                           NaN   \n",
       "2                         16.7                          32.0   \n",
       "3                         10.0                           NaN   \n",
       "4                         16.7                          25.0   \n",
       "...                        ...                           ...   \n",
       "88905                     21.2                          14.0   \n",
       "88906                     15.0                          16.0   \n",
       "88907                     36.4                           9.0   \n",
       "88908                     19.0                           7.0   \n",
       "88909                     10.7                           NaN   \n",
       "\n",
       "       Number of Open Accounts  Number of Credit Problems  \\\n",
       "0                           12                          0   \n",
       "1                           14                          0   \n",
       "2                           11                          1   \n",
       "3                           21                          0   \n",
       "4                           13                          1   \n",
       "...                        ...                        ...   \n",
       "88905                       14                          0   \n",
       "88906                       11                          0   \n",
       "88907                        8                          0   \n",
       "88908                       12                          0   \n",
       "88909                       18                          1   \n",
       "\n",
       "       Current Credit Balance Maximum Open Credit  Bankruptcies  Tax Liens  \n",
       "0                        6762                7946           0.0        0.0  \n",
       "1                       35706               77961           0.0        0.0  \n",
       "2                       11275               14815           1.0        0.0  \n",
       "3                        7009               43533           0.0        0.0  \n",
       "4                       16913               19553           1.0        0.0  \n",
       "...                       ...                 ...           ...        ...  \n",
       "88905                   15914               28265           0.0        0.0  \n",
       "88906                   17727               32766           0.0        0.0  \n",
       "88907                   44728               53374           0.0        0.0  \n",
       "88908                    6374               18422           0.0        0.0  \n",
       "88909                    6718               21124           0.0        1.0  \n",
       "\n",
       "[88910 rows x 19 columns]"
      ]
     },
     "execution_count": 5,
     "metadata": {},
     "output_type": "execute_result"
    }
   ],
   "source": [
    "##Drop the duplicates with respect to LOAN ID\n",
    "data.drop_duplicates(subset=\"Loan ID\",keep='first',inplace=True)\n",
    "data"
   ]
  },
  {
   "cell_type": "code",
   "execution_count": 6,
   "id": "23de0514-e7bb-4685-8437-aa88822e5484",
   "metadata": {},
   "outputs": [
    {
     "data": {
      "image/png": "[encoded data removed]",
      "text/plain": [
       "<Figure size 1000x500 with 1 Axes>"
      ]
     },
     "metadata": {},
     "output_type": "display_data"
    }
   ],
   "source": [
    "##########PLotting the loan status \n",
    "\n",
    "plt.figure(figsize=(10, 5))\n",
    "\n",
    "# Plot with hue (if another categorical variable exists)\n",
    "sns.countplot(data=data, x=\"Loan Status\", hue=\"Loan Status\", palette=\"bright\")\n",
    "\n",
    "plt.title('Loan Status Distribution')\n",
    "plt.ylabel('Number of Occurrences', fontsize=12)\n",
    "plt.xlabel('Loan Status', fontsize=12)\n",
    "plt.show()"
   ]
  },
  {
   "cell_type": "code",
   "execution_count": 7,
   "id": "168d0fca-af44-428b-a039-21a0b6803933",
   "metadata": {},
   "outputs": [
    {
     "data": {
      "image/png": "[encoded data removed]",
      "text/plain": [
       "<Figure size 640x480 with 1 Axes>"
      ]
     },
     "metadata": {},
     "output_type": "display_data"
    }
   ],
   "source": [
    "###Current Loan Amount ############\n",
    "data[\"Current Loan Amount\"].plot.hist(grid=True, bins=20, rwidth=0.9,\n",
    "                   color='#607c8e')\n",
    "\n",
    "plt.title('Distribution of Current Loan Amount')  # Correct title\n",
    "plt.xlabel('Loan Amount')  # Correct x-axis label\n",
    "plt.ylabel('Frequency')  # Correct y-axis label\n",
    "plt.grid(axis='y', alpha=0.75)\n",
    "\n",
    "plt.show()\n"
   ]
  },
  {
   "cell_type": "markdown",
   "id": "50b6b813-1ca3-4eaa-b2d6-0043e468f353",
   "metadata": {},
   "source": [
    "### **Observations from the Graph**  \n",
    "\n",
    "The graph you generated shows the distribution of loan amounts, meaning it tells you **how frequently different loan amounts appear** in your dataset.\n",
    "\n",
    "---\n",
    "\n",
    "### **What the Graph is Saying:**\n",
    "1. **Most Loans Are Very Small:**  \n",
    "   - The majority of loan amounts are **clustered near zero**.  \n",
    "   - This means that **most people in the dataset have taken relatively low loan amounts**.\n",
    "\n",
    "2. **A Few Loans Are Extremely Large:**  \n",
    "   - There is a **separate bar on the far right** of the graph, which suggests that **some loans are much, much higher than the rest**.  \n",
    "   - These could be **outliers** (unusually high values that do not follow the general trend).\n",
    "\n",
    "3. **Gaps in the Middle:**  \n",
    "   - There is **almost no data in the middle loan amount range**.  \n",
    "   - This suggests that **loan amounts are either very small or extremely large**, with very few in between.\n",
    "\n",
    "4. **Scientific Notation on the X-Axis (1e8 = 100,000,000):**  \n",
    "   - In the **bottom right of the graph**, there is a **notation \"1e8\"**.  \n",
    "   - This means **100,000,000** (100 million), which is the scale Matplotlib uses to represent very large numbers in a compact format.  \n",
    "   - This confirms that **some loans are in the 100 million range**, while most are much smaller.\n",
    "\n"
   ]
  },
  {
   "cell_type": "markdown",
   "id": "bccc9915-eaa9-4246-b39c-dd800ad0f22e",
   "metadata": {},
   "source": [
    "### Detect and Calculate the Outliers in Current Loan Amount column"
   ]
  },
  {
   "cell_type": "code",
   "execution_count": 8,
   "id": "7d9079ac-6163-4c93-90f4-c11aabb27e8d",
   "metadata": {},
   "outputs": [
    {
     "name": "stdout",
     "output_type": "stream",
     "text": [
      "16202.0\n"
     ]
    }
   ],
   "source": [
    "#Finding IQR's for outlier removal\n",
    "\n",
    "Q1 = data[\"Current Loan Amount\"].quantile(0.25)\n",
    "Q3 = data[\"Current Loan Amount\"].quantile(0.75)\n",
    "IQR = Q3 - Q1\n",
    "print(IQR)"
   ]
  },
  {
   "cell_type": "code",
   "execution_count": 9,
   "id": "dceea12a-3446-4908-85d8-abd9cfd3d81c",
   "metadata": {},
   "outputs": [
    {
     "data": {
      "text/plain": [
       "5044     99999999\n",
       "5045     99999999\n",
       "5046     99999999\n",
       "5047     99999999\n",
       "5048     99999999\n",
       "           ...   \n",
       "17777    99999999\n",
       "17778    99999999\n",
       "17779    99999999\n",
       "17780    99999999\n",
       "17781    99999999\n",
       "Name: Current Loan Amount, Length: 12738, dtype: int64"
      ]
     },
     "execution_count": 9,
     "metadata": {},
     "output_type": "execute_result"
    }
   ],
   "source": [
    "data[\"Current Loan Amount\"][((data[\"Current Loan Amount\"] < (Q1 - 1.5 * IQR)) |(data[\"Current Loan Amount\"] > (Q3 + 1.5 * IQR)))]"
   ]
  },
  {
   "cell_type": "markdown",
   "id": "d592edee-6d13-4260-8156-c61c9b5da256",
   "metadata": {},
   "source": [
    "#### **How Do We Know That `99,999,999` is a Dummy Value?**  \n",
    "\n",
    "Good question! I’ll explain **why we suspect `99,999,999` is not a real loan amount** and how we verify it.\n",
    "\n",
    "---\n",
    "\n",
    "#### **1️⃣ The Outlier Detection Step Gave a Hint**\n",
    "When we ran:\n",
    "```python\n",
    "data[\"Current Loan Amount\"][((data[\"Current Loan Amount\"] < (Q1 - 1.5 * IQR)) | (data[\"Current Loan Amount\"] > (Q3 + 1.5 * IQR)))]\n",
    "```\n",
    "- The result **only contained `99,999,999`** as an outlier.\n",
    "- This is unusual because real loan amounts should **vary** (e.g., ₹1,00,000, ₹5,00,000, ₹10,00,000).\n",
    "- But here, **a single value `99,999,999` appeared thousands of times**.\n",
    "- This suggests it is **not a real loan amount but a placeholder**.\n",
    "\n",
    "---\n",
    "\n",
    "#### **2️⃣ The Number is Too Large for a Typical Loan**\n",
    "- A loan of **₹99,999,999 (almost ₹100 million)** is **extremely rare** for normal customers.\n",
    "- Most personal loans are in the range of **₹10,000 to ₹10,00,000**.\n",
    "- Even home loans **rarely exceed ₹10 crore (₹100,000,000)**.\n",
    "- The **fact that thousands of customers have exactly `99,999,999` as a loan amount** is highly suspicious.\n",
    "\n",
    "---\n",
    "\n",
    "#### **3️⃣ It Matches a Common Pattern of Dummy Values**\n",
    "Many datasets **use a very high number** (like `99,999,999`) to indicate:\n",
    "✅ **Missing Data** (e.g., \"We don’t have this customer’s loan amount\")  \n",
    "✅ **System Default** (e.g., \"This field wasn’t filled in the database\")  \n",
    "✅ **Error in Data Entry** (e.g., \"The system inserted `99,999,999` instead of leaving it blank\")\n",
    "\n",
    "💡 **Similar Dummy Values Used in Data Science:**\n",
    "- `9999`, `99999`, `99999999` → Often mean **missing data**.\n",
    "- `-999`, `-1` → Sometimes used for missing data in machine learning.\n",
    "- `0` → Sometimes used incorrectly for missing values.\n",
    "\n",
    "---\n",
    "\n",
    "\n",
    "#### **5️⃣ How Do We Fix This?**\n",
    "Once we confirm that `99,999,999` is a **dummy value**, we should **replace it with NaN**:\n",
    "```python\n",
    "data[\"Current Loan Amount\"] = data[\"Current Loan Amount\"].replace(99999999, np.nan)\n",
    "```\n",
    "This ensures that **our analysis doesn’t treat `99,999,999` as a real loan amount**.\n"
   ]
  },
  {
   "cell_type": "markdown",
   "id": "e1a5eac6-1b43-43c5-a37e-1415abc10a8d",
   "metadata": {},
   "source": [
    "### Fix Outliers"
   ]
  },
  {
   "cell_type": "code",
   "execution_count": 10,
   "id": "f3b7b8ae-1d51-48b8-8b2f-e6d7e6e609de",
   "metadata": {},
   "outputs": [],
   "source": [
    "temp=np.array(data[\"Current Loan Amount\"].values.tolist())\n",
    "data[\"Current Loan Amount_temp\"] = np.where(temp > 9999998, 'NaN', temp).tolist()"
   ]
  },
  {
   "cell_type": "markdown",
   "id": "14550994-74b2-404a-8235-a9a1a6e75d5d",
   "metadata": {},
   "source": [
    "#### **Why Perform These Two Steps?**\n",
    "\n",
    "1️⃣ **Convert the \"Current Loan Amount\" column to a NumPy array:**  \n",
    "```python\n",
    "temp = np.array(data[\"Current Loan Amount\"].values.tolist())\n",
    "```\n",
    "✅ **Reason:** NumPy is **faster** for element-wise operations compared to Pandas.\n",
    "\n",
    "---\n",
    "\n",
    "2️⃣ **Replace values greater than `9,999,998` with `'NaN'` and convert back to a list:**  \n",
    "```python\n",
    "data[\"Current Loan Amount_temp\"] = np.where(temp > 9999998, 'NaN', temp).tolist()\n",
    "```\n",
    "✅ **Reason:**  \n",
    "- Replaces **extremely large loan amounts** (likely incorrect values) with `'NaN'`.  \n",
    "- Converts the result back into a Pandas-compatible format (`list`).  \n"
   ]
  },
  {
   "cell_type": "markdown",
   "id": "6fd51e99-b175-49e0-b50c-fb7f8e5970bd",
   "metadata": {},
   "source": [
    "### Remove outliers and plot the graph to observe the distribution so that we can impute further"
   ]
  },
  {
   "cell_type": "code",
   "execution_count": 11,
   "id": "dd08329a-71e8-4294-abb6-16d560eebdfe",
   "metadata": {},
   "outputs": [
    {
     "data": {
      "text/plain": [
       "count    76172.000000\n",
       "mean     13933.915756\n",
       "std       8235.921922\n",
       "min        491.000000\n",
       "25%       7810.000000\n",
       "50%      12038.000000\n",
       "75%      19351.000000\n",
       "max      35875.000000\n",
       "Name: Current Loan Amount_temp, dtype: float64"
      ]
     },
     "execution_count": 11,
     "metadata": {},
     "output_type": "execute_result"
    },
    {
     "data": {
      "image/png": "[encoded data removed]",
      "text/plain": [
       "<Figure size 640x480 with 1 Axes>"
      ]
     },
     "metadata": {},
     "output_type": "display_data"
    }
   ],
   "source": [
    "temp=data[\"Current Loan Amount_temp\"][data[\"Current Loan Amount_temp\"]!='NaN'].astype(str).astype(int)\n",
    "temp.plot.hist(grid=True, bins=20, rwidth=0.9,\n",
    "                   color='#607c8e')\n",
    "                   \n",
    "temp.describe()"
   ]
  },
  {
   "cell_type": "markdown",
   "id": "c3a4b431-36a0-4150-8f3d-02a6e8300a81",
   "metadata": {},
   "source": [
    "### **Why Are We Doing This and What Does It Mean?**\n",
    "\n",
    "The **goal of this code** is to **analyze the distribution of cleaned loan amounts** after removing outliers (extreme values like `99,999,999`). Let’s break it down step by step.\n",
    "\n",
    "---\n",
    "\n",
    "### **🔹 Step 1: Removing `'NaN'` (Placeholder for Outliers)**\n",
    "```python\n",
    "temp = data[\"Current Loan Amount_temp\"][data[\"Current Loan Amount_temp\"] != 'NaN']\n",
    "```\n",
    "✅ **Why?**  \n",
    "- Earlier, we replaced **outliers (e.g., `99,999,999`) with `'NaN'` as a string**.\n",
    "- This step **filters out those `'NaN'` values**, so only valid loan amounts remain.\n",
    "\n",
    "---\n",
    "\n",
    "### **🔹 Step 2: Converting Data Type from String to Integer**\n",
    "```python\n",
    "temp.astype(str).astype(int)\n",
    "```\n",
    "✅ **Why?**  \n",
    "- Since we stored `'NaN'` as a **string**, Pandas might treat the entire column as text.\n",
    "- Converting to **integer ensures we can analyze the loan amounts numerically**.\n",
    "\n",
    "---\n",
    "\n",
    "### **🔹 Step 3: Plotting the Histogram**\n",
    "```python\n",
    "temp.plot.hist(grid=True, bins=20, rwidth=0.9, color='#607c8e')\n",
    "```\n",
    "✅ **Why?**  \n",
    "- This **visualizes the distribution** of loan amounts after outlier removal.\n",
    "- **The X-axis** represents different loan amounts (₹ values).  \n",
    "- **The Y-axis** represents the **frequency** (how many people took loans in that range).  \n",
    "- The **peak around ₹10,000 - ₹15,000** suggests most loans are in this range.\n",
    "\n",
    "📊 **Interpretation of the Histogram:**\n",
    "- Most loans are **between ₹5,000 and ₹20,000**.\n",
    "- **Very few loans** exceed **₹35,000**.\n",
    "- The data is **not evenly distributed**, meaning some loan amounts are much more common than others.\n",
    "\n",
    "---\n",
    "\n",
    "### **🔹 Step 4: Generating Summary Statistics**\n",
    "```python\n",
    "temp.describe()\n",
    "```\n",
    "✅ **Why?**  \n",
    "- This provides **key insights** into loan distribution.\n",
    "  \n",
    "📊 **Interpretation of the Statistics:**\n",
    "| **Metric**  | **Value** | **Meaning** |\n",
    "|------------|----------|------------|\n",
    "| **Count**  | 76,172   | Total number of valid loans after removing outliers |\n",
    "| **Mean**   | ₹13,933  | Average loan amount |\n",
    "| **Std Dev** | ₹8,235  | High standard deviation → loan amounts vary widely |\n",
    "| **Min**    | ₹491     | Smallest loan amount in the dataset |\n",
    "| **25% (Q1)** | ₹7,810  | 25% of loans are **less than ₹7,810** |\n",
    "| **50% (Median)** | ₹12,038 | Half of loans are **less than ₹12,038** |\n",
    "| **75% (Q3)** | ₹19,351 | 75% of loans are **less than ₹19,351** |\n",
    "| **Max**    | ₹35,875  | Largest loan amount after removing extreme values |\n",
    "\n",
    "📌 **Key Insights:**\n",
    "- **Most loans are small (below ₹20,000).**\n",
    "- **There are no extreme values anymore (max is ₹35,875 instead of ₹99,999,999).**\n",
    "- **Loan amounts are widely spread, but a majority are concentrated between ₹5,000 - ₹20,000.**\n",
    "\n",
    "---\n",
    "\n",
    "### **🔹 Final Answer: Why Are We Doing This?**\n",
    "✅ **To remove extreme outliers (`99,999,999`) and clean the dataset.**  \n",
    "✅ **To analyze the true distribution of loan amounts.**  \n",
    "✅ **To visualize how loan amounts are spread across borrowers.**  \n",
    "✅ **To get key statistical insights on loan trends.**  \n",
    "\n",
    "---"
   ]
  },
  {
   "cell_type": "markdown",
   "id": "82fc3ded-b3d6-447e-8033-190a08d49f89",
   "metadata": {},
   "source": [
    "### Impute the Values"
   ]
  },
  {
   "cell_type": "code",
   "execution_count": 12,
   "id": "5b544584-d216-4329-812e-77bce7eda25f",
   "metadata": {},
   "outputs": [],
   "source": [
    "#Replacing the data with 50% percentile or mean\n",
    "temp=np.array(data[\"Current Loan Amount\"].values.tolist())\n",
    "data[\"Current Loan Amount\"] = np.where(temp > 9999998,12038,temp).tolist()\n",
    "\n",
    "data=data.drop(['Current Loan Amount_temp'],axis=1)"
   ]
  },
  {
   "cell_type": "markdown",
   "id": "9d8a6859-f4f0-4223-9573-e79d7fc28f7b",
   "metadata": {},
   "source": [
    "#### **Why Are We Performing This Step Again If We Already Handled Outliers?**  \n",
    "\n",
    "You're right to question this! Earlier, we **removed extreme outliers (`99,999,999`) by replacing them with `'NaN'`** and excluded them from analysis. So, why are we replacing them **again** in this step?  \n",
    "\n",
    "Let’s break it down.  \n",
    "\n",
    "---\n",
    "\n",
    "#### **🔹 1. Earlier, We Only Marked Outliers (`99,999,999`) as `'NaN'`**\n",
    "- Previously, we **did not replace them with meaningful values**.\n",
    "  \n",
    "- We just **removed them temporarily from the analysis** using:\n",
    "  ```python\n",
    "  temp = data[\"Current Loan Amount_temp\"][data[\"Current Loan Amount_temp\"] != 'NaN']\n",
    "  ```\n",
    "  \n",
    "- This was **only filtering**, not **fixing** the missing values.\n",
    "\n",
    "---\n",
    "\n",
    "#### **🔹 2. This Step Replaces the Missing Values with the Median (`12,038`)**\n",
    "```python\n",
    "data[\"Current Loan Amount\"] = np.where(temp > 9999998, 12038, temp).tolist()\n",
    "```\n",
    "\n",
    "- **Now, instead of removing or ignoring those outliers, we replace them with `12,038` (median loan amount).**\n",
    "  \n",
    "- **Why?** → This ensures that missing values don’t cause problems in further analysis.\n",
    "\n",
    "---\n",
    "\n",
    "#### **🔹 3. Why Are We Doing This Now Instead of Earlier?**\n",
    "\n",
    "- Before replacing, we **first needed to analyze the data** (histogram, summary stats, etc.).\n",
    "  \n",
    "- Now that we **confirmed the correct replacement value** (median = `12,038`), we apply the fix.\n",
    "\n",
    "---\n",
    "\n",
    "#### **🔹 4. Final Answer: Why Do This Step?**\n",
    "✅ **Earlier, we just removed extreme values (`99,999,999`) from analysis.**  \n",
    "\n",
    "✅ **Now, we are replacing them with the median (`12,038`) to ensure data consistency.**  \n",
    "\n",
    "✅ **This prevents missing values (`NaN`) from affecting future calculations.**  \n"
   ]
  },
  {
   "cell_type": "markdown",
   "id": "d8e24dde-f1f7-47df-ab3f-1ef7a663c914",
   "metadata": {},
   "source": [
    "### **📌 Loan Term Distribution**  \n"
   ]
  },
  {
   "cell_type": "code",
   "execution_count": 13,
   "id": "9d04540c-459e-4de3-b8f3-b6128f5be964",
   "metadata": {},
   "outputs": [
    {
     "data": {
      "image/png": "[encoded data removed]",
      "text/plain": [
       "<Figure size 1000x500 with 1 Axes>"
      ]
     },
     "metadata": {},
     "output_type": "display_data"
    }
   ],
   "source": [
    "############Term ##############\n",
    "\n",
    "status=data[\"Term\"].value_counts() \n",
    "\n",
    "plt.figure(figsize=(10,5))\n",
    "sns.barplot(x=status.index, y=status.values, alpha=0.8)\n",
    "plt.title('Loan Term distribution')\n",
    "plt.ylabel('Number of Occurrences', fontsize=12)\n",
    "plt.xlabel('Loan term', fontsize=12)\n",
    "plt.show()"
   ]
  },
  {
   "cell_type": "markdown",
   "id": "d13be68b-9b63-4e7f-a29d-e7a6e205abb4",
   "metadata": {},
   "source": [
    "\n",
    "**🔹 Motive:** Visualize the frequency of **short-term vs. long-term loans** to identify common loan durations.  \n",
    "\n",
    "**🔹 What It Does:**  \n",
    "- **Counts occurrences** of each loan term.  \n",
    "- **Creates a bar plot** for easy comparison.  \n",
    "- **Reveals trends** in loan duration preferences.  "
   ]
  },
  {
   "cell_type": "markdown",
   "id": "8a7c3064-6ff7-4cf6-8392-c99007fb81c0",
   "metadata": {},
   "source": [
    "### Credit Score\n"
   ]
  },
  {
   "cell_type": "code",
   "execution_count": 14,
   "id": "46e50bd6-fb73-49e9-9873-c80ac0fcf1d3",
   "metadata": {},
   "outputs": [
    {
     "data": {
      "text/plain": [
       "count    67572.000000\n",
       "mean      1199.199580\n",
       "std       1680.813805\n",
       "min        585.000000\n",
       "25%        714.000000\n",
       "50%        733.000000\n",
       "75%        744.000000\n",
       "max       7510.000000\n",
       "Name: Credit Score, dtype: float64"
      ]
     },
     "execution_count": 14,
     "metadata": {},
     "output_type": "execute_result"
    }
   ],
   "source": [
    "#####Credit Score#############\n",
    "\n",
    "##Max is 7510. It should be between 0-800\n",
    "\n",
    "data[\"Credit Score\"].describe()"
   ]
  },
  {
   "cell_type": "markdown",
   "id": "c4547505-a74e-47e8-b752-facb7881de9e",
   "metadata": {},
   "source": [
    "#### **📌 What is a Credit Score?**  \n",
    "A **credit score** is a **number that shows how good a person is at repaying loans**. Banks use it to decide **if they should give a loan** and **at what interest rate**.  \n",
    "\n",
    "🔹 **Higher score (closer to 800)** → More likely to get a loan with low interest.  \n",
    "🔹 **Lower score** → Higher risk, may get a loan with high interest or be rejected.  \n",
    "\n",
    "📌 **The highest credit score is usually around 800 for most banks.** 🚀"
   ]
  },
  {
   "cell_type": "code",
   "execution_count": 15,
   "id": "415158c4-0b5a-4171-8af3-55d740cb33f9",
   "metadata": {},
   "outputs": [
    {
     "data": {
      "text/plain": [
       "<Axes: xlabel='Credit Score'>"
      ]
     },
     "execution_count": 15,
     "metadata": {},
     "output_type": "execute_result"
    },
    {
     "data": {
      "image/png": "[encoded data removed]",
      "text/plain": [
       "<Figure size 640x480 with 1 Axes>"
      ]
     },
     "metadata": {},
     "output_type": "display_data"
    }
   ],
   "source": [
    "sns.boxplot(x=data[\"Credit Score\"])"
   ]
  },
  {
   "cell_type": "code",
   "execution_count": 16,
   "id": "c4f3d6e8-50ed-4c29-b446-2ce871a780c8",
   "metadata": {},
   "outputs": [
    {
     "data": {
      "text/plain": [
       "np.int64(21338)"
      ]
     },
     "execution_count": 16,
     "metadata": {},
     "output_type": "execute_result"
    }
   ],
   "source": [
    "data[\"Credit Score\"].isnull().sum()\n"
   ]
  },
  {
   "cell_type": "code",
   "execution_count": 17,
   "id": "4f27e77a-64bd-4582-99ac-21e1dec64dbc",
   "metadata": {},
   "outputs": [],
   "source": [
    "#Now lets do treatment of the data at hand. Let us firstly divide the values greater than 800 by 10\n",
    "\n",
    "data[\"Credit Score\"]=np.where(data[\"Credit Score\"]>800, data[\"Credit Score\"]/10, data[\"Credit Score\"])"
   ]
  },
  {
   "cell_type": "code",
   "execution_count": 18,
   "id": "1a949ad4-4a82-4489-96e5-716e647edb75",
   "metadata": {},
   "outputs": [
    {
     "data": {
      "text/plain": [
       "count    67572.000000\n",
       "mean       721.601951\n",
       "std         27.427709\n",
       "min        585.000000\n",
       "25%        710.000000\n",
       "50%        730.000000\n",
       "75%        741.000000\n",
       "max        751.000000\n",
       "Name: Credit Score, dtype: float64"
      ]
     },
     "execution_count": 18,
     "metadata": {},
     "output_type": "execute_result"
    }
   ],
   "source": [
    "# Now the credit score is valid as its between 0 - 800\n",
    "\n",
    "data[\"Credit Score\"].describe()"
   ]
  },
  {
   "cell_type": "code",
   "execution_count": 19,
   "id": "a6541381-12fc-4536-ae69-39a002afbc3d",
   "metadata": {},
   "outputs": [
    {
     "data": {
      "image/png": "[encoded data removed]",
      "text/plain": [
       "<Figure size 800x500 with 1 Axes>"
      ]
     },
     "metadata": {},
     "output_type": "display_data"
    }
   ],
   "source": [
    "# Checking the distribution of 'Credit Score' before replacing missing values\n",
    "\n",
    "plt.figure(figsize=(8,5))\n",
    "sns.histplot(data[\"Credit Score\"], bins=30, kde=True, color='#607c8e')\n",
    "\n",
    "# Adding labels\n",
    "plt.title(\"Distribution of Credit Score Before Replacing Missing Values\")\n",
    "plt.xlabel(\"Credit Score\")\n",
    "plt.ylabel(\"Frequency\")\n",
    "\n",
    "# Show the plot\n",
    "plt.show()\n"
   ]
  },
  {
   "cell_type": "code",
   "execution_count": 20,
   "id": "2520b548-0acb-4cf5-ae0f-6e94c6c112e6",
   "metadata": {},
   "outputs": [
    {
     "name": "stderr",
     "output_type": "stream",
     "text": [
      "C:\\Users\\kumar\\AppData\\Local\\Temp\\ipykernel_20372\\1700253654.py:5: FutureWarning: A value is trying to be set on a copy of a DataFrame or Series through chained assignment using an inplace method.\n",
      "The behavior will change in pandas 3.0. This inplace method will never work because the intermediate object on which we are setting values always behaves as a copy.\n",
      "\n",
      "For example, when doing 'df[col].method(value, inplace=True)', try using 'df.method({col: value}, inplace=True)' or df[col] = df[col].method(value) instead, to perform the operation inplace on the original object.\n",
      "\n",
      "\n",
      "  data[\"Credit Score_1\"].fillna(median_score, inplace = True)\n",
      "C:\\Users\\kumar\\AppData\\Local\\Temp\\ipykernel_20372\\1700253654.py:7: UserWarning: \n",
      "\n",
      "`distplot` is a deprecated function and will be removed in seaborn v0.14.0.\n",
      "\n",
      "Please adapt your code to use either `displot` (a figure-level function with\n",
      "similar flexibility) or `histplot` (an axes-level function for histograms).\n",
      "\n",
      "For a guide to updating your code to use the new functions, please see\n",
      "https://gist.github.com/mwaskom/de44147ed2974457ad6372750bbe5751\n",
      "\n",
      "  sns.distplot(data[\"Credit Score_1\"])\n"
     ]
    },
    {
     "data": {
      "text/plain": [
       "<Axes: xlabel='Credit Score_1', ylabel='Density'>"
      ]
     },
     "execution_count": 20,
     "metadata": {},
     "output_type": "execute_result"
    },
    {
     "data": {
      "image/png": "[encoded data removed]",
      "text/plain": [
       "<Figure size 640x480 with 1 Axes>"
      ]
     },
     "metadata": {},
     "output_type": "display_data"
    }
   ],
   "source": [
    "#Now lets replace the missing values with median \n",
    "median_score=statistics.median(data[\"Credit Score\"])\n",
    "\n",
    "data[\"Credit Score_1\"]=data[\"Credit Score\"]\n",
    "data[\"Credit Score_1\"].fillna(median_score, inplace = True) \n",
    "\n",
    "sns.distplot(data[\"Credit Score_1\"])"
   ]
  },
  {
   "cell_type": "code",
   "execution_count": 21,
   "id": "ff15ac77-296b-40f9-91c5-db2ad0331dc3",
   "metadata": {},
   "outputs": [
    {
     "data": {
      "image/png": "[encoded data removed]",
      "text/plain": [
       "<Figure size 800x500 with 1 Axes>"
      ]
     },
     "metadata": {},
     "output_type": "display_data"
    }
   ],
   "source": [
    "\n",
    "# Step 1: Replace missing values with median + small random variation\n",
    "median_score = data[\"Credit Score\"].median()\n",
    "data[\"Credit Score\"] = data[\"Credit Score\"].fillna(median_score + np.random.randint(-10, 10))\n",
    "\n",
    "# Step 2: Plot the updated Credit Score distribution\n",
    "plt.figure(figsize=(8,5))\n",
    "sns.histplot(data[\"Credit Score\"], bins=30, kde=True, color='#607c8e')\n",
    "\n",
    "# Adding labels\n",
    "plt.title(\"Credit Score Distribution After Replacing Missing Values with Median + Random Variation\")\n",
    "plt.xlabel(\"Credit Score\")\n",
    "plt.ylabel(\"Frequency\")\n",
    "\n",
    "# Show the plot\n",
    "plt.show()\n"
   ]
  },
  {
   "cell_type": "markdown",
   "id": "5b2d875c-ebd6-419d-996d-f839aea142e5",
   "metadata": {},
   "source": [
    "##### Deepak's comment = I am unable to fix the above issue but I will try to solve it before the delivery to the students"
   ]
  },
  {
   "cell_type": "code",
   "execution_count": 22,
   "id": "583358e5-f83e-4ae0-93b1-a33a245ef713",
   "metadata": {},
   "outputs": [
    {
     "data": {
      "text/plain": [
       "array(['Rent', 'Home Mortgage', 'Own Home', 'HaveMortgage'], dtype=object)"
      ]
     },
     "execution_count": 22,
     "metadata": {},
     "output_type": "execute_result"
    }
   ],
   "source": [
    "data['Home Ownership'].unique()\n",
    "#As we can see it has Home Mortgage and haveMortgage as 2 different classes. Lets fix that"
   ]
  },
  {
   "cell_type": "code",
   "execution_count": 23,
   "id": "23cc74f9-d76a-486a-a10a-ffb16f461492",
   "metadata": {},
   "outputs": [
    {
     "data": {
      "text/plain": [
       "array(['Rent', 'Home Mortgage', 'Own Home'], dtype=object)"
      ]
     },
     "execution_count": 23,
     "metadata": {},
     "output_type": "execute_result"
    }
   ],
   "source": [
    "data['Home Ownership']=data['Home Ownership'].str.replace('HaveMortgage', 'Home Mortgage', regex=True)\n",
    "\n",
    "data['Home Ownership'].unique()"
   ]
  },
  {
   "cell_type": "markdown",
   "id": "33df02ed-479a-48e7-8a94-71dfd2416e2b",
   "metadata": {},
   "source": [
    "### Annual Income"
   ]
  },
  {
   "cell_type": "code",
   "execution_count": 24,
   "id": "eec79552-2551-46f5-9ded-ae4058ce91db",
   "metadata": {},
   "outputs": [
    {
     "data": {
      "text/plain": [
       "count    6.757200e+04\n",
       "mean     7.234575e+04\n",
       "std      5.836101e+04\n",
       "min      4.033000e+03\n",
       "25%      4.458600e+04\n",
       "50%      6.149400e+04\n",
       "75%      8.675025e+04\n",
       "max      8.713547e+06\n",
       "Name: Annual Income, dtype: float64"
      ]
     },
     "execution_count": 24,
     "metadata": {},
     "output_type": "execute_result"
    }
   ],
   "source": [
    "### Annual Income\n",
    "data['Annual Income'].describe()"
   ]
  },
  {
   "cell_type": "code",
   "execution_count": 25,
   "id": "b03f2a7a-b2b8-4ca4-9339-51da21fa6059",
   "metadata": {},
   "outputs": [
    {
     "data": {
      "text/plain": [
       "0.200     40764.00\n",
       "0.750     86750.25\n",
       "0.900    119916.00\n",
       "0.950    147645.00\n",
       "0.990    239286.96\n",
       "0.999    491575.77\n",
       "Name: Annual Income, dtype: float64"
      ]
     },
     "execution_count": 25,
     "metadata": {},
     "output_type": "execute_result"
    }
   ],
   "source": [
    "##Lets look at the quantiles of this columns\n",
    "\n",
    "data['Annual Income'].quantile([.2,0.75,0.90,.95,0.99,.999])"
   ]
  },
  {
   "cell_type": "code",
   "execution_count": 26,
   "id": "b12dde8e-59f8-49d6-b7ab-85053ecde681",
   "metadata": {},
   "outputs": [
    {
     "data": {
      "text/plain": [
       "np.int64(21338)"
      ]
     },
     "execution_count": 26,
     "metadata": {},
     "output_type": "execute_result"
    }
   ],
   "source": [
    "#As we can see they lie in the 99th percentile of the data.Lets replace them\n",
    "\n",
    "# Capping any values greater than 99% to 99th value\n",
    "data.loc[data['Annual Income'] > 239287, 'Annual Income'] = 239287\n",
    "\n",
    "data['Annual Income'].isna().sum()\n",
    "#So we have about 21000 null values \n",
    "\n",
    "##We will impute the mising data with other columns towards the end"
   ]
  },
  {
   "cell_type": "markdown",
   "id": "6105a6e8-7686-4f72-8662-60c507d5f6f3",
   "metadata": {},
   "source": [
    "#### **📌 Understanding the Code in Simple Words**  \n",
    "\n",
    "This code is used to **analyze and handle extreme values (outliers) in the \"Annual Income\" column.** In statistics, any value beyond the **99th percentile** is considered an **extreme value (outlier)** because it occurs **very rarely in the dataset**. These outliers can **skew analysis and mislead predictions**, so we need to handle them properly. Let’s break it down step by step.\n",
    "\n",
    "---\n",
    "\n",
    "#### **🔹 Step 1: Checking Income Distribution Using Quantiles**\n",
    "```python\n",
    "data['Annual Income'].quantile([.2, 0.75, 0.90, 0.95, 0.99, .999])\n",
    "```\n",
    "✅ **What It Does:**  \n",
    "- Finds the **percentile values** (quantiles) of the `\"Annual Income\"` column.\n",
    "- Helps us understand the **spread of income values** and detect outliers.\n",
    "\n",
    "✅ **What the Output Means:**  \n",
    "| **Percentile** | **Income Value (₹)** | **Meaning** |\n",
    "|--------------|------------------|-----------|\n",
    "| **20% (Q20)** | ₹40,764 | 20% of people earn below ₹40,764 |\n",
    "| **75% (Q75)** | ₹86,750 | 75% of people earn below ₹86,750 |\n",
    "| **90% (Q90)** | ₹119,916 | 90% of people earn below ₹119,916 |\n",
    "| **95% (Q95)** | ₹147,645 | 95% of people earn below ₹147,645 |\n",
    "| **99% (Q99)** | ₹239,286 | 99% of people earn below ₹239,286 |\n",
    "| **99.9% (Q999)** | ₹491,575 | The top **0.1% earn extremely high incomes** |\n",
    "\n",
    "🔹 **Why is This Important?**  \n",
    "- Any income **above ₹239,287 (99th percentile)** is considered an **outlier (extremely high value)** because it falls outside the range of what most people earn.  \n",
    "- These **outliers can distort analysis** by inflating averages and misleading trends, so we need to handle them carefully.\n",
    "\n",
    "---\n",
    "\n",
    "#### **🔹 Step 2: Capping Extreme Income Values**\n",
    "```python\n",
    "data.loc[data['Annual Income'] > 239287, 'Annual Income'] = 239287\n",
    "```\n",
    "✅ **What It Does:**  \n",
    "- **Finds all rows** where `\"Annual Income\"` is greater than **₹239,287**.  \n",
    "- **Replaces those values** with ₹239,287 (99th percentile).  \n",
    "\n",
    "🔹 **Why Do This?**  \n",
    "- This **caps extreme income values** to prevent them from **distorting the overall data analysis**.  \n",
    "- Ensures that **high-income outliers don’t negatively impact machine learning models or statistical summaries**.\n",
    "\n",
    "---\n",
    "\n",
    "#### **🔹 Step 3: Checking Missing Values in Annual Income**\n",
    "```python\n",
    "data['Annual Income'].isna().sum()\n",
    "```\n",
    "✅ **What It Does:**  \n",
    "- **Counts** how many missing (`NaN`) values exist in the `\"Annual Income\"` column.  \n",
    "- The output **(21,000 missing values)** tells us that a **large number of people did not report their income**.\n",
    "\n",
    "🔹 **What Happens Next?**  \n",
    "- The missing values will be **filled (imputed) using values from other columns** later.\n",
    "\n",
    "---\n",
    "\n",
    "#### **🔹 Final Summary (In Simple Words)**\n",
    "✅ **Step 1:** We checked income distribution and found that **income above ₹239,287 is too high (outlier)** because it is in the top **1% of the dataset** and occurs very rarely.  \n",
    "✅ **Step 2:** We **capped all extreme incomes to ₹239,287** to prevent them from affecting analysis.  \n",
    "✅ **Step 3:** We **found 21,000 missing values in Annual Income** and will fill them later.\n"
   ]
  },
  {
   "cell_type": "markdown",
   "id": "44d2cc90-fc8e-4546-83f0-479fa68df148",
   "metadata": {
    "jp-MarkdownHeadingCollapsed": true
   },
   "source": [
    "### Loan Purpose"
   ]
  },
  {
   "cell_type": "code",
   "execution_count": 27,
   "id": "7d0145f7-2edc-46db-a796-be7f486278cb",
   "metadata": {},
   "outputs": [
    {
     "data": {
      "text/plain": [
       "Purpose\n",
       "Debt Consolidation      70447\n",
       "Home Improvements        5206\n",
       "other                    4917\n",
       "Other                    2850\n",
       "Business Loan            1328\n",
       "Buy a Car                1196\n",
       "Medical Bills             955\n",
       "Buy House                 559\n",
       "Take a Trip               454\n",
       "major_purchase            344\n",
       "small_business            248\n",
       "moving                    124\n",
       "wedding                    99\n",
       "Educational Expenses       92\n",
       "vacation                   82\n",
       "renewable_energy            9\n",
       "Name: count, dtype: int64"
      ]
     },
     "execution_count": 27,
     "metadata": {},
     "output_type": "execute_result"
    }
   ],
   "source": [
    "#### Loan Purpose \n",
    "\n",
    "data['Purpose'].value_counts()\n",
    "#So other and Other mean the same thing. Lets make it the same\n"
   ]
  },
  {
   "cell_type": "code",
   "execution_count": 28,
   "id": "95ae6700-e517-4b64-a19d-ca696167827a",
   "metadata": {},
   "outputs": [],
   "source": [
    "data['Purpose']=data['Purpose'].str.replace('Other', 'other', regex=True)"
   ]
  },
  {
   "cell_type": "markdown",
   "id": "410c390d-37b1-458d-a463-9d5d598810f0",
   "metadata": {
    "jp-MarkdownHeadingCollapsed": true
   },
   "source": [
    "### Monthly debt "
   ]
  },
  {
   "cell_type": "code",
   "execution_count": 29,
   "id": "dacfb85f-11fd-4268-af2c-987802fdbf15",
   "metadata": {},
   "outputs": [
    {
     "data": {
      "text/plain": [
       "count     88910\n",
       "unique    76609\n",
       "top           0\n",
       "freq         55\n",
       "Name: Monthly Debt, dtype: object"
      ]
     },
     "execution_count": 29,
     "metadata": {},
     "output_type": "execute_result"
    }
   ],
   "source": [
    "### Monthly debt \n",
    "\n",
    "data['Monthly Debt'].describe()\n",
    "##So this is not numeric column. Lets explore"
   ]
  },
  {
   "cell_type": "code",
   "execution_count": 30,
   "id": "be6887fd-d8ad-4c5d-ad62-9056478e0bf4",
   "metadata": {},
   "outputs": [
    {
     "data": {
      "text/plain": [
       "0         777.39\n",
       "1         892.09\n",
       "2        1244.02\n",
       "3         990.94\n",
       "4         503.71\n",
       "          ...   \n",
       "88905     567.62\n",
       "88906    2508.63\n",
       "88907      818.2\n",
       "88908     360.17\n",
       "88909     749.13\n",
       "Name: Monthly Debt, Length: 88910, dtype: object"
      ]
     },
     "execution_count": 30,
     "metadata": {},
     "output_type": "execute_result"
    }
   ],
   "source": [
    "data['Monthly Debt'] \n",
    "# But this should be a numeric column. So lets convert it to float"
   ]
  },
  {
   "cell_type": "code",
   "execution_count": 31,
   "id": "17c95705-98f8-452a-a6d3-c1526f260a4f",
   "metadata": {},
   "outputs": [
    {
     "data": {
      "text/plain": [
       "array(['777.39', '892.09', '1244.02', ..., 2508.63, 818.2, 360.17],\n",
       "      dtype=object)"
      ]
     },
     "execution_count": 31,
     "metadata": {},
     "output_type": "execute_result"
    }
   ],
   "source": [
    "data['Monthly Debt'].unique()"
   ]
  },
  {
   "cell_type": "code",
   "execution_count": 32,
   "id": "d1b58407-0220-480d-8134-cc491884ff23",
   "metadata": {},
   "outputs": [
    {
     "ename": "ValueError",
     "evalue": "Unable to parse string \"$1051.41\" at position 10",
     "output_type": "error",
     "traceback": [
      "\u001b[1;31m---------------------------------------------------------------------------\u001b[0m",
      "\u001b[1;31mValueError\u001b[0m                                Traceback (most recent call last)",
      "File \u001b[1;32mlib.pyx:2391\u001b[0m, in \u001b[0;36mpandas._libs.lib.maybe_convert_numeric\u001b[1;34m()\u001b[0m\n",
      "\u001b[1;31mValueError\u001b[0m: Unable to parse string \"$1051.41\"",
      "\nDuring handling of the above exception, another exception occurred:\n",
      "\u001b[1;31mValueError\u001b[0m                                Traceback (most recent call last)",
      "Cell \u001b[1;32mIn[32], line 1\u001b[0m\n\u001b[1;32m----> 1\u001b[0m \u001b[43mpd\u001b[49m\u001b[38;5;241;43m.\u001b[39;49m\u001b[43mto_numeric\u001b[49m\u001b[43m(\u001b[49m\u001b[43mdata\u001b[49m\u001b[43m[\u001b[49m\u001b[38;5;124;43m'\u001b[39;49m\u001b[38;5;124;43mMonthly Debt\u001b[39;49m\u001b[38;5;124;43m'\u001b[39;49m\u001b[43m]\u001b[49m\u001b[43m \u001b[49m\u001b[43m)\u001b[49m\n",
      "File \u001b[1;32mc:\\Users\\kumar\\anaconda3\\Lib\\site-packages\\pandas\\core\\tools\\numeric.py:232\u001b[0m, in \u001b[0;36mto_numeric\u001b[1;34m(arg, errors, downcast, dtype_backend)\u001b[0m\n\u001b[0;32m    230\u001b[0m coerce_numeric \u001b[38;5;241m=\u001b[39m errors \u001b[38;5;129;01mnot\u001b[39;00m \u001b[38;5;129;01min\u001b[39;00m (\u001b[38;5;124m\"\u001b[39m\u001b[38;5;124mignore\u001b[39m\u001b[38;5;124m\"\u001b[39m, \u001b[38;5;124m\"\u001b[39m\u001b[38;5;124mraise\u001b[39m\u001b[38;5;124m\"\u001b[39m)\n\u001b[0;32m    231\u001b[0m \u001b[38;5;28;01mtry\u001b[39;00m:\n\u001b[1;32m--> 232\u001b[0m     values, new_mask \u001b[38;5;241m=\u001b[39m \u001b[43mlib\u001b[49m\u001b[38;5;241;43m.\u001b[39;49m\u001b[43mmaybe_convert_numeric\u001b[49m\u001b[43m(\u001b[49m\u001b[43m  \u001b[49m\u001b[38;5;66;43;03m# type: ignore[call-overload]\u001b[39;49;00m\n\u001b[0;32m    233\u001b[0m \u001b[43m        \u001b[49m\u001b[43mvalues\u001b[49m\u001b[43m,\u001b[49m\n\u001b[0;32m    234\u001b[0m \u001b[43m        \u001b[49m\u001b[38;5;28;43mset\u001b[39;49m\u001b[43m(\u001b[49m\u001b[43m)\u001b[49m\u001b[43m,\u001b[49m\n\u001b[0;32m    235\u001b[0m \u001b[43m        \u001b[49m\u001b[43mcoerce_numeric\u001b[49m\u001b[38;5;241;43m=\u001b[39;49m\u001b[43mcoerce_numeric\u001b[49m\u001b[43m,\u001b[49m\n\u001b[0;32m    236\u001b[0m \u001b[43m        \u001b[49m\u001b[43mconvert_to_masked_nullable\u001b[49m\u001b[38;5;241;43m=\u001b[39;49m\u001b[43mdtype_backend\u001b[49m\u001b[43m \u001b[49m\u001b[38;5;129;43;01mis\u001b[39;49;00m\u001b[43m \u001b[49m\u001b[38;5;129;43;01mnot\u001b[39;49;00m\u001b[43m \u001b[49m\u001b[43mlib\u001b[49m\u001b[38;5;241;43m.\u001b[39;49m\u001b[43mno_default\u001b[49m\n\u001b[0;32m    237\u001b[0m \u001b[43m        \u001b[49m\u001b[38;5;129;43;01mor\u001b[39;49;00m\u001b[43m \u001b[49m\u001b[38;5;28;43misinstance\u001b[39;49m\u001b[43m(\u001b[49m\u001b[43mvalues_dtype\u001b[49m\u001b[43m,\u001b[49m\u001b[43m \u001b[49m\u001b[43mStringDtype\u001b[49m\u001b[43m)\u001b[49m\n\u001b[0;32m    238\u001b[0m \u001b[43m        \u001b[49m\u001b[38;5;129;43;01mand\u001b[39;49;00m\u001b[43m \u001b[49m\u001b[38;5;129;43;01mnot\u001b[39;49;00m\u001b[43m \u001b[49m\u001b[43mvalues_dtype\u001b[49m\u001b[38;5;241;43m.\u001b[39;49m\u001b[43mstorage\u001b[49m\u001b[43m \u001b[49m\u001b[38;5;241;43m==\u001b[39;49m\u001b[43m \u001b[49m\u001b[38;5;124;43m\"\u001b[39;49m\u001b[38;5;124;43mpyarrow_numpy\u001b[39;49m\u001b[38;5;124;43m\"\u001b[39;49m\u001b[43m,\u001b[49m\n\u001b[0;32m    239\u001b[0m \u001b[43m    \u001b[49m\u001b[43m)\u001b[49m\n\u001b[0;32m    240\u001b[0m \u001b[38;5;28;01mexcept\u001b[39;00m (\u001b[38;5;167;01mValueError\u001b[39;00m, \u001b[38;5;167;01mTypeError\u001b[39;00m):\n\u001b[0;32m    241\u001b[0m     \u001b[38;5;28;01mif\u001b[39;00m errors \u001b[38;5;241m==\u001b[39m \u001b[38;5;124m\"\u001b[39m\u001b[38;5;124mraise\u001b[39m\u001b[38;5;124m\"\u001b[39m:\n",
      "File \u001b[1;32mlib.pyx:2433\u001b[0m, in \u001b[0;36mpandas._libs.lib.maybe_convert_numeric\u001b[1;34m()\u001b[0m\n",
      "\u001b[1;31mValueError\u001b[0m: Unable to parse string \"$1051.41\" at position 10"
     ]
    }
   ],
   "source": [
    "pd.to_numeric(data['Monthly Debt'] )"
   ]
  },
  {
   "cell_type": "code",
   "execution_count": 33,
   "id": "d96f15d0-b1b6-4c9c-b7c4-f1100f8918a9",
   "metadata": {},
   "outputs": [
    {
     "data": {
      "text/plain": [
       "'$1051.41'"
      ]
     },
     "execution_count": 33,
     "metadata": {},
     "output_type": "execute_result"
    }
   ],
   "source": [
    "data['Monthly Debt'][10]"
   ]
  },
  {
   "cell_type": "code",
   "execution_count": 34,
   "id": "3c3b1921-2d42-4207-8cfe-f6e262cd5678",
   "metadata": {},
   "outputs": [],
   "source": [
    "#pd.to_numeric(data['Monthly Debt'] )\n",
    "#As we can see there is a $ symbol present. Lets replace it \n",
    "#data['Monthly Debt']=data['Monthly Debt'].str.replace('$', '')\n",
    "\n",
    "data['Monthly Debt'] = pd.to_numeric(data['Monthly Debt'].astype(str).str.replace(r'[^\\d.]', '', regex=True), errors='coerce')\n"
   ]
  },
  {
   "cell_type": "code",
   "execution_count": 35,
   "id": "6679990c-8957-4517-a296-374c17d0f569",
   "metadata": {},
   "outputs": [
    {
     "data": {
      "text/plain": [
       "0         777.39\n",
       "1         892.09\n",
       "2        1244.02\n",
       "3         990.94\n",
       "4         503.71\n",
       "          ...   \n",
       "88905     567.62\n",
       "88906    2508.63\n",
       "88907     818.20\n",
       "88908     360.17\n",
       "88909     749.13\n",
       "Name: Monthly Debt, Length: 88910, dtype: float64"
      ]
     },
     "execution_count": 35,
     "metadata": {},
     "output_type": "execute_result"
    }
   ],
   "source": [
    "data['Monthly Debt']"
   ]
  },
  {
   "cell_type": "code",
   "execution_count": 36,
   "id": "ed4c153d-0c0d-4938-acdf-0e5c70cbc181",
   "metadata": {},
   "outputs": [
    {
     "name": "stdout",
     "output_type": "stream",
     "text": [
      "<class 'pandas.core.frame.DataFrame'>\n",
      "Index: 88910 entries, 0 to 88909\n",
      "Data columns (total 1 columns):\n",
      " #   Column        Non-Null Count  Dtype  \n",
      "---  ------        --------------  -----  \n",
      " 0   Monthly Debt  88910 non-null  float64\n",
      "dtypes: float64(1)\n",
      "memory usage: 3.4 MB\n"
     ]
    }
   ],
   "source": [
    "data[['Monthly Debt']].info()"
   ]
  },
  {
   "cell_type": "code",
   "execution_count": 37,
   "id": "e3dd87cc-adb1-4dec-b8ed-5584cca6ccae",
   "metadata": {},
   "outputs": [
    {
     "name": "stderr",
     "output_type": "stream",
     "text": [
      "C:\\Users\\kumar\\AppData\\Local\\Temp\\ipykernel_20372\\1456356280.py:1: UserWarning: \n",
      "\n",
      "`distplot` is a deprecated function and will be removed in seaborn v0.14.0.\n",
      "\n",
      "Please adapt your code to use either `displot` (a figure-level function with\n",
      "similar flexibility) or `histplot` (an axes-level function for histograms).\n",
      "\n",
      "For a guide to updating your code to use the new functions, please see\n",
      "https://gist.github.com/mwaskom/de44147ed2974457ad6372750bbe5751\n",
      "\n",
      "  sns.distplot(data[\"Monthly Debt\"])\n"
     ]
    },
    {
     "data": {
      "text/plain": [
       "<Axes: xlabel='Monthly Debt', ylabel='Density'>"
      ]
     },
     "execution_count": 37,
     "metadata": {},
     "output_type": "execute_result"
    },
    {
     "data": {
      "image/png": "[encoded data removed]",
      "text/plain": [
       "<Figure size 640x480 with 1 Axes>"
      ]
     },
     "metadata": {},
     "output_type": "display_data"
    }
   ],
   "source": [
    "sns.distplot(data[\"Monthly Debt\"])"
   ]
  },
  {
   "cell_type": "code",
   "execution_count": 38,
   "id": "67bd4a3d-c46f-4a90-b7a9-f26f384964ca",
   "metadata": {},
   "outputs": [
    {
     "data": {
      "text/plain": [
       "count    88910.000000\n",
       "mean       963.102059\n",
       "std        637.524064\n",
       "min          0.000000\n",
       "25%        532.220000\n",
       "50%        843.925000\n",
       "75%       1250.527500\n",
       "max      22939.120000\n",
       "Name: Monthly Debt, dtype: float64"
      ]
     },
     "execution_count": 38,
     "metadata": {},
     "output_type": "execute_result"
    }
   ],
   "source": [
    "#We can see that there are outliers in this data because of the plot\n",
    "#Lets explore\n",
    "\n",
    "data['Monthly Debt'].describe()\n",
    "#The max value is too high here"
   ]
  },
  {
   "cell_type": "code",
   "execution_count": 39,
   "id": "d162bfc6-c984-45ae-aea0-cf12a9789fde",
   "metadata": {},
   "outputs": [
    {
     "data": {
      "text/plain": [
       "0.200     463.75000\n",
       "0.750    1250.52750\n",
       "0.900    1743.08300\n",
       "0.950    2115.51100\n",
       "0.990    3087.11100\n",
       "0.999    4926.37475\n",
       "Name: Monthly Debt, dtype: float64"
      ]
     },
     "execution_count": 39,
     "metadata": {},
     "output_type": "execute_result"
    }
   ],
   "source": [
    "data['Monthly Debt'].quantile([.2,0.75,0.90,.95,0.99,.999])"
   ]
  },
  {
   "cell_type": "code",
   "execution_count": 40,
   "id": "ba01d086-dbe8-44c4-b53c-1b089ac99a73",
   "metadata": {},
   "outputs": [
    {
     "data": {
      "text/plain": [
       "0.9995    5482.111455\n",
       "0.9999    7774.610660\n",
       "Name: Monthly Debt, dtype: float64"
      ]
     },
     "execution_count": 40,
     "metadata": {},
     "output_type": "execute_result"
    }
   ],
   "source": [
    "#Problem is with 99th percentile. lets dig deeper\n",
    "\n",
    "data['Monthly Debt'].quantile([0.9995,.9999])\n",
    "#So problem again is wit 99th percentile\n"
   ]
  },
  {
   "cell_type": "code",
   "execution_count": 41,
   "id": "442118f9-b7e8-480f-ac4b-d0f55b4c0e4a",
   "metadata": {},
   "outputs": [
    {
     "data": {
      "text/plain": [
       "0.99970     5978.574911\n",
       "0.99999    13262.762330\n",
       "Name: Monthly Debt, dtype: float64"
      ]
     },
     "execution_count": 41,
     "metadata": {},
     "output_type": "execute_result"
    }
   ],
   "source": [
    "data['Monthly Debt'].quantile([0.9997,.99999])\n",
    "#0.99970     5978.574911\n",
    "#0.99999    13262.762330|"
   ]
  },
  {
   "cell_type": "code",
   "execution_count": 42,
   "id": "3ab4d15f-5c0b-46af-a655-d4525d2b5f13",
   "metadata": {},
   "outputs": [
    {
     "data": {
      "text/plain": [
       "0.999900     7774.610660\n",
       "0.999999    21971.484233\n",
       "Name: Monthly Debt, dtype: float64"
      ]
     },
     "execution_count": 42,
     "metadata": {},
     "output_type": "execute_result"
    }
   ],
   "source": [
    "data['Monthly Debt'].quantile([0.9999,.999999])"
   ]
  },
  {
   "cell_type": "code",
   "execution_count": 43,
   "id": "87453554-70f5-4992-b908-12ba06911c5c",
   "metadata": {},
   "outputs": [],
   "source": [
    "data.loc[data['Monthly Debt'] > 5979, 'Monthly Debt'] = 5979"
   ]
  },
  {
   "cell_type": "code",
   "execution_count": 44,
   "id": "9b58b2fd-5f73-421f-9a36-2a7838251f02",
   "metadata": {},
   "outputs": [
    {
     "name": "stderr",
     "output_type": "stream",
     "text": [
      "C:\\Users\\kumar\\AppData\\Local\\Temp\\ipykernel_20372\\1456356280.py:1: UserWarning: \n",
      "\n",
      "`distplot` is a deprecated function and will be removed in seaborn v0.14.0.\n",
      "\n",
      "Please adapt your code to use either `displot` (a figure-level function with\n",
      "similar flexibility) or `histplot` (an axes-level function for histograms).\n",
      "\n",
      "For a guide to updating your code to use the new functions, please see\n",
      "https://gist.github.com/mwaskom/de44147ed2974457ad6372750bbe5751\n",
      "\n",
      "  sns.distplot(data[\"Monthly Debt\"])\n"
     ]
    },
    {
     "data": {
      "text/plain": [
       "<Axes: xlabel='Monthly Debt', ylabel='Density'>"
      ]
     },
     "execution_count": 44,
     "metadata": {},
     "output_type": "execute_result"
    },
    {
     "data": {
      "image/png": "[encoded data removed]",
      "text/plain": [
       "<Figure size 640x480 with 1 Axes>"
      ]
     },
     "metadata": {},
     "output_type": "display_data"
    }
   ],
   "source": [
    "sns.distplot(data[\"Monthly Debt\"])"
   ]
  },
  {
   "cell_type": "markdown",
   "id": "c2ac1fd9-a0b6-42aa-9421-a2ea79959bc5",
   "metadata": {},
   "source": [
    "#### **📌 Complete Explanation of \"Monthly Debt\" Outlier Analysis**  \n",
    "\n",
    "We analyzed the **\"Monthly Debt\"** column in depth to detect **extreme values (outliers)** that could affect our data analysis and machine learning models. Let's go step by step.  \n",
    "\n",
    "---\n",
    "\n",
    "#### **🔹 1. Why Are We Analyzing \"Monthly Debt\" in Detail?**  \n",
    "We checked different columns like **\"Annual Income\"** and **\"Credit Score\"**, but those didn’t show major issues.  \n",
    "\n",
    "However, when we checked **\"Monthly Debt\"**, we noticed **strange behavior in high percentiles**:  \n",
    "✅ Up to **99%**, the debt values increased normally.  \n",
    "❌ **Beyond 99%, the debt started increasing rapidly**, suggesting **outliers or possible errors**.  \n",
    "\n",
    "---\n",
    "\n",
    "#### **🔹 2. Checking Debt Distribution (Percentile Analysis)**  \n",
    "\n",
    "We checked **how \"Monthly Debt\" values are distributed** using percentiles.  \n",
    "\n",
    "#### **Step 1: General Debt Distribution (Up to 99.9%)**\n",
    "```python\n",
    "data['Monthly Debt'].quantile([.2, 0.75, 0.90, 0.95, 0.99, .999])\n",
    "```\n",
    "✅ **Output:**\n",
    "| **Percentile (Rank of People)** | **Debt Value (₹)** | **Meaning** |\n",
    "|--------------|------------------|----------------|\n",
    "| **20% (Q20)** | ₹464 | 20% of people have debt below ₹464 |\n",
    "| **75% (Q75)** | ₹1,251 | 75% of people have debt below ₹1,251 |\n",
    "| **90% (Q90)** | ₹1,740 | 90% of people have debt below ₹1,740 |\n",
    "| **95% (Q95)** | ₹2,112 | 95% of people have debt below ₹2,112 |\n",
    "| **99% (Q99)** | ₹3,084 | 99% of people have debt below ₹3,084 |\n",
    "| **99.9% (Q999)** | ₹4,927 | The top **0.1% of people have extreme debt** |\n",
    "\n",
    "✅ **Observations:**  \n",
    "- **Most people have debt below ₹3,000**, which seems normal.  \n",
    "- **At 99.9%, debt increases to ₹4,927**, which is **higher than expected** but still reasonable.  \n",
    "\n",
    "🔹 **Next Step?** Since we see **some increase at 99.9%**, let’s check even higher percentiles.\n",
    "\n",
    "---\n",
    "\n",
    "#### **Step 2: Looking at the 99.95% and 99.99%**\n",
    "```python\n",
    "data['Monthly Debt'].quantile([0.9995, 0.9999])\n",
    "```\n",
    "✅ **Output:**\n",
    "| **Percentile (Rank of People)** | **Debt Value (₹)** | **Meaning** |\n",
    "|--------------|------------------|----------------|\n",
    "| **99.95% (Q99.95)** | ₹5,513 | The top **0.05% of people** have debt above ₹5,513 |\n",
    "| **99.99% (Q99.99)** | ₹7,719 | The top **0.01% of people** have debt above ₹7,719 |\n",
    "\n",
    "✅ **Observations:**  \n",
    "- **From 99.9% to 99.99%, debt jumps from ₹4,927 → ₹7,719**.  \n",
    "- This **jump is too big compared to previous increases**, suggesting **possible outliers or special cases**.  \n",
    "\n",
    "🔹 **Next Step?** We need to check **even higher percentiles** to see if the trend continues.\n",
    "\n",
    "---\n",
    "\n",
    "#### **Step 3: Checking 99.97% and 99.999%**\n",
    "```python\n",
    "data['Monthly Debt'].quantile([0.9997, 0.99999])\n",
    "```\n",
    "✅ **Output:**\n",
    "| **Percentile (Rank of People)** | **Debt Value (₹)** | **Meaning** |\n",
    "|--------------|------------------|----------------|\n",
    "| **99.97% (Q99.97)** | ₹5,979 | The top **0.03% of people** have debt above ₹5,979 |\n",
    "| **99.999% (Q99.999)** | ₹11,253 | The top **0.001% of people** have debt above ₹11,253 |\n",
    "\n",
    "✅ **Observations:**  \n",
    "- The **top 0.03% have debt around ₹5,979**, which is still acceptable.  \n",
    "- But **the top 0.001% have debt over ₹11,000**, which is **much higher than normal**.  \n",
    "- **This confirms that some extreme values may be errors or unrealistic cases.**  \n",
    "\n",
    "🔹 **Next Step?** We should check **even higher percentiles to confirm if these are real outliers**.\n",
    "\n",
    "---\n",
    "\n",
    "#### **Step 4: Checking 99.9999%**\n",
    "```python\n",
    "data['Monthly Debt'].quantile([0.9999, 0.999999])\n",
    "```\n",
    "✅ **Output:**\n",
    "| **Percentile (Rank of People)** | **Debt Value (₹)** | **Meaning** |\n",
    "|--------------|------------------|----------------|\n",
    "| **99.99% (Q99.99)** | ₹7,774 | The top **0.01% of people** have debt above ₹7,774 |\n",
    "| **99.9999% (Q99.9999)** | ₹21,971 | The top **0.0001% of people** have debt above ₹21,971 |\n",
    "\n",
    "✅ **Observations:**  \n",
    "- **At 99.99%, debt is ₹7,774**, which is **already very high**.  \n",
    "- **At 99.9999%, debt jumps to ₹21,971!** This is **way beyond the normal range**.  \n",
    "\n",
    "🔹 **Conclusion?**  \n",
    "- The **top 0.001% have extremely high debt, which is very different from the rest of the dataset**.  \n",
    "- This suggests that **some of these values might be errors** or special cases.  \n",
    "\n",
    "---\n",
    "\n",
    "#### **🔹 3. Why Are These High Values a Problem?**\n",
    "✅ **Machine Learning Models Can Be Affected**  \n",
    "- If most people have **₹1,000-₹3,000 debt**, but a few have **₹20,000+**, **models might make wrong predictions**.  \n",
    "\n",
    "✅ **Could Be Data Entry Errors**  \n",
    "- Maybe someone **accidentally entered ₹20,000 instead of ₹2,000**.  \n",
    "\n",
    "✅ **Extreme Values Distort Averages**  \n",
    "- If we **calculate the average (mean), these high values will inflate it**, making the dataset **misleading**.  \n",
    "\n",
    "---\n",
    "\n",
    "#### **🔹 4. What Should We Do Next?**\n",
    "Now, we need to **decide a cutoff point** to remove extreme values.\n",
    "\n",
    "#### **Option 1: Cap at ₹5,979 (99.97 percentile)**\n",
    "```python\n",
    "data.loc[data['Monthly Debt'] > 5979, 'Monthly Debt'] = 5979\n",
    "```\n",
    "✅ **Removes extreme values beyond ₹5,979**  \n",
    "✅ **Keeps most of the data intact**  \n",
    "\n",
    "#### **Option 2: Cap at ₹7,774 (99.99 percentile)**\n",
    "```python\n",
    "data.loc[data['Monthly Debt'] > 7774, 'Monthly Debt'] = 7774\n",
    "```\n",
    "✅ **Keeps more extreme values but removes the worst ones**  \n",
    "\n",
    "#### **Option 3: Cap at ₹21,971 (99.9999 percentile)**\n",
    "```python\n",
    "data.loc[data['Monthly Debt'] > 21971, 'Monthly Debt'] = 21971\n",
    "```\n",
    "✅ **Keeps almost all values except the absolute highest ones**  \n",
    "\n",
    "---\n",
    "\n",
    "#### **🔹 5. Final Conclusion: Why Did We Do This?**\n",
    "✅ **We checked \"Monthly Debt\" because it showed extreme values beyond 99%.**  \n",
    "✅ **We found that some people had extremely high debt (₹21,971), which was much higher than expected.**  \n",
    "✅ **These extreme values could be errors or special cases, so we must decide how to handle them.**  \n",
    "✅ **We now have options to cap debt at ₹5,979, ₹7,774, or ₹21,971 to avoid misleading analysis.**  \n"
   ]
  },
  {
   "cell_type": "markdown",
   "id": "7e487d09-70cb-4bc7-b3cb-b6e9b93a6d5b",
   "metadata": {},
   "source": [
    "#### **📌 Why Should We Cap Debt at ₹5,979? (Simple Explanation)**  \n",
    "\n",
    "We analyzed **\"Monthly Debt\"** and found that **some people have very high debt values**, which could be errors or extreme cases.  \n",
    "\n",
    "✅ **Why Cap at ₹5,979 (99.97 percentile)?**  \n",
    "1️⃣ **Most people have debt below ₹3,000**, and even at 99%, it's around ₹3,084.  \n",
    "2️⃣ **Beyond ₹5,979, the debt values start increasing rapidly**, meaning only a tiny percentage of people have such high values.  \n",
    "3️⃣ **Debt above ₹5,979 is likely an outlier** and could **mislead our analysis** if not handled.  \n",
    "4️⃣ **It prevents extreme values (like ₹21,971) from distorting the dataset**, while still keeping **99.97% of real data intact**.  \n",
    "5️⃣ **A balance between keeping valid data and removing errors**, making our dataset cleaner and more reliable.  \n",
    "\n",
    "---\n",
    "\n",
    "✅ **Final Step:**\n",
    "```python\n",
    "data.loc[data['Monthly Debt'] > 5979, 'Monthly Debt'] = 5979\n",
    "```\n",
    "This will **cap all extreme values at ₹5,979** and ensure our analysis and predictions remain accurate.  \n",
    "\n",
    "---"
   ]
  },
  {
   "cell_type": "markdown",
   "id": "212b926e-d293-4bb2-ad2d-89f36cfdfb27",
   "metadata": {},
   "source": [
    "#### **📌 What Does This Graph Show?**  \n",
    "\n",
    "This is the **density distribution of \"Monthly Debt\" after capping outliers at ₹5,979**.  \n",
    "\n",
    "---\n",
    "\n",
    "#### **🔹 Key Observations from the Graph**  \n",
    "✅ **1. The distribution looks more natural now.**  \n",
    "- Earlier, the dataset had **extreme values beyond ₹21,971**, which were distorting the data.  \n",
    "- Now, **most values are concentrated below ₹3,000**, which makes sense.  \n",
    "\n",
    "✅ **2. The tail of the distribution (right side) is now limited at ₹5,979.**  \n",
    "- Any **debt values beyond ₹5,979 were capped**, which is why we don’t see extreme peaks anymore.  \n",
    "- This prevents **outliers from influencing the data**.  \n",
    "\n",
    "✅ **3. The skewness is reduced, but the dataset is still slightly right-skewed.**  \n",
    "- This is **expected** because **debt is naturally higher for some people**.  \n",
    "- However, it’s now **controlled and doesn’t have extreme values** affecting it.  \n",
    "\n",
    "---\n",
    "\n",
    "#### **🔹 What Did We Achieve By Capping at ₹5,979?**  \n",
    "1️⃣ **Removed extreme outliers** that could mislead our analysis.  \n",
    "2️⃣ **Kept 99.97% of real data intact**, ensuring the dataset remains useful.  \n",
    "3️⃣ **Made the dataset cleaner and more reliable** for machine learning models.  \n",
    "4️⃣ **Ensured that our average debt value is not inflated by a few extreme cases.**  \n",
    "\n",
    "---\n",
    "\n",
    "#### **🔹 Next Steps**\n",
    "✅ **If you want further improvement, we can apply a log transformation** to make it more normal.  \n",
    "✅ **We can now use this cleaned data for further analysis or machine learning models.**  "
   ]
  },
  {
   "cell_type": "markdown",
   "id": "14b92f8e-b39d-446e-b605-ffe28bd96992",
   "metadata": {},
   "source": [
    "### Years of credit history "
   ]
  },
  {
   "cell_type": "code",
   "execution_count": 45,
   "id": "65cfd0e2-474b-4f0a-94b0-32c0da9be8aa",
   "metadata": {},
   "outputs": [
    {
     "name": "stderr",
     "output_type": "stream",
     "text": [
      "C:\\Users\\kumar\\AppData\\Local\\Temp\\ipykernel_20372\\1129185210.py:6: UserWarning: \n",
      "\n",
      "`distplot` is a deprecated function and will be removed in seaborn v0.14.0.\n",
      "\n",
      "Please adapt your code to use either `displot` (a figure-level function with\n",
      "similar flexibility) or `histplot` (an axes-level function for histograms).\n",
      "\n",
      "For a guide to updating your code to use the new functions, please see\n",
      "https://gist.github.com/mwaskom/de44147ed2974457ad6372750bbe5751\n",
      "\n",
      "  sns.distplot(data[\"Years of Credit History\"])\n"
     ]
    },
    {
     "data": {
      "text/plain": [
       "<Axes: xlabel='Years of Credit History', ylabel='Density'>"
      ]
     },
     "execution_count": 45,
     "metadata": {},
     "output_type": "execute_result"
    },
    {
     "data": {
      "image/png": "[encoded data removed]",
      "text/plain": [
       "<Figure size 640x480 with 1 Axes>"
      ]
     },
     "metadata": {},
     "output_type": "display_data"
    }
   ],
   "source": [
    "### Years of credit history \n",
    "\n",
    "data['Years of Credit History'].value_counts()\n",
    "\n",
    "\n",
    "sns.distplot(data[\"Years of Credit History\"])\n",
    "#Over all looks pretty clean! no need of doing anything"
   ]
  },
  {
   "cell_type": "markdown",
   "id": "f717db66-4b92-40bf-8c8e-788eb0406b0c",
   "metadata": {},
   "source": [
    "### Months since last delinquent"
   ]
  },
  {
   "cell_type": "code",
   "execution_count": 46,
   "id": "c06317ff-90be-43bf-97be-e064d3443be0",
   "metadata": {},
   "outputs": [
    {
     "data": {
      "text/plain": [
       "count    40404.000000\n",
       "mean        35.080289\n",
       "std         22.008583\n",
       "min          0.000000\n",
       "25%         16.000000\n",
       "50%         32.000000\n",
       "75%         51.000000\n",
       "max        176.000000\n",
       "Name: Months since last delinquent, dtype: float64"
      ]
     },
     "execution_count": 46,
     "metadata": {},
     "output_type": "execute_result"
    }
   ],
   "source": [
    "### Months since last delinquent\n",
    "data['Months since last delinquent'].describe()"
   ]
  },
  {
   "cell_type": "code",
   "execution_count": 47,
   "id": "98e0a9dc-f58b-4021-803a-683805ad1af2",
   "metadata": {},
   "outputs": [
    {
     "data": {
      "text/plain": [
       "np.int64(48506)"
      ]
     },
     "execution_count": 47,
     "metadata": {},
     "output_type": "execute_result"
    }
   ],
   "source": [
    "#Lets check if there are any NA's\n",
    "data['Months since last delinquent'].isna().sum()\n",
    "#We have nearly 48506 NA;s. We will try to handle them at last "
   ]
  },
  {
   "cell_type": "markdown",
   "id": "5f67241c-6d44-444f-aa82-d3d425d4aa35",
   "metadata": {},
   "source": [
    "### Number of open accounts "
   ]
  },
  {
   "cell_type": "code",
   "execution_count": 48,
   "id": "6dcede6b-2b8e-41b0-8d48-befcf5b8cea6",
   "metadata": {},
   "outputs": [
    {
     "data": {
      "text/plain": [
       "count    88910.000000\n",
       "mean        11.110348\n",
       "std          4.978461\n",
       "min          0.000000\n",
       "25%          8.000000\n",
       "50%         10.000000\n",
       "75%         14.000000\n",
       "max         76.000000\n",
       "Name: Number of Open Accounts, dtype: float64"
      ]
     },
     "execution_count": 48,
     "metadata": {},
     "output_type": "execute_result"
    }
   ],
   "source": [
    "### Number of open accounts \n",
    "\n",
    "data['Number of Open Accounts'].describe()\n",
    "#The max number seems odd. Lets investigate\n"
   ]
  },
  {
   "cell_type": "code",
   "execution_count": 49,
   "id": "84f167f3-cc4e-4d24-b49b-6d82f346e9b1",
   "metadata": {},
   "outputs": [
    {
     "name": "stderr",
     "output_type": "stream",
     "text": [
      "C:\\Users\\kumar\\AppData\\Local\\Temp\\ipykernel_20372\\2754362931.py:1: UserWarning: \n",
      "\n",
      "`distplot` is a deprecated function and will be removed in seaborn v0.14.0.\n",
      "\n",
      "Please adapt your code to use either `displot` (a figure-level function with\n",
      "similar flexibility) or `histplot` (an axes-level function for histograms).\n",
      "\n",
      "For a guide to updating your code to use the new functions, please see\n",
      "https://gist.github.com/mwaskom/de44147ed2974457ad6372750bbe5751\n",
      "\n",
      "  sns.distplot(data['Number of Open Accounts'])\n"
     ]
    },
    {
     "data": {
      "text/plain": [
       "<Axes: xlabel='Number of Open Accounts', ylabel='Density'>"
      ]
     },
     "execution_count": 49,
     "metadata": {},
     "output_type": "execute_result"
    },
    {
     "data": {
      "image/png": "[encoded data removed]",
      "text/plain": [
       "<Figure size 640x480 with 1 Axes>"
      ]
     },
     "metadata": {},
     "output_type": "display_data"
    }
   ],
   "source": [
    "sns.distplot(data['Number of Open Accounts'])\n",
    "#Yes there are outliers in this columns. Let dig deeper"
   ]
  },
  {
   "cell_type": "code",
   "execution_count": 50,
   "id": "aea4724c-8da3-4ba3-bfbb-151c69bb3198",
   "metadata": {},
   "outputs": [
    {
     "data": {
      "text/plain": [
       "0.750    14.0\n",
       "0.999    36.0\n",
       "1.000    76.0\n",
       "Name: Number of Open Accounts, dtype: float64"
      ]
     },
     "execution_count": 50,
     "metadata": {},
     "output_type": "execute_result"
    }
   ],
   "source": [
    "data['Number of Open Accounts'].quantile([0.75,0.999,1])\n",
    "#Ok so replacing anything greater than 99th percentile with 99th percentile values\n"
   ]
  },
  {
   "cell_type": "code",
   "execution_count": 51,
   "id": "89cf504f-bedb-49fc-8081-25d90f9562bf",
   "metadata": {},
   "outputs": [
    {
     "name": "stderr",
     "output_type": "stream",
     "text": [
      "C:\\Users\\kumar\\AppData\\Local\\Temp\\ipykernel_20372\\147085565.py:3: UserWarning: \n",
      "\n",
      "`distplot` is a deprecated function and will be removed in seaborn v0.14.0.\n",
      "\n",
      "Please adapt your code to use either `displot` (a figure-level function with\n",
      "similar flexibility) or `histplot` (an axes-level function for histograms).\n",
      "\n",
      "For a guide to updating your code to use the new functions, please see\n",
      "https://gist.github.com/mwaskom/de44147ed2974457ad6372750bbe5751\n",
      "\n",
      "  sns.distplot(data['Number of Open Accounts'])\n"
     ]
    },
    {
     "data": {
      "text/plain": [
       "<Axes: xlabel='Number of Open Accounts', ylabel='Density'>"
      ]
     },
     "execution_count": 51,
     "metadata": {},
     "output_type": "execute_result"
    },
    {
     "data": {
      "image/png": "[encoded data removed]",
      "text/plain": [
       "<Figure size 640x480 with 1 Axes>"
      ]
     },
     "metadata": {},
     "output_type": "display_data"
    }
   ],
   "source": [
    "data.loc[data['Number of Open Accounts'] > 36, 'Number of Open Accounts'] = 36\n",
    "\n",
    "sns.distplot(data['Number of Open Accounts'])\n",
    "#Looks good now"
   ]
  },
  {
   "cell_type": "markdown",
   "id": "62d6ae43-1ac3-4243-a950-1a5ce7f8c4b0",
   "metadata": {},
   "source": [
    "#### **📌 Explanation of the Code and Output**  \n",
    "\n",
    "1️⃣ **Checking Outliers in \"Number of Open Accounts\"**  \n",
    "```python\n",
    "data['Number of Open Accounts'].quantile([0.75, 0.999, 1])\n",
    "```\n",
    "✅ The output shows:\n",
    "   - **75th percentile (Q3)** = 14 (Most people have ≤14 accounts).  \n",
    "   - **99.9th percentile** = 36 (Only 0.1% of people have more than 36 accounts).  \n",
    "   - **Maximum value** = 76 (This is an extreme case and likely an outlier).  \n",
    "\n",
    "2️⃣ **Capping Extreme Values at the 99.9th Percentile (36)**  \n",
    "```python\n",
    "data.loc[data['Number of Open Accounts'] > 36, 'Number of Open Accounts'] = 36\n",
    "```\n",
    "✅ **Why?** To prevent extreme values (like 76) from affecting the dataset.  \n",
    "✅ **Now, no one has more than 36 open accounts.**  \n",
    "\n",
    "3️⃣ **Plotting the Updated Distribution**  \n",
    "```python\n",
    "sns.displot(data['Number of Open Accounts'])\n",
    "```\n",
    "❌ Warning: `displot()` is deprecated in Seaborn v0.14.  \n",
    "\n",
    "✅ The new graph confirms that **outliers have been capped, and the distribution looks normal.**  \n",
    "\n",
    "---\n",
    "\n",
    "#### **🔹 Why Did We Do This?**\n",
    "- **Before capping:** Some people had **76 open accounts**, which is unrealistic.  \n",
    "- **After capping:** We **limited extreme values at 36**, keeping the data more reliable.  \n",
    "\n",
    "📌 **Next Step:** Continue with further analysis using the cleaned data! 🚀"
   ]
  },
  {
   "cell_type": "markdown",
   "id": "3bfef430-5c96-4818-abbb-f3609b1ecbb4",
   "metadata": {},
   "source": [
    "### Number of Credit problems"
   ]
  },
  {
   "cell_type": "code",
   "execution_count": 52,
   "id": "6dc1e18f-77d8-491b-9aaf-a12d1f9c611e",
   "metadata": {},
   "outputs": [
    {
     "name": "stderr",
     "output_type": "stream",
     "text": [
      "C:\\Users\\kumar\\AppData\\Local\\Temp\\ipykernel_20372\\3913706978.py:6: UserWarning: \n",
      "\n",
      "`distplot` is a deprecated function and will be removed in seaborn v0.14.0.\n",
      "\n",
      "Please adapt your code to use either `displot` (a figure-level function with\n",
      "similar flexibility) or `histplot` (an axes-level function for histograms).\n",
      "\n",
      "For a guide to updating your code to use the new functions, please see\n",
      "https://gist.github.com/mwaskom/de44147ed2974457ad6372750bbe5751\n",
      "\n",
      "  sns.distplot(data['Number of Credit Problems'])\n"
     ]
    },
    {
     "data": {
      "text/plain": [
       "<Axes: xlabel='Number of Credit Problems', ylabel='Density'>"
      ]
     },
     "execution_count": 52,
     "metadata": {},
     "output_type": "execute_result"
    },
    {
     "data": {
      "image/png": "[encoded data removed]",
      "text/plain": [
       "<Figure size 640x480 with 1 Axes>"
      ]
     },
     "metadata": {},
     "output_type": "display_data"
    }
   ],
   "source": [
    "### Number of Credit problems\n",
    "\n",
    "data['Number of Credit Problems'].describe() \n",
    "#Max looks a bit higher. Lets see\n",
    "\n",
    "sns.distplot(data['Number of Credit Problems'])"
   ]
  },
  {
   "cell_type": "code",
   "execution_count": 53,
   "id": "3548694f-3ed6-4f48-bf64-671ca110c638",
   "metadata": {},
   "outputs": [
    {
     "data": {
      "text/plain": [
       "0.900    1.0\n",
       "0.950    1.0\n",
       "0.990    2.0\n",
       "0.999    4.0\n",
       "Name: Number of Credit Problems, dtype: float64"
      ]
     },
     "execution_count": 53,
     "metadata": {},
     "output_type": "execute_result"
    }
   ],
   "source": [
    "data['Number of Credit Problems'].quantile([0.90, 0.95, 0.99, 0.999])"
   ]
  },
  {
   "cell_type": "code",
   "execution_count": 54,
   "id": "962e0f00-6725-40dc-b9ca-8b0693271035",
   "metadata": {},
   "outputs": [
    {
     "data": {
      "text/plain": [
       "0.9990    4.0\n",
       "0.9999    9.0\n",
       "Name: Number of Credit Problems, dtype: float64"
      ]
     },
     "execution_count": 54,
     "metadata": {},
     "output_type": "execute_result"
    }
   ],
   "source": [
    "data['Number of Credit Problems'].quantile([ 0.999,0.9999])"
   ]
  },
  {
   "cell_type": "code",
   "execution_count": 55,
   "id": "f9acc32b-cf46-480a-81d7-a8a9a1e6c160",
   "metadata": {},
   "outputs": [],
   "source": [
    "data.loc[data['Number of Credit Problems'] > 4, 'Number of Credit Problems'] = 4"
   ]
  },
  {
   "cell_type": "code",
   "execution_count": 56,
   "id": "c151f82d-f0d9-4d0c-8544-136dd1d23c58",
   "metadata": {},
   "outputs": [
    {
     "name": "stderr",
     "output_type": "stream",
     "text": [
      "C:\\Users\\kumar\\AppData\\Local\\Temp\\ipykernel_20372\\4180264683.py:1: UserWarning: \n",
      "\n",
      "`distplot` is a deprecated function and will be removed in seaborn v0.14.0.\n",
      "\n",
      "Please adapt your code to use either `displot` (a figure-level function with\n",
      "similar flexibility) or `histplot` (an axes-level function for histograms).\n",
      "\n",
      "For a guide to updating your code to use the new functions, please see\n",
      "https://gist.github.com/mwaskom/de44147ed2974457ad6372750bbe5751\n",
      "\n",
      "  sns.distplot(data['Number of Credit Problems'])\n"
     ]
    },
    {
     "data": {
      "text/plain": [
       "<Axes: xlabel='Number of Credit Problems', ylabel='Density'>"
      ]
     },
     "execution_count": 56,
     "metadata": {},
     "output_type": "execute_result"
    },
    {
     "data": {
      "image/png": "[encoded data removed]",
      "text/plain": [
       "<Figure size 640x480 with 1 Axes>"
      ]
     },
     "metadata": {},
     "output_type": "display_data"
    }
   ],
   "source": [
    "sns.distplot(data['Number of Credit Problems'])"
   ]
  },
  {
   "cell_type": "markdown",
   "id": "c1e5aaba-68bf-458c-b5d4-9a0f4789d104",
   "metadata": {},
   "source": [
    "### **📌 Why is the Graph Still Skewed Even After Capping?**  \n",
    "\n",
    "Even after **capping the \"Number of Credit Problems\" at 4**, the graph remains **right-skewed**. Here’s why:  \n",
    "\n",
    "---\n",
    "\n",
    "### **🔹 1. The Nature of the Data is Naturally Skewed**\n",
    "- Most people **do not have credit problems** (value = 0), which creates a **high peak at 0**.  \n",
    "- Only **a small number of people** have 1, 2, or more credit problems, leading to a **long tail on the right side**.  \n",
    "- This is a **real-world pattern**—credit problems are **not evenly distributed** among all people.\n",
    "\n",
    "✅ **Example:**  \n",
    "Imagine a bank's customers:  \n",
    "- **80-90% of people may have 0 credit problems** (since most maintain good credit).  \n",
    "- A **small group may have 1-2 issues** due to late payments.  \n",
    "- An **even smaller group** may have 3-4 issues, but they are rare.  \n",
    "\n",
    "👉 **Since most values are small, and only a few people have higher values, the distribution remains skewed.**  \n",
    "\n",
    "---\n",
    "\n",
    "### **🔹 2. Capping Only Removes Extreme Outliers, Not Skewness**\n",
    "- **Capping at 4 only removed the highest outliers (values above 4),** but the natural pattern of data remains.  \n",
    "- Skewness comes from **the fact that most values are clustered at 0**, not just from outliers.  \n",
    "\n",
    "👉 **Removing outliers helps, but it doesn’t remove skewness if the dataset itself is imbalanced.**  \n",
    "\n",
    "---"
   ]
  },
  {
   "cell_type": "code",
   "execution_count": 57,
   "id": "f5bf6122-c4cb-4a95-8f06-9a7c727cad9f",
   "metadata": {},
   "outputs": [
    {
     "data": {
      "text/plain": [
       "Number of Credit Problems\n",
       "0    77057\n",
       "1    10271\n",
       "2     1092\n",
       "3      311\n",
       "4      179\n",
       "Name: count, dtype: int64"
      ]
     },
     "execution_count": 57,
     "metadata": {},
     "output_type": "execute_result"
    }
   ],
   "source": [
    "#Okay lets look at value _counts\n",
    "\n",
    "\n",
    "data['Number of Credit Problems'].value_counts()\n",
    "\n",
    "#Okay looks good"
   ]
  },
  {
   "cell_type": "markdown",
   "id": "b6fb2d7d-2e3b-477b-a609-78c722050c66",
   "metadata": {},
   "source": [
    "### Current Credit Balance"
   ]
  },
  {
   "cell_type": "code",
   "execution_count": 58,
   "id": "008a8a38-e4b4-47eb-be2a-e5f5362265fd",
   "metadata": {},
   "outputs": [
    {
     "name": "stderr",
     "output_type": "stream",
     "text": [
      "C:\\Users\\kumar\\AppData\\Local\\Temp\\ipykernel_20372\\3533876801.py:5: UserWarning: \n",
      "\n",
      "`distplot` is a deprecated function and will be removed in seaborn v0.14.0.\n",
      "\n",
      "Please adapt your code to use either `displot` (a figure-level function with\n",
      "similar flexibility) or `histplot` (an axes-level function for histograms).\n",
      "\n",
      "For a guide to updating your code to use the new functions, please see\n",
      "https://gist.github.com/mwaskom/de44147ed2974457ad6372750bbe5751\n",
      "\n",
      "  sns.distplot(data['Current Credit Balance'])\n"
     ]
    },
    {
     "data": {
      "text/plain": [
       "<Axes: xlabel='Current Credit Balance', ylabel='Density'>"
      ]
     },
     "execution_count": 58,
     "metadata": {},
     "output_type": "execute_result"
    },
    {
     "data": {
      "image/png": "[encoded data removed]",
      "text/plain": [
       "<Figure size 640x480 with 1 Axes>"
      ]
     },
     "metadata": {},
     "output_type": "display_data"
    }
   ],
   "source": [
    "### Current Credit Balance\n",
    "\n",
    "data['Current Credit Balance'].describe()\n",
    "\n",
    "sns.distplot(data['Current Credit Balance'])\n",
    "#It seems there are outliers in this data. Lets investigate"
   ]
  },
  {
   "cell_type": "code",
   "execution_count": 59,
   "id": "a707d491-47ea-477f-b62e-c303dff15541",
   "metadata": {},
   "outputs": [
    {
     "data": {
      "text/plain": [
       "0.750      19301.000\n",
       "0.950      39933.300\n",
       "0.999     227670.033\n",
       "1.000    1730472.000\n",
       "Name: Current Credit Balance, dtype: float64"
      ]
     },
     "execution_count": 59,
     "metadata": {},
     "output_type": "execute_result"
    }
   ],
   "source": [
    "data['Current Credit Balance'].quantile([0.75,0.95,0.999,1])"
   ]
  },
  {
   "cell_type": "code",
   "execution_count": 60,
   "id": "c6bf8aa9-79e9-4f5e-9d7a-b9679533e67d",
   "metadata": {},
   "outputs": [
    {
     "data": {
      "text/plain": [
       "0.95      39933.30\n",
       "0.96      43501.20\n",
       "0.97      48507.73\n",
       "0.98      57938.12\n",
       "0.99      81007.19\n",
       "1.00    1730472.00\n",
       "Name: Current Credit Balance, dtype: float64"
      ]
     },
     "execution_count": 60,
     "metadata": {},
     "output_type": "execute_result"
    }
   ],
   "source": [
    "#lets dig deeper\n",
    "\n",
    "data['Current Credit Balance'].quantile([0.95,0.96,0.97,0.98,0.99,1])\n",
    "\n",
    "#So lets replace it with 95th percentile"
   ]
  },
  {
   "cell_type": "code",
   "execution_count": 61,
   "id": "dfc70e4d-f87e-49d2-83f3-5beb67b17dfa",
   "metadata": {},
   "outputs": [
    {
     "data": {
      "text/plain": [
       "<Axes: xlabel='Current Credit Balance', ylabel='Count'>"
      ]
     },
     "execution_count": 61,
     "metadata": {},
     "output_type": "execute_result"
    },
    {
     "data": {
      "image/png": "[encoded data removed]",
      "text/plain": [
       "<Figure size 640x480 with 1 Axes>"
      ]
     },
     "metadata": {},
     "output_type": "display_data"
    }
   ],
   "source": [
    "data.loc[data['Current Credit Balance'] > 81007, 'Current Credit Balance'] = 81007\n",
    "\n",
    "\n",
    "sns.histplot(data['Current Credit Balance'],kde='True')\n",
    "#The plot doesnt look good. We need to transform it"
   ]
  },
  {
   "cell_type": "code",
   "execution_count": 62,
   "id": "2414cba2-440b-4993-bb3c-7fcabe2fa872",
   "metadata": {},
   "outputs": [
    {
     "data": {
      "text/plain": [
       "<Axes: xlabel='Current Credit Balance', ylabel='Count'>"
      ]
     },
     "execution_count": 62,
     "metadata": {},
     "output_type": "execute_result"
    },
    {
     "data": {
      "image/png": "[encoded data removed]",
      "text/plain": [
       "<Figure size 640x480 with 1 Axes>"
      ]
     },
     "metadata": {},
     "output_type": "display_data"
    }
   ],
   "source": [
    "## Applying Sq. root transformation\n",
    "\n",
    "sns.histplot(data['Current Credit Balance']**(1/2),kde='True')"
   ]
  },
  {
   "cell_type": "code",
   "execution_count": 63,
   "id": "0440d394-def2-450b-b6d5-bc3008019a72",
   "metadata": {},
   "outputs": [],
   "source": [
    "data['Current Credit Balance']=data['Current Credit Balance']**(1/2)"
   ]
  },
  {
   "cell_type": "markdown",
   "id": "fef98af1-25f0-4532-93c8-90adc2c6d597",
   "metadata": {},
   "source": [
    "### Max open credit"
   ]
  },
  {
   "cell_type": "code",
   "execution_count": 64,
   "id": "4c9f3008-e335-4877-98df-5b063e89c2cb",
   "metadata": {},
   "outputs": [
    {
     "data": {
      "text/plain": [
       "count     88910\n",
       "unique    58216\n",
       "top           0\n",
       "freq        450\n",
       "Name: Maximum Open Credit, dtype: object"
      ]
     },
     "execution_count": 64,
     "metadata": {},
     "output_type": "execute_result"
    }
   ],
   "source": [
    "### Max open credit\n",
    "\n",
    "data['Maximum Open Credit'].describe()"
   ]
  },
  {
   "cell_type": "code",
   "execution_count": 65,
   "id": "1675ed4c-e035-4c8a-bdab-bf578f451e2d",
   "metadata": {},
   "outputs": [
    {
     "data": {
      "text/plain": [
       "Maximum Open Credit\n",
       "0        450\n",
       "0        160\n",
       "17464      9\n",
       "15847      9\n",
       "9786       8\n",
       "        ... \n",
       "17993      1\n",
       "9995       1\n",
       "15593      1\n",
       "23837      1\n",
       "23090      1\n",
       "Name: count, Length: 58216, dtype: int64"
      ]
     },
     "execution_count": 65,
     "metadata": {},
     "output_type": "execute_result"
    }
   ],
   "source": [
    "data['Maximum Open Credit'].value_counts()"
   ]
  },
  {
   "cell_type": "code",
   "execution_count": 66,
   "id": "66bac090-29fe-4ea7-9edd-2d6c033640f8",
   "metadata": {},
   "outputs": [
    {
     "name": "stderr",
     "output_type": "stream",
     "text": [
      "C:\\Users\\kumar\\AppData\\Local\\Temp\\ipykernel_20372\\2638315501.py:1: UserWarning: \n",
      "\n",
      "`distplot` is a deprecated function and will be removed in seaborn v0.14.0.\n",
      "\n",
      "Please adapt your code to use either `displot` (a figure-level function with\n",
      "similar flexibility) or `histplot` (an axes-level function for histograms).\n",
      "\n",
      "For a guide to updating your code to use the new functions, please see\n",
      "https://gist.github.com/mwaskom/de44147ed2974457ad6372750bbe5751\n",
      "\n",
      "  sns.distplot(data['Maximum Open Credit'])\n"
     ]
    },
    {
     "ename": "ValueError",
     "evalue": "could not convert string to float: '#VALUE!'",
     "output_type": "error",
     "traceback": [
      "\u001b[1;31m---------------------------------------------------------------------------\u001b[0m",
      "\u001b[1;31mValueError\u001b[0m                                Traceback (most recent call last)",
      "Cell \u001b[1;32mIn[66], line 1\u001b[0m\n\u001b[1;32m----> 1\u001b[0m \u001b[43msns\u001b[49m\u001b[38;5;241;43m.\u001b[39;49m\u001b[43mdistplot\u001b[49m\u001b[43m(\u001b[49m\u001b[43mdata\u001b[49m\u001b[43m[\u001b[49m\u001b[38;5;124;43m'\u001b[39;49m\u001b[38;5;124;43mMaximum Open Credit\u001b[39;49m\u001b[38;5;124;43m'\u001b[39;49m\u001b[43m]\u001b[49m\u001b[43m)\u001b[49m\n",
      "File \u001b[1;32mc:\\Users\\kumar\\anaconda3\\Lib\\site-packages\\seaborn\\distributions.py:2443\u001b[0m, in \u001b[0;36mdistplot\u001b[1;34m(a, bins, hist, kde, rug, fit, hist_kws, kde_kws, rug_kws, fit_kws, color, vertical, norm_hist, axlabel, label, ax, x)\u001b[0m\n\u001b[0;32m   2440\u001b[0m     a \u001b[38;5;241m=\u001b[39m x\n\u001b[0;32m   2442\u001b[0m \u001b[38;5;66;03m# Make a a 1-d float array\u001b[39;00m\n\u001b[1;32m-> 2443\u001b[0m a \u001b[38;5;241m=\u001b[39m \u001b[43mnp\u001b[49m\u001b[38;5;241;43m.\u001b[39;49m\u001b[43masarray\u001b[49m\u001b[43m(\u001b[49m\u001b[43ma\u001b[49m\u001b[43m,\u001b[49m\u001b[43m \u001b[49m\u001b[38;5;28;43mfloat\u001b[39;49m\u001b[43m)\u001b[49m\n\u001b[0;32m   2444\u001b[0m \u001b[38;5;28;01mif\u001b[39;00m a\u001b[38;5;241m.\u001b[39mndim \u001b[38;5;241m>\u001b[39m \u001b[38;5;241m1\u001b[39m:\n\u001b[0;32m   2445\u001b[0m     a \u001b[38;5;241m=\u001b[39m a\u001b[38;5;241m.\u001b[39msqueeze()\n",
      "File \u001b[1;32mc:\\Users\\kumar\\anaconda3\\Lib\\site-packages\\pandas\\core\\series.py:1031\u001b[0m, in \u001b[0;36mSeries.__array__\u001b[1;34m(self, dtype, copy)\u001b[0m\n\u001b[0;32m    981\u001b[0m \u001b[38;5;250m\u001b[39m\u001b[38;5;124;03m\"\"\"\u001b[39;00m\n\u001b[0;32m    982\u001b[0m \u001b[38;5;124;03mReturn the values as a NumPy array.\u001b[39;00m\n\u001b[0;32m    983\u001b[0m \n\u001b[1;32m   (...)\u001b[0m\n\u001b[0;32m   1028\u001b[0m \u001b[38;5;124;03m      dtype='datetime64[ns]')\u001b[39;00m\n\u001b[0;32m   1029\u001b[0m \u001b[38;5;124;03m\"\"\"\u001b[39;00m\n\u001b[0;32m   1030\u001b[0m values \u001b[38;5;241m=\u001b[39m \u001b[38;5;28mself\u001b[39m\u001b[38;5;241m.\u001b[39m_values\n\u001b[1;32m-> 1031\u001b[0m arr \u001b[38;5;241m=\u001b[39m \u001b[43mnp\u001b[49m\u001b[38;5;241;43m.\u001b[39;49m\u001b[43masarray\u001b[49m\u001b[43m(\u001b[49m\u001b[43mvalues\u001b[49m\u001b[43m,\u001b[49m\u001b[43m \u001b[49m\u001b[43mdtype\u001b[49m\u001b[38;5;241;43m=\u001b[39;49m\u001b[43mdtype\u001b[49m\u001b[43m)\u001b[49m\n\u001b[0;32m   1032\u001b[0m \u001b[38;5;28;01mif\u001b[39;00m using_copy_on_write() \u001b[38;5;129;01mand\u001b[39;00m astype_is_view(values\u001b[38;5;241m.\u001b[39mdtype, arr\u001b[38;5;241m.\u001b[39mdtype):\n\u001b[0;32m   1033\u001b[0m     arr \u001b[38;5;241m=\u001b[39m arr\u001b[38;5;241m.\u001b[39mview()\n",
      "\u001b[1;31mValueError\u001b[0m: could not convert string to float: '#VALUE!'"
     ]
    },
    {
     "data": {
      "image/png": "[encoded data removed]",
      "text/plain": [
       "<Figure size 640x480 with 1 Axes>"
      ]
     },
     "metadata": {},
     "output_type": "display_data"
    }
   ],
   "source": [
    "sns.distplot(data['Maximum Open Credit'])"
   ]
  },
  {
   "cell_type": "code",
   "execution_count": 67,
   "id": "e55da7c4-6b40-499e-b7ac-08bed6768732",
   "metadata": {},
   "outputs": [
    {
     "ename": "ValueError",
     "evalue": "Unable to parse string \"#VALUE!\" at position 4930",
     "output_type": "error",
     "traceback": [
      "\u001b[1;31m---------------------------------------------------------------------------\u001b[0m",
      "\u001b[1;31mValueError\u001b[0m                                Traceback (most recent call last)",
      "File \u001b[1;32mlib.pyx:2391\u001b[0m, in \u001b[0;36mpandas._libs.lib.maybe_convert_numeric\u001b[1;34m()\u001b[0m\n",
      "\u001b[1;31mValueError\u001b[0m: Unable to parse string \"#VALUE!\"",
      "\nDuring handling of the above exception, another exception occurred:\n",
      "\u001b[1;31mValueError\u001b[0m                                Traceback (most recent call last)",
      "Cell \u001b[1;32mIn[67], line 1\u001b[0m\n\u001b[1;32m----> 1\u001b[0m \u001b[43mpd\u001b[49m\u001b[38;5;241;43m.\u001b[39;49m\u001b[43mto_numeric\u001b[49m\u001b[43m(\u001b[49m\u001b[43mdata\u001b[49m\u001b[43m[\u001b[49m\u001b[38;5;124;43m'\u001b[39;49m\u001b[38;5;124;43mMaximum Open Credit\u001b[39;49m\u001b[38;5;124;43m'\u001b[39;49m\u001b[43m]\u001b[49m\u001b[43m)\u001b[49m\n",
      "File \u001b[1;32mc:\\Users\\kumar\\anaconda3\\Lib\\site-packages\\pandas\\core\\tools\\numeric.py:232\u001b[0m, in \u001b[0;36mto_numeric\u001b[1;34m(arg, errors, downcast, dtype_backend)\u001b[0m\n\u001b[0;32m    230\u001b[0m coerce_numeric \u001b[38;5;241m=\u001b[39m errors \u001b[38;5;129;01mnot\u001b[39;00m \u001b[38;5;129;01min\u001b[39;00m (\u001b[38;5;124m\"\u001b[39m\u001b[38;5;124mignore\u001b[39m\u001b[38;5;124m\"\u001b[39m, \u001b[38;5;124m\"\u001b[39m\u001b[38;5;124mraise\u001b[39m\u001b[38;5;124m\"\u001b[39m)\n\u001b[0;32m    231\u001b[0m \u001b[38;5;28;01mtry\u001b[39;00m:\n\u001b[1;32m--> 232\u001b[0m     values, new_mask \u001b[38;5;241m=\u001b[39m \u001b[43mlib\u001b[49m\u001b[38;5;241;43m.\u001b[39;49m\u001b[43mmaybe_convert_numeric\u001b[49m\u001b[43m(\u001b[49m\u001b[43m  \u001b[49m\u001b[38;5;66;43;03m# type: ignore[call-overload]\u001b[39;49;00m\n\u001b[0;32m    233\u001b[0m \u001b[43m        \u001b[49m\u001b[43mvalues\u001b[49m\u001b[43m,\u001b[49m\n\u001b[0;32m    234\u001b[0m \u001b[43m        \u001b[49m\u001b[38;5;28;43mset\u001b[39;49m\u001b[43m(\u001b[49m\u001b[43m)\u001b[49m\u001b[43m,\u001b[49m\n\u001b[0;32m    235\u001b[0m \u001b[43m        \u001b[49m\u001b[43mcoerce_numeric\u001b[49m\u001b[38;5;241;43m=\u001b[39;49m\u001b[43mcoerce_numeric\u001b[49m\u001b[43m,\u001b[49m\n\u001b[0;32m    236\u001b[0m \u001b[43m        \u001b[49m\u001b[43mconvert_to_masked_nullable\u001b[49m\u001b[38;5;241;43m=\u001b[39;49m\u001b[43mdtype_backend\u001b[49m\u001b[43m \u001b[49m\u001b[38;5;129;43;01mis\u001b[39;49;00m\u001b[43m \u001b[49m\u001b[38;5;129;43;01mnot\u001b[39;49;00m\u001b[43m \u001b[49m\u001b[43mlib\u001b[49m\u001b[38;5;241;43m.\u001b[39;49m\u001b[43mno_default\u001b[49m\n\u001b[0;32m    237\u001b[0m \u001b[43m        \u001b[49m\u001b[38;5;129;43;01mor\u001b[39;49;00m\u001b[43m \u001b[49m\u001b[38;5;28;43misinstance\u001b[39;49m\u001b[43m(\u001b[49m\u001b[43mvalues_dtype\u001b[49m\u001b[43m,\u001b[49m\u001b[43m \u001b[49m\u001b[43mStringDtype\u001b[49m\u001b[43m)\u001b[49m\n\u001b[0;32m    238\u001b[0m \u001b[43m        \u001b[49m\u001b[38;5;129;43;01mand\u001b[39;49;00m\u001b[43m \u001b[49m\u001b[38;5;129;43;01mnot\u001b[39;49;00m\u001b[43m \u001b[49m\u001b[43mvalues_dtype\u001b[49m\u001b[38;5;241;43m.\u001b[39;49m\u001b[43mstorage\u001b[49m\u001b[43m \u001b[49m\u001b[38;5;241;43m==\u001b[39;49m\u001b[43m \u001b[49m\u001b[38;5;124;43m\"\u001b[39;49m\u001b[38;5;124;43mpyarrow_numpy\u001b[39;49m\u001b[38;5;124;43m\"\u001b[39;49m\u001b[43m,\u001b[49m\n\u001b[0;32m    239\u001b[0m \u001b[43m    \u001b[49m\u001b[43m)\u001b[49m\n\u001b[0;32m    240\u001b[0m \u001b[38;5;28;01mexcept\u001b[39;00m (\u001b[38;5;167;01mValueError\u001b[39;00m, \u001b[38;5;167;01mTypeError\u001b[39;00m):\n\u001b[0;32m    241\u001b[0m     \u001b[38;5;28;01mif\u001b[39;00m errors \u001b[38;5;241m==\u001b[39m \u001b[38;5;124m\"\u001b[39m\u001b[38;5;124mraise\u001b[39m\u001b[38;5;124m\"\u001b[39m:\n",
      "File \u001b[1;32mlib.pyx:2433\u001b[0m, in \u001b[0;36mpandas._libs.lib.maybe_convert_numeric\u001b[1;34m()\u001b[0m\n",
      "\u001b[1;31mValueError\u001b[0m: Unable to parse string \"#VALUE!\" at position 4930"
     ]
    }
   ],
   "source": [
    "pd.to_numeric(data['Maximum Open Credit'])"
   ]
  },
  {
   "cell_type": "code",
   "execution_count": 68,
   "id": "4e613a45-82db-4f5d-8411-0cd0711fb47b",
   "metadata": {},
   "outputs": [],
   "source": [
    "#Lets replace #value with Nan\n",
    "data['Maximum Open Credit']=data['Maximum Open Credit'].replace('#VALUE!', np.nan, regex=True)"
   ]
  },
  {
   "cell_type": "code",
   "execution_count": 69,
   "id": "8ec4012c-6884-4023-b815-5fc27ea49e92",
   "metadata": {},
   "outputs": [],
   "source": [
    "data['Maximum Open Credit']=pd.to_numeric(data['Maximum Open Credit'])"
   ]
  },
  {
   "cell_type": "code",
   "execution_count": 70,
   "id": "e19ceb3d-d0c4-40ab-aabc-5c4268499b57",
   "metadata": {},
   "outputs": [
    {
     "name": "stderr",
     "output_type": "stream",
     "text": [
      "C:\\Users\\kumar\\AppData\\Local\\Temp\\ipykernel_20372\\2638315501.py:1: UserWarning: \n",
      "\n",
      "`distplot` is a deprecated function and will be removed in seaborn v0.14.0.\n",
      "\n",
      "Please adapt your code to use either `displot` (a figure-level function with\n",
      "similar flexibility) or `histplot` (an axes-level function for histograms).\n",
      "\n",
      "For a guide to updating your code to use the new functions, please see\n",
      "https://gist.github.com/mwaskom/de44147ed2974457ad6372750bbe5751\n",
      "\n",
      "  sns.distplot(data['Maximum Open Credit'])\n"
     ]
    },
    {
     "data": {
      "text/plain": [
       "<Axes: xlabel='Maximum Open Credit', ylabel='Density'>"
      ]
     },
     "execution_count": 70,
     "metadata": {},
     "output_type": "execute_result"
    },
    {
     "data": {
      "image/png": "[encoded data removed]",
      "text/plain": [
       "<Figure size 640x480 with 1 Axes>"
      ]
     },
     "metadata": {},
     "output_type": "display_data"
    }
   ],
   "source": [
    "sns.distplot(data['Maximum Open Credit'])"
   ]
  },
  {
   "cell_type": "code",
   "execution_count": 71,
   "id": "29ef7553-9fb7-4ce3-89a3-c89649e34534",
   "metadata": {},
   "outputs": [
    {
     "data": {
      "text/plain": [
       "np.int64(2)"
      ]
     },
     "execution_count": 71,
     "metadata": {},
     "output_type": "execute_result"
    }
   ],
   "source": [
    "data['Maximum Open Credit'].isnull().sum()\n",
    "#Now we have only 2 Nan;s in the data. Lets replace them with mean  "
   ]
  },
  {
   "cell_type": "code",
   "execution_count": 72,
   "id": "4b608b6c-1724-498c-ab83-1698f450c29c",
   "metadata": {},
   "outputs": [
    {
     "data": {
      "text/plain": [
       "np.float64(35965.310174562466)"
      ]
     },
     "execution_count": 72,
     "metadata": {},
     "output_type": "execute_result"
    }
   ],
   "source": [
    "data['Maximum Open Credit'].mean()"
   ]
  },
  {
   "cell_type": "code",
   "execution_count": 73,
   "id": "5afbae68-2e24-44fe-90b1-a5ed1e8494f4",
   "metadata": {},
   "outputs": [],
   "source": [
    "data['Maximum Open Credit']=data['Maximum Open Credit'].fillna(35965)"
   ]
  },
  {
   "cell_type": "code",
   "execution_count": 74,
   "id": "58f8d1f6-19fa-40b4-854e-2f50fbe9ba3e",
   "metadata": {},
   "outputs": [
    {
     "data": {
      "text/plain": [
       "0.55       24037.95\n",
       "0.76       37259.84\n",
       "0.87       50736.66\n",
       "0.98      114682.56\n",
       "0.99      171423.91\n",
       "1.00    69988086.00\n",
       "Name: Maximum Open Credit, dtype: float64"
      ]
     },
     "execution_count": 74,
     "metadata": {},
     "output_type": "execute_result"
    }
   ],
   "source": [
    "data['Maximum Open Credit'].quantile([0.55,0.76,0.87,0.98,0.99,1])"
   ]
  },
  {
   "cell_type": "code",
   "execution_count": 75,
   "id": "18871646-9aa1-4569-a220-c3dbcdfdd026",
   "metadata": {},
   "outputs": [],
   "source": [
    "#Lets replace the outliers\n",
    "data.loc[data['Maximum Open Credit'] > 171423, 'Maximum Open Credit'] = 171423"
   ]
  },
  {
   "cell_type": "code",
   "execution_count": 76,
   "id": "54719cfe-61dd-48e4-82d5-f8656f466c66",
   "metadata": {},
   "outputs": [
    {
     "name": "stderr",
     "output_type": "stream",
     "text": [
      "C:\\Users\\kumar\\AppData\\Local\\Temp\\ipykernel_20372\\2638315501.py:1: UserWarning: \n",
      "\n",
      "`distplot` is a deprecated function and will be removed in seaborn v0.14.0.\n",
      "\n",
      "Please adapt your code to use either `displot` (a figure-level function with\n",
      "similar flexibility) or `histplot` (an axes-level function for histograms).\n",
      "\n",
      "For a guide to updating your code to use the new functions, please see\n",
      "https://gist.github.com/mwaskom/de44147ed2974457ad6372750bbe5751\n",
      "\n",
      "  sns.distplot(data['Maximum Open Credit'])\n"
     ]
    },
    {
     "data": {
      "text/plain": [
       "<Axes: xlabel='Maximum Open Credit', ylabel='Density'>"
      ]
     },
     "execution_count": 76,
     "metadata": {},
     "output_type": "execute_result"
    },
    {
     "data": {
      "image/png": "[encoded data removed]",
      "text/plain": [
       "<Figure size 640x480 with 1 Axes>"
      ]
     },
     "metadata": {},
     "output_type": "display_data"
    }
   ],
   "source": [
    "sns.distplot(data['Maximum Open Credit'])"
   ]
  },
  {
   "cell_type": "markdown",
   "id": "3d7e7257-6e94-4a19-84c0-5a55d3c12887",
   "metadata": {},
   "source": [
    "#### Now the outliers are reduced a little bit"
   ]
  },
  {
   "cell_type": "markdown",
   "id": "3d67736b-bce0-4921-be7d-ce2dcfd10c1a",
   "metadata": {
    "jp-MarkdownHeadingCollapsed": true
   },
   "source": [
    "### Bankruptcies"
   ]
  },
  {
   "cell_type": "code",
   "execution_count": 77,
   "id": "3e741f3c-9aef-4c10-9953-cf5da32b8b42",
   "metadata": {},
   "outputs": [
    {
     "data": {
      "text/plain": [
       "count    88718.000000\n",
       "mean         0.112672\n",
       "std          0.343300\n",
       "min          0.000000\n",
       "25%          0.000000\n",
       "50%          0.000000\n",
       "75%          0.000000\n",
       "max          7.000000\n",
       "Name: Bankruptcies, dtype: float64"
      ]
     },
     "execution_count": 77,
     "metadata": {},
     "output_type": "execute_result"
    }
   ],
   "source": [
    "#### Bankruptcies\n",
    "data['Bankruptcies'].describe()"
   ]
  },
  {
   "cell_type": "code",
   "execution_count": 78,
   "id": "38785cf8-b45c-4dd4-9dd5-227386b42939",
   "metadata": {},
   "outputs": [
    {
     "data": {
      "text/plain": [
       "Bankruptcies\n",
       "0.0    79323\n",
       "1.0     8936\n",
       "2.0      353\n",
       "3.0       80\n",
       "4.0       19\n",
       "5.0        5\n",
       "7.0        1\n",
       "6.0        1\n",
       "Name: count, dtype: int64"
      ]
     },
     "execution_count": 78,
     "metadata": {},
     "output_type": "execute_result"
    }
   ],
   "source": [
    "data['Bankruptcies'].value_counts()"
   ]
  },
  {
   "cell_type": "code",
   "execution_count": 79,
   "id": "4aff7193-4f16-4f4c-bc01-9e35b550d68d",
   "metadata": {},
   "outputs": [
    {
     "data": {
      "text/plain": [
       "array([ 0.,  1., nan,  2.,  4.,  3.,  5.,  7.,  6.])"
      ]
     },
     "execution_count": 79,
     "metadata": {},
     "output_type": "execute_result"
    }
   ],
   "source": [
    "data['Bankruptcies'].unique()\n",
    "\n",
    "#So we have Nan's. Lets fill them with median"
   ]
  },
  {
   "cell_type": "code",
   "execution_count": 80,
   "id": "2fe07c92-ab94-4307-83f3-1e9dae7eadb1",
   "metadata": {},
   "outputs": [
    {
     "data": {
      "text/plain": [
       "np.int64(192)"
      ]
     },
     "execution_count": 80,
     "metadata": {},
     "output_type": "execute_result"
    }
   ],
   "source": [
    "data['Bankruptcies'].isnull().sum()\n",
    "# Lets fill them with median"
   ]
  },
  {
   "cell_type": "code",
   "execution_count": 81,
   "id": "86650354-a47b-4928-ba79-885564df28c3",
   "metadata": {},
   "outputs": [
    {
     "data": {
      "text/plain": [
       "np.float64(0.0)"
      ]
     },
     "execution_count": 81,
     "metadata": {},
     "output_type": "execute_result"
    }
   ],
   "source": [
    "data['Bankruptcies'].median()"
   ]
  },
  {
   "cell_type": "code",
   "execution_count": 82,
   "id": "2c42f3ec-c203-450d-9837-d229242591c5",
   "metadata": {},
   "outputs": [],
   "source": [
    "data['Bankruptcies']=data['Bankruptcies'].fillna(0)"
   ]
  },
  {
   "cell_type": "markdown",
   "id": "5ce6f5cf-8e65-4278-b08f-00509ce0a54e",
   "metadata": {
    "jp-MarkdownHeadingCollapsed": true
   },
   "source": [
    "### Tax Liens"
   ]
  },
  {
   "cell_type": "code",
   "execution_count": 83,
   "id": "f4591e79-427d-4d25-bab4-3341f2e79cca",
   "metadata": {},
   "outputs": [
    {
     "data": {
      "text/plain": [
       "count    88902.000000\n",
       "mean         0.028222\n",
       "std          0.257533\n",
       "min          0.000000\n",
       "25%          0.000000\n",
       "50%          0.000000\n",
       "75%          0.000000\n",
       "max         15.000000\n",
       "Name: Tax Liens, dtype: float64"
      ]
     },
     "execution_count": 83,
     "metadata": {},
     "output_type": "execute_result"
    }
   ],
   "source": [
    "### Tax Liens\n",
    "\n",
    "data['Tax Liens'].describe()"
   ]
  },
  {
   "cell_type": "code",
   "execution_count": 84,
   "id": "f15a289c-4438-4f2c-8b77-d0915b8db96f",
   "metadata": {},
   "outputs": [
    {
     "data": {
      "text/plain": [
       "Tax Liens\n",
       "0.0     87274\n",
       "1.0      1132\n",
       "2.0       305\n",
       "3.0        99\n",
       "4.0        52\n",
       "5.0        17\n",
       "6.0         9\n",
       "7.0         5\n",
       "9.0         4\n",
       "8.0         2\n",
       "15.0        1\n",
       "10.0        1\n",
       "11.0        1\n",
       "Name: count, dtype: int64"
      ]
     },
     "execution_count": 84,
     "metadata": {},
     "output_type": "execute_result"
    }
   ],
   "source": [
    "data['Tax Liens'].value_counts()\n"
   ]
  },
  {
   "cell_type": "code",
   "execution_count": 85,
   "id": "4b44dc7e-4165-415a-9d49-ae0c4dc213e9",
   "metadata": {},
   "outputs": [
    {
     "data": {
      "text/plain": [
       "array([0., 1., 2., 4., 3., 5., 7., 6.])"
      ]
     },
     "execution_count": 85,
     "metadata": {},
     "output_type": "execute_result"
    }
   ],
   "source": [
    "data['Bankruptcies'].unique()\n",
    "###Looks good"
   ]
  },
  {
   "cell_type": "markdown",
   "id": "7c35ce88-1522-47da-a8f1-6329a65cb387",
   "metadata": {},
   "source": [
    "## Data Preprocessing for Machine Learning"
   ]
  },
  {
   "cell_type": "code",
   "execution_count": 86,
   "id": "b69b3d9a-1b8d-4635-b488-ddccd4dd69c7",
   "metadata": {},
   "outputs": [],
   "source": [
    "cat_cols = ['Term','Years in current job','Home Ownership','Purpose']\n",
    "\n",
    "for c in cat_cols:\n",
    "    data[c] = pd.factorize(data[c])[0]"
   ]
  },
  {
   "cell_type": "code",
   "execution_count": 87,
   "id": "5474bfb2-9d41-4228-94b3-4d7aba3b5d78",
   "metadata": {},
   "outputs": [],
   "source": [
    "# Selecting independent variables (features)\n",
    "X = data.iloc[:, 3:19]  # Selecting relevant columns for features\n",
    "\n",
    "# Selecting dependent variable (target)\n",
    "y = data['Loan Status']  # Target variable"
   ]
  },
  {
   "cell_type": "code",
   "execution_count": 88,
   "id": "9e4d5633-634a-4ae0-a4c5-4eb1f6f07b79",
   "metadata": {},
   "outputs": [
    {
     "name": "stdout",
     "output_type": "stream",
     "text": [
      "[SoftImpute] Max Singular Value of X_init = 23093183.753938\n",
      "[SoftImpute] Iter 1: observed MAE=260.237951 rank=3\n",
      "[SoftImpute] Iter 2: observed MAE=260.194363 rank=3\n",
      "[SoftImpute] Iter 3: observed MAE=260.200206 rank=3\n",
      "[SoftImpute] Iter 4: observed MAE=260.218728 rank=3\n",
      "[SoftImpute] Iter 5: observed MAE=260.240119 rank=3\n",
      "[SoftImpute] Iter 6: observed MAE=260.261644 rank=3\n",
      "[SoftImpute] Iter 7: observed MAE=260.282395 rank=3\n",
      "[SoftImpute] Iter 8: observed MAE=260.301988 rank=3\n",
      "[SoftImpute] Iter 9: observed MAE=260.320443 rank=3\n",
      "[SoftImpute] Iter 10: observed MAE=260.337615 rank=3\n",
      "[SoftImpute] Iter 11: observed MAE=260.353564 rank=3\n",
      "[SoftImpute] Iter 12: observed MAE=260.368277 rank=3\n",
      "[SoftImpute] Iter 13: observed MAE=260.381797 rank=3\n",
      "[SoftImpute] Iter 14: observed MAE=260.394089 rank=3\n",
      "[SoftImpute] Iter 15: observed MAE=260.405224 rank=3\n",
      "[SoftImpute] Iter 16: observed MAE=260.415255 rank=3\n",
      "[SoftImpute] Iter 17: observed MAE=260.424297 rank=3\n",
      "[SoftImpute] Iter 18: observed MAE=260.432447 rank=3\n",
      "[SoftImpute] Iter 19: observed MAE=260.439593 rank=3\n",
      "[SoftImpute] Iter 20: observed MAE=260.445839 rank=3\n",
      "[SoftImpute] Iter 21: observed MAE=260.451259 rank=3\n",
      "[SoftImpute] Iter 22: observed MAE=260.455873 rank=3\n",
      "[SoftImpute] Iter 23: observed MAE=260.459702 rank=3\n",
      "[SoftImpute] Iter 24: observed MAE=260.462778 rank=3\n",
      "[SoftImpute] Iter 25: observed MAE=260.465171 rank=3\n",
      "[SoftImpute] Iter 26: observed MAE=260.466951 rank=3\n",
      "[SoftImpute] Iter 27: observed MAE=260.468081 rank=3\n",
      "[SoftImpute] Iter 28: observed MAE=260.468681 rank=3\n",
      "[SoftImpute] Iter 29: observed MAE=260.468708 rank=3\n",
      "[SoftImpute] Iter 30: observed MAE=260.468124 rank=3\n",
      "[SoftImpute] Iter 31: observed MAE=260.466995 rank=3\n",
      "[SoftImpute] Iter 32: observed MAE=260.465317 rank=3\n",
      "[SoftImpute] Iter 33: observed MAE=260.463155 rank=3\n",
      "[SoftImpute] Iter 34: observed MAE=260.460634 rank=3\n",
      "[SoftImpute] Iter 35: observed MAE=260.457725 rank=3\n",
      "[SoftImpute] Iter 36: observed MAE=260.454522 rank=3\n",
      "[SoftImpute] Iter 37: observed MAE=260.451018 rank=3\n",
      "[SoftImpute] Iter 38: observed MAE=260.447193 rank=3\n",
      "[SoftImpute] Iter 39: observed MAE=260.443050 rank=3\n",
      "[SoftImpute] Iter 40: observed MAE=260.438624 rank=3\n",
      "[SoftImpute] Iter 41: observed MAE=260.433987 rank=3\n",
      "[SoftImpute] Iter 42: observed MAE=260.429114 rank=3\n",
      "[SoftImpute] Iter 43: observed MAE=260.423990 rank=3\n",
      "[SoftImpute] Iter 44: observed MAE=260.418727 rank=3\n",
      "[SoftImpute] Iter 45: observed MAE=260.413273 rank=3\n",
      "[SoftImpute] Iter 46: observed MAE=260.407711 rank=3\n",
      "[SoftImpute] Iter 47: observed MAE=260.402022 rank=3\n",
      "[SoftImpute] Iter 48: observed MAE=260.396183 rank=3\n",
      "[SoftImpute] Iter 49: observed MAE=260.390225 rank=3\n",
      "[SoftImpute] Iter 50: observed MAE=260.384185 rank=3\n",
      "[SoftImpute] Iter 51: observed MAE=260.378034 rank=3\n",
      "[SoftImpute] Iter 52: observed MAE=260.371801 rank=3\n",
      "[SoftImpute] Iter 53: observed MAE=260.365503 rank=3\n",
      "[SoftImpute] Iter 54: observed MAE=260.359125 rank=3\n",
      "[SoftImpute] Iter 55: observed MAE=260.352720 rank=3\n",
      "[SoftImpute] Iter 56: observed MAE=260.346319 rank=3\n",
      "[SoftImpute] Iter 57: observed MAE=260.339915 rank=3\n",
      "[SoftImpute] Iter 58: observed MAE=260.333478 rank=3\n",
      "[SoftImpute] Iter 59: observed MAE=260.327004 rank=3\n",
      "[SoftImpute] Iter 60: observed MAE=260.320531 rank=3\n",
      "[SoftImpute] Iter 61: observed MAE=260.314059 rank=3\n",
      "[SoftImpute] Iter 62: observed MAE=260.307609 rank=3\n",
      "[SoftImpute] Iter 63: observed MAE=260.301167 rank=3\n",
      "[SoftImpute] Iter 64: observed MAE=260.294745 rank=3\n",
      "[SoftImpute] Iter 65: observed MAE=260.288325 rank=3\n",
      "[SoftImpute] Iter 66: observed MAE=260.281935 rank=3\n",
      "[SoftImpute] Iter 67: observed MAE=260.275592 rank=3\n",
      "[SoftImpute] Iter 68: observed MAE=260.269297 rank=3\n",
      "[SoftImpute] Iter 69: observed MAE=260.263073 rank=3\n",
      "[SoftImpute] Iter 70: observed MAE=260.256911 rank=3\n",
      "[SoftImpute] Iter 71: observed MAE=260.250807 rank=3\n",
      "[SoftImpute] Iter 72: observed MAE=260.244762 rank=3\n",
      "[SoftImpute] Iter 73: observed MAE=260.238764 rank=3\n",
      "[SoftImpute] Iter 74: observed MAE=260.232837 rank=3\n",
      "[SoftImpute] Iter 75: observed MAE=260.226970 rank=3\n",
      "[SoftImpute] Iter 76: observed MAE=260.221157 rank=3\n",
      "[SoftImpute] Iter 77: observed MAE=260.215403 rank=3\n",
      "[SoftImpute] Iter 78: observed MAE=260.209720 rank=3\n",
      "[SoftImpute] Iter 79: observed MAE=260.204102 rank=3\n",
      "[SoftImpute] Iter 80: observed MAE=260.198566 rank=3\n",
      "[SoftImpute] Iter 81: observed MAE=260.193101 rank=3\n",
      "[SoftImpute] Iter 82: observed MAE=260.187704 rank=3\n",
      "[SoftImpute] Iter 83: observed MAE=260.182379 rank=3\n",
      "[SoftImpute] Iter 84: observed MAE=260.177131 rank=3\n",
      "[SoftImpute] Iter 85: observed MAE=260.171965 rank=3\n",
      "[SoftImpute] Iter 86: observed MAE=260.166885 rank=3\n",
      "[SoftImpute] Iter 87: observed MAE=260.161890 rank=3\n",
      "[SoftImpute] Iter 88: observed MAE=260.156974 rank=3\n",
      "[SoftImpute] Iter 89: observed MAE=260.152134 rank=3\n",
      "[SoftImpute] Iter 90: observed MAE=260.147369 rank=3\n",
      "[SoftImpute] Iter 91: observed MAE=260.142675 rank=3\n",
      "[SoftImpute] Iter 92: observed MAE=260.138057 rank=3\n",
      "[SoftImpute] Iter 93: observed MAE=260.133515 rank=3\n",
      "[SoftImpute] Iter 94: observed MAE=260.129043 rank=3\n",
      "[SoftImpute] Iter 95: observed MAE=260.124643 rank=3\n",
      "[SoftImpute] Iter 96: observed MAE=260.120321 rank=3\n",
      "[SoftImpute] Iter 97: observed MAE=260.116078 rank=3\n",
      "[SoftImpute] Iter 98: observed MAE=260.111907 rank=3\n",
      "[SoftImpute] Iter 99: observed MAE=260.107818 rank=3\n",
      "[SoftImpute] Iter 100: observed MAE=260.103807 rank=3\n",
      "[SoftImpute] Stopped after iteration 100 for lambda=461863.675079\n"
     ]
    }
   ],
   "source": [
    "from fancyimpute import SoftImpute\n",
    "\n",
    "# Imputing missing values in the feature set\n",
    "X_imputed = pd.DataFrame(\n",
    "    data=SoftImpute().fit_transform(X),\n",
    "    columns=X.columns,\n",
    "    index=X.index\n",
    ")"
   ]
  },
  {
   "cell_type": "code",
   "execution_count": 89,
   "id": "c14c77c0-dfd5-4a2c-8beb-c4414b3e5b20",
   "metadata": {},
   "outputs": [
    {
     "data": {
      "text/html": [
       "<div>\n",
       "<style scoped>\n",
       "    .dataframe tbody tr th:only-of-type {\n",
       "        vertical-align: middle;\n",
       "    }\n",
       "\n",
       "    .dataframe tbody tr th {\n",
       "        vertical-align: top;\n",
       "    }\n",
       "\n",
       "    .dataframe thead th {\n",
       "        text-align: right;\n",
       "    }\n",
       "</style>\n",
       "<table border=\"1\" class=\"dataframe\">\n",
       "  <thead>\n",
       "    <tr style=\"text-align: right;\">\n",
       "      <th></th>\n",
       "      <th>Current Loan Amount</th>\n",
       "      <th>Term</th>\n",
       "      <th>Credit Score</th>\n",
       "      <th>Years in current job</th>\n",
       "      <th>Home Ownership</th>\n",
       "      <th>Annual Income</th>\n",
       "      <th>Purpose</th>\n",
       "      <th>Monthly Debt</th>\n",
       "      <th>Years of Credit History</th>\n",
       "      <th>Months since last delinquent</th>\n",
       "      <th>Number of Open Accounts</th>\n",
       "      <th>Number of Credit Problems</th>\n",
       "      <th>Current Credit Balance</th>\n",
       "      <th>Maximum Open Credit</th>\n",
       "      <th>Bankruptcies</th>\n",
       "      <th>Tax Liens</th>\n",
       "    </tr>\n",
       "  </thead>\n",
       "  <tbody>\n",
       "    <tr>\n",
       "      <th>0</th>\n",
       "      <td>12232.0</td>\n",
       "      <td>0.0</td>\n",
       "      <td>728.0</td>\n",
       "      <td>0.0</td>\n",
       "      <td>0.0</td>\n",
       "      <td>46643.0</td>\n",
       "      <td>0.0</td>\n",
       "      <td>777.39</td>\n",
       "      <td>18.0</td>\n",
       "      <td>10.000000</td>\n",
       "      <td>12.0</td>\n",
       "      <td>0.0</td>\n",
       "      <td>82.231381</td>\n",
       "      <td>7946.0</td>\n",
       "      <td>0.0</td>\n",
       "      <td>0.0</td>\n",
       "    </tr>\n",
       "    <tr>\n",
       "      <th>1</th>\n",
       "      <td>25014.0</td>\n",
       "      <td>1.0</td>\n",
       "      <td>733.0</td>\n",
       "      <td>1.0</td>\n",
       "      <td>1.0</td>\n",
       "      <td>81099.0</td>\n",
       "      <td>0.0</td>\n",
       "      <td>892.09</td>\n",
       "      <td>26.7</td>\n",
       "      <td>45.346792</td>\n",
       "      <td>14.0</td>\n",
       "      <td>0.0</td>\n",
       "      <td>188.960313</td>\n",
       "      <td>77961.0</td>\n",
       "      <td>0.0</td>\n",
       "      <td>0.0</td>\n",
       "    </tr>\n",
       "    <tr>\n",
       "      <th>2</th>\n",
       "      <td>16117.0</td>\n",
       "      <td>0.0</td>\n",
       "      <td>724.0</td>\n",
       "      <td>2.0</td>\n",
       "      <td>1.0</td>\n",
       "      <td>60438.0</td>\n",
       "      <td>1.0</td>\n",
       "      <td>1244.02</td>\n",
       "      <td>16.7</td>\n",
       "      <td>32.000000</td>\n",
       "      <td>11.0</td>\n",
       "      <td>1.0</td>\n",
       "      <td>106.183803</td>\n",
       "      <td>14815.0</td>\n",
       "      <td>1.0</td>\n",
       "      <td>0.0</td>\n",
       "    </tr>\n",
       "    <tr>\n",
       "      <th>3</th>\n",
       "      <td>11716.0</td>\n",
       "      <td>0.0</td>\n",
       "      <td>740.0</td>\n",
       "      <td>3.0</td>\n",
       "      <td>0.0</td>\n",
       "      <td>34171.0</td>\n",
       "      <td>0.0</td>\n",
       "      <td>990.94</td>\n",
       "      <td>10.0</td>\n",
       "      <td>21.443570</td>\n",
       "      <td>21.0</td>\n",
       "      <td>0.0</td>\n",
       "      <td>83.719771</td>\n",
       "      <td>43533.0</td>\n",
       "      <td>0.0</td>\n",
       "      <td>0.0</td>\n",
       "    </tr>\n",
       "    <tr>\n",
       "      <th>4</th>\n",
       "      <td>9789.0</td>\n",
       "      <td>1.0</td>\n",
       "      <td>686.0</td>\n",
       "      <td>1.0</td>\n",
       "      <td>1.0</td>\n",
       "      <td>47003.0</td>\n",
       "      <td>1.0</td>\n",
       "      <td>503.71</td>\n",
       "      <td>16.7</td>\n",
       "      <td>25.000000</td>\n",
       "      <td>13.0</td>\n",
       "      <td>1.0</td>\n",
       "      <td>130.049990</td>\n",
       "      <td>19553.0</td>\n",
       "      <td>1.0</td>\n",
       "      <td>0.0</td>\n",
       "    </tr>\n",
       "    <tr>\n",
       "      <th>...</th>\n",
       "      <td>...</td>\n",
       "      <td>...</td>\n",
       "      <td>...</td>\n",
       "      <td>...</td>\n",
       "      <td>...</td>\n",
       "      <td>...</td>\n",
       "      <td>...</td>\n",
       "      <td>...</td>\n",
       "      <td>...</td>\n",
       "      <td>...</td>\n",
       "      <td>...</td>\n",
       "      <td>...</td>\n",
       "      <td>...</td>\n",
       "      <td>...</td>\n",
       "      <td>...</td>\n",
       "      <td>...</td>\n",
       "    </tr>\n",
       "    <tr>\n",
       "      <th>88905</th>\n",
       "      <td>10136.0</td>\n",
       "      <td>0.0</td>\n",
       "      <td>728.0</td>\n",
       "      <td>1.0</td>\n",
       "      <td>0.0</td>\n",
       "      <td>35476.0</td>\n",
       "      <td>0.0</td>\n",
       "      <td>567.62</td>\n",
       "      <td>21.2</td>\n",
       "      <td>14.000000</td>\n",
       "      <td>14.0</td>\n",
       "      <td>0.0</td>\n",
       "      <td>126.150704</td>\n",
       "      <td>28265.0</td>\n",
       "      <td>0.0</td>\n",
       "      <td>0.0</td>\n",
       "    </tr>\n",
       "    <tr>\n",
       "      <th>88906</th>\n",
       "      <td>29610.0</td>\n",
       "      <td>0.0</td>\n",
       "      <td>710.0</td>\n",
       "      <td>1.0</td>\n",
       "      <td>1.0</td>\n",
       "      <td>123375.0</td>\n",
       "      <td>0.0</td>\n",
       "      <td>2508.63</td>\n",
       "      <td>15.0</td>\n",
       "      <td>16.000000</td>\n",
       "      <td>11.0</td>\n",
       "      <td>0.0</td>\n",
       "      <td>133.142781</td>\n",
       "      <td>32766.0</td>\n",
       "      <td>0.0</td>\n",
       "      <td>0.0</td>\n",
       "    </tr>\n",
       "    <tr>\n",
       "      <th>88907</th>\n",
       "      <td>24394.0</td>\n",
       "      <td>0.0</td>\n",
       "      <td>746.0</td>\n",
       "      <td>-1.0</td>\n",
       "      <td>1.0</td>\n",
       "      <td>71148.0</td>\n",
       "      <td>0.0</td>\n",
       "      <td>818.20</td>\n",
       "      <td>36.4</td>\n",
       "      <td>9.000000</td>\n",
       "      <td>8.0</td>\n",
       "      <td>0.0</td>\n",
       "      <td>211.489952</td>\n",
       "      <td>53374.0</td>\n",
       "      <td>0.0</td>\n",
       "      <td>0.0</td>\n",
       "    </tr>\n",
       "    <tr>\n",
       "      <th>88908</th>\n",
       "      <td>5030.0</td>\n",
       "      <td>0.0</td>\n",
       "      <td>722.0</td>\n",
       "      <td>-1.0</td>\n",
       "      <td>0.0</td>\n",
       "      <td>25424.0</td>\n",
       "      <td>0.0</td>\n",
       "      <td>360.17</td>\n",
       "      <td>19.0</td>\n",
       "      <td>7.000000</td>\n",
       "      <td>12.0</td>\n",
       "      <td>0.0</td>\n",
       "      <td>79.837335</td>\n",
       "      <td>18422.0</td>\n",
       "      <td>0.0</td>\n",
       "      <td>0.0</td>\n",
       "    </tr>\n",
       "    <tr>\n",
       "      <th>88909</th>\n",
       "      <td>18446.0</td>\n",
       "      <td>0.0</td>\n",
       "      <td>718.0</td>\n",
       "      <td>6.0</td>\n",
       "      <td>0.0</td>\n",
       "      <td>44066.0</td>\n",
       "      <td>0.0</td>\n",
       "      <td>749.13</td>\n",
       "      <td>10.7</td>\n",
       "      <td>26.400275</td>\n",
       "      <td>18.0</td>\n",
       "      <td>1.0</td>\n",
       "      <td>81.963406</td>\n",
       "      <td>21124.0</td>\n",
       "      <td>0.0</td>\n",
       "      <td>1.0</td>\n",
       "    </tr>\n",
       "  </tbody>\n",
       "</table>\n",
       "<p>88910 rows × 16 columns</p>\n",
       "</div>"
      ],
      "text/plain": [
       "       Current Loan Amount  Term  Credit Score  Years in current job  \\\n",
       "0                  12232.0   0.0         728.0                   0.0   \n",
       "1                  25014.0   1.0         733.0                   1.0   \n",
       "2                  16117.0   0.0         724.0                   2.0   \n",
       "3                  11716.0   0.0         740.0                   3.0   \n",
       "4                   9789.0   1.0         686.0                   1.0   \n",
       "...                    ...   ...           ...                   ...   \n",
       "88905              10136.0   0.0         728.0                   1.0   \n",
       "88906              29610.0   0.0         710.0                   1.0   \n",
       "88907              24394.0   0.0         746.0                  -1.0   \n",
       "88908               5030.0   0.0         722.0                  -1.0   \n",
       "88909              18446.0   0.0         718.0                   6.0   \n",
       "\n",
       "       Home Ownership  Annual Income  Purpose  Monthly Debt  \\\n",
       "0                 0.0        46643.0      0.0        777.39   \n",
       "1                 1.0        81099.0      0.0        892.09   \n",
       "2                 1.0        60438.0      1.0       1244.02   \n",
       "3                 0.0        34171.0      0.0        990.94   \n",
       "4                 1.0        47003.0      1.0        503.71   \n",
       "...               ...            ...      ...           ...   \n",
       "88905             0.0        35476.0      0.0        567.62   \n",
       "88906             1.0       123375.0      0.0       2508.63   \n",
       "88907             1.0        71148.0      0.0        818.20   \n",
       "88908             0.0        25424.0      0.0        360.17   \n",
       "88909             0.0        44066.0      0.0        749.13   \n",
       "\n",
       "       Years of Credit History  Months since last delinquent  \\\n",
       "0                         18.0                     10.000000   \n",
       "1                         26.7                     45.346792   \n",
       "2                         16.7                     32.000000   \n",
       "3                         10.0                     21.443570   \n",
       "4                         16.7                     25.000000   \n",
       "...                        ...                           ...   \n",
       "88905                     21.2                     14.000000   \n",
       "88906                     15.0                     16.000000   \n",
       "88907                     36.4                      9.000000   \n",
       "88908                     19.0                      7.000000   \n",
       "88909                     10.7                     26.400275   \n",
       "\n",
       "       Number of Open Accounts  Number of Credit Problems  \\\n",
       "0                         12.0                        0.0   \n",
       "1                         14.0                        0.0   \n",
       "2                         11.0                        1.0   \n",
       "3                         21.0                        0.0   \n",
       "4                         13.0                        1.0   \n",
       "...                        ...                        ...   \n",
       "88905                     14.0                        0.0   \n",
       "88906                     11.0                        0.0   \n",
       "88907                      8.0                        0.0   \n",
       "88908                     12.0                        0.0   \n",
       "88909                     18.0                        1.0   \n",
       "\n",
       "       Current Credit Balance  Maximum Open Credit  Bankruptcies  Tax Liens  \n",
       "0                   82.231381               7946.0           0.0        0.0  \n",
       "1                  188.960313              77961.0           0.0        0.0  \n",
       "2                  106.183803              14815.0           1.0        0.0  \n",
       "3                   83.719771              43533.0           0.0        0.0  \n",
       "4                  130.049990              19553.0           1.0        0.0  \n",
       "...                       ...                  ...           ...        ...  \n",
       "88905              126.150704              28265.0           0.0        0.0  \n",
       "88906              133.142781              32766.0           0.0        0.0  \n",
       "88907              211.489952              53374.0           0.0        0.0  \n",
       "88908               79.837335              18422.0           0.0        0.0  \n",
       "88909               81.963406              21124.0           0.0        1.0  \n",
       "\n",
       "[88910 rows x 16 columns]"
      ]
     },
     "execution_count": 89,
     "metadata": {},
     "output_type": "execute_result"
    }
   ],
   "source": [
    "X_imputed"
   ]
  },
  {
   "cell_type": "code",
   "execution_count": 90,
   "id": "7f69f662-0b14-4cb8-a8e9-05d688ca6690",
   "metadata": {},
   "outputs": [
    {
     "data": {
      "text/plain": [
       "array([ 0.,  1.,  2.,  3.,  4.,  5.,  6.,  7.,  8.,  9., 10., -1.])"
      ]
     },
     "execution_count": 90,
     "metadata": {},
     "output_type": "execute_result"
    }
   ],
   "source": [
    "X_imputed['Years in current job'].unique()"
   ]
  },
  {
   "cell_type": "code",
   "execution_count": 91,
   "id": "da9ef4e9-1ad5-4938-8027-840d9dd7a687",
   "metadata": {},
   "outputs": [],
   "source": [
    "# Converting categorical features into numerical using One-Hot Encoding\n",
    "X_encoded = pd.get_dummies(X_imputed, drop_first=True)"
   ]
  },
  {
   "cell_type": "code",
   "execution_count": 92,
   "id": "3abc4d2e-3d8f-4c5e-8078-15e147c214f1",
   "metadata": {},
   "outputs": [],
   "source": [
    "from sklearn.preprocessing import LabelBinarizer\n",
    "\n",
    "# Converting categorical target variable into binary (0/1)\n",
    "lb = LabelBinarizer()\n",
    "y_binarized = lb.fit_transform(y).ravel()"
   ]
  },
  {
   "cell_type": "code",
   "execution_count": 93,
   "id": "d8cd1f7c-f9d2-4052-8f1b-bbfbef387ef8",
   "metadata": {},
   "outputs": [
    {
     "name": "stdout",
     "output_type": "stream",
     "text": [
      "[[-0.1869176  -0.57302977  0.13975349 ... -0.79845518 -0.32781073\n",
      "  -0.10958408]\n",
      " [ 1.48349848  1.74511004  0.34391783 ...  1.83825771 -0.32781073\n",
      "  -0.10958408]\n",
      " [ 0.32079375 -0.57302977 -0.02357798 ... -0.53977375  2.58792074\n",
      "  -0.10958408]\n",
      " ...\n",
      " [ 1.40247376 -0.57302977  0.87474512 ...  0.91232955 -0.32781073\n",
      "  -0.10958408]\n",
      " [-1.1281112  -0.57302977 -0.10524372 ... -0.4039368  -0.32781073\n",
      "  -0.10958408]\n",
      " [ 0.62515919 -0.57302977 -0.26857519 ... -0.30218149 -0.32781073\n",
      "   3.77361205]]\n",
      "\n",
      "Shape of X_scaled: (88910, 16)\n"
     ]
    }
   ],
   "source": [
    "from sklearn.preprocessing import StandardScaler\n",
    "\n",
    "# Applying standard scaling to independent variables\n",
    "scaler = StandardScaler()\n",
    "X_scaled = scaler.fit_transform(X_encoded)\n",
    "\n",
    "# Displaying the transformed data\n",
    "print(X_scaled)\n",
    "print(\"\\nShape of X_scaled:\", X_scaled.shape)\n"
   ]
  },
  {
   "cell_type": "code",
   "execution_count": 104,
   "id": "1e66690f",
   "metadata": {},
   "outputs": [
    {
     "name": "stdout",
     "output_type": "stream",
     "text": [
      "Index(['Current Loan Amount', 'Term', 'Credit Score', 'Years in current job',\n",
      "       'Home Ownership', 'Annual Income', 'Purpose', 'Monthly Debt',\n",
      "       'Years of Credit History', 'Months since last delinquent',\n",
      "       'Number of Open Accounts', 'Number of Credit Problems',\n",
      "       'Current Credit Balance', 'Maximum Open Credit', 'Bankruptcies',\n",
      "       'Tax Liens'],\n",
      "      dtype='object')\n"
     ]
    }
   ],
   "source": [
    "X_scaled.shape\n",
    "print(X_encoded.columns)"
   ]
  },
  {
   "cell_type": "markdown",
   "id": "cb32e0fb-69c8-40b8-a151-449474226ad1",
   "metadata": {},
   "source": [
    "#### **📌 Step-by-Step Data Preprocessing for Machine Learning**\n",
    "This includes splitting the dataset into **X (features) and y (target)**, handling missing values, encoding categorical variables, binarizing the target variable, and scaling the independent variables.\n",
    "\n",
    "---\n",
    "\n",
    "#### **🔹 1. Splitting Dataset into Features (X) and Target (y)**  \n",
    "\n",
    "```python\n",
    "# Selecting independent variables (features)\n",
    "X = data.iloc[:, 3:19]  # Selecting relevant columns for features\n",
    "\n",
    "# Selecting dependent variable (target)\n",
    "y = data['Loan Status']  # Target variable\n",
    "```\n",
    "✅ **Ensures a clean separation between input features and output labels.**\n",
    "\n",
    "---\n",
    "\n",
    "#### **🔹 2. Handling Missing Values Using Soft Impute**  \n",
    "```python\n",
    "from fancyimpute import SoftImpute\n",
    "import pandas as pd\n",
    "\n",
    "# Imputing missing values in the feature set\n",
    "X_imputed = pd.DataFrame(\n",
    "    data=SoftImpute().fit_transform(X),\n",
    "    columns=X.columns,\n",
    "    index=X.index\n",
    ")\n",
    "```\n",
    "✅ **Soft Impute fills missing values intelligently based on data patterns rather than simple mean/median.**  \n",
    "\n",
    "---\n",
    "\n",
    "#### **🔹 3. Encoding Categorical Variables Using One-Hot Encoding**  \n",
    "```python\n",
    "# Converting categorical features into numerical using One-Hot Encoding\n",
    "X_encoded = pd.get_dummies(X_imputed, drop_first=True)\n",
    "```\n",
    "✅ **One-Hot Encoding is applied to categorical columns. `drop_first=True` prevents multicollinearity.**  \n",
    "\n",
    "---\n",
    "\n",
    "#### **🔹 4. Binarizing the Target Variable (`y`)**  \n",
    "```python\n",
    "from sklearn.preprocessing import LabelBinarizer\n",
    "\n",
    "# Converting categorical target variable into binary (0/1)\n",
    "lb = LabelBinarizer()\n",
    "y_binarized = lb.fit_transform(y).ravel()\n",
    "```\n",
    "✅ **Ensures `y` is in a binary format, making it ready for classification models.**  \n",
    "\n",
    "---\n",
    "\n",
    "#### **🔹 5. Scaling the Independent Variables (`X`)**  \n",
    "```python\n",
    "from sklearn.preprocessing import StandardScaler\n",
    "\n",
    "# Applying standard scaling to independent variables\n",
    "scaler = StandardScaler()\n",
    "X_scaled = scaler.fit_transform(X_encoded)\n",
    "\n",
    "# Displaying the transformed data\n",
    "print(X_scaled)\n",
    "print(\"\\nShape of X_scaled:\", X_scaled.shape)\n",
    "```\n",
    "✅ **Standardization ensures all features have a mean of 0 and variance of 1, improving model performance.**  \n",
    "\n",
    "---\n",
    "\n",
    "#### **📌 Summary: What Was Done?**  \n",
    "✅ **Step 1:** Split dataset into **X (features) and y (target)**.  \n",
    "✅ **Step 2:** Imputed missing values in `X` using **Soft Impute**.  \n",
    "✅ **Step 3:** Converted categorical columns in `X` using **One-Hot Encoding**.  \n",
    "✅ **Step 4:** Converted `y` into binary using **Label Binarization**.  \n",
    "✅ **Step 5:** Scaled `X` using **StandardScaler**.  \n",
    "\n",
    "---\n",
    "\n",
    "#### **📌 Why Not Use `y = data['Loan Status']` Directly? Why Use `LabelBinarizer()` Instead?**\n",
    "If `\"Loan Status\"` is categorical (e.g., `\"Loan Given\"` / `\"Loan Refused\"`), we **cannot** use it directly in machine learning models because models require **numerical input**.\n",
    "\n",
    "#### **🔹 1. Understanding the Issue**\n",
    "If `y = data['Loan Status']` contains text values like:  \n",
    "```\n",
    "Loan Given, Loan Refused\n",
    "```\n",
    "Then, using it directly would **cause errors** because:  \n",
    "❌ **ML models do not work with string values.**  \n",
    "❌ **Categorical text data must be converted into numbers.**  \n",
    "\n",
    "---\n",
    "\n",
    "#### **🔹 2. Why Use `LabelBinarizer()` Instead?**  \n",
    "```python\n",
    "from sklearn.preprocessing import LabelBinarizer\n",
    "\n",
    "lb = LabelBinarizer()\n",
    "y_binarized = lb.fit_transform(data['Loan Status']).ravel()\n",
    "```\n",
    "✅ **What It Does:**  \n",
    "- Converts categorical labels into **binary (0/1) values**.  \n",
    "- Ensures `y` is in the **correct numerical format** for ML models.  \n",
    "\n",
    "---\n",
    "\n",
    "#### **🔹 3. Example: Before vs. After `LabelBinarizer()`**\n",
    "| **Loan Status (Original)** | **Loan Status (Binarized)** |\n",
    "|-----------------|--------------------|\n",
    "| Loan Given     | 1                  |\n",
    "| Loan Refused   | 0                  |\n",
    "| Loan Given     | 1                  |\n",
    "| Loan Refused   | 0                  |\n",
    "\n",
    "🔹 **If `y` has more than two categories (multi-class classification), `LabelBinarizer()` can handle that too.**  \n",
    "\n",
    "---\n",
    "\n",
    "#### **📌 Why Not Use One-Hot Encoding (OHE) for `y` Instead of `LabelBinarizer()`?**  \n",
    "\n",
    "You're right that **One-Hot Encoding (OHE) converts categorical variables into binary form**, but it is **not the best choice** for `y` in binary classification.  \n",
    "\n",
    "#### **🔹 1. What Happens When Using One-Hot Encoding (OHE)?**  \n",
    "```python\n",
    "from sklearn.preprocessing import OneHotEncoder\n",
    "\n",
    "ohe = OneHotEncoder()\n",
    "y_ohe = ohe.fit_transform(data[['Loan Status']]).toarray()\n",
    "```\n",
    "✅ **OHE converts `\"Loan Given\"` & `\"Loan Refused\"` into two separate columns:**  \n",
    "\n",
    "| **Loan Status**  | **Loan Given** | **Loan Refused** |\n",
    "|------------------|--------------|------------------|\n",
    "| Loan Given      | 1            | 0                |\n",
    "| Loan Refused    | 0            | 1                |\n",
    "| Loan Given      | 1            | 0                |\n",
    "| Loan Refused    | 0            | 1                |\n",
    "\n",
    "---\n",
    "\n",
    "#### **🔹 2. Why is OHE NOT the Best Choice for `y`?**\n",
    "❌ **Unnecessary Complexity**  \n",
    "- OHE **creates multiple columns**, but in **binary classification, we only need one column (0 or 1)**.  \n",
    "- The **extra column is redundant** because `\"Loan Given\" = 1` automatically means `\"Loan Refused\" = 0\"`.  \n",
    "\n",
    "❌ **Some ML Models Require a 1D Target Array**  \n",
    "- Many models (like **Logistic Regression, SVM, Decision Trees**) **require `y` to be a 1D array** (single column).  \n",
    "- **OHE creates a 2D matrix**, which can cause errors.  \n",
    "\n",
    "✅ **Why `LabelBinarizer()` is Better?**  \n",
    "- It **keeps `y` as a single column (1D array)** instead of creating multiple columns.  \n",
    "- Ensures **the target variable is in the correct format** for classification models.  \n",
    "\n",
    "---\n",
    "\n",
    "#### **📌 Why Not Use `drop='first'` in One-Hot Encoding for `y`?**  \n",
    "\n",
    "You asked:  \n",
    "*\"If OHE creates an extra column, why can't we just use `drop='first'` to remove the extra column?\"*  \n",
    "\n",
    "✅ **Short Answer:**  \n",
    "Using `drop='first'` **removes one column**, but the result is **still a 2D array (`(n_samples,1)`)** instead of a simple 1D array (`(n_samples,)`).  \n",
    "Most ML models require a **1D target array**, so this can cause issues.  \n",
    "\n",
    "#### **🔹 The Real Problem: Shape Still Causes Issues**  \n",
    "Even after `drop='first'`, the output **is still stored as a 2D matrix (`(n_samples,1)`)** instead of a simple 1D array (`(n_samples,)`).  \n",
    "\n",
    "#### **Check the Shape After OHE with `drop='first'`**\n",
    "```python\n",
    "print(y_ohe.shape)  # Output: (n_samples, 1) ❌ Still 2D\n",
    "```\n",
    "✅ **Solution:** Convert it manually:  \n",
    "```python\n",
    "y_ohe = y_ohe.ravel()  # Converts (n_samples, 1) → (n_samples,)\n",
    "```\n",
    "📌 **But why do this manually when `LabelBinarizer()` does it automatically?**  \n",
    "\n",
    "---\n",
    "\n",
    "# **📌 Conclusion: What Should You Do?**\n",
    "🚀 **Use `LabelBinarizer()` for binary classification (`y`).**  \n",
    "🚀 **Use `OneHotEncoder()` only for multi-class classification.**  "
   ]
  },
  {
   "cell_type": "markdown",
   "id": "33e71347-6e32-42d6-b219-495e23d9459c",
   "metadata": {},
   "source": [
    "## Model Building"
   ]
  },
  {
   "cell_type": "code",
   "execution_count": 94,
   "id": "2ec9cd2c-05b1-4868-9684-563d62f0de1d",
   "metadata": {},
   "outputs": [],
   "source": [
    "from sklearn.model_selection import train_test_split\n",
    "\n",
    "# Splitting the data into 70% training and 30% testing\n",
    "X_train, X_test, y_train, y_test = train_test_split(X_scaled, y_binarized, test_size=0.3, random_state=22)"
   ]
  },
  {
   "cell_type": "markdown",
   "id": "89b4ffb2-cb71-475d-be5a-57122620067b",
   "metadata": {},
   "source": [
    "### 1️⃣ XGBoost Classifier"
   ]
  },
  {
   "cell_type": "code",
   "execution_count": 98,
   "id": "dc6fe63e-0fb0-432a-8c5d-a6d2a0215095",
   "metadata": {},
   "outputs": [
    {
     "name": "stdout",
     "output_type": "stream",
     "text": [
      "🔹 XGBoost Classifier Results:\n",
      "\n",
      "Accuracy: 0.7276271885427211\n",
      "\n",
      "ROC-AUC Score: 0.7384168078909026\n",
      "\n",
      "F1 Score: 0.38301486199575374\n",
      "\n",
      "Classification Report:\n",
      "               precision    recall  f1-score   support\n",
      "\n",
      "           0       0.76      0.90      0.83     18981\n",
      "           1       0.55      0.29      0.38      7692\n",
      "\n",
      "    accuracy                           0.73     26673\n",
      "   macro avg       0.66      0.60      0.60     26673\n",
      "weighted avg       0.70      0.73      0.70     26673\n",
      "\n",
      "Confusion Matrix:\n",
      " [[17153  1828]\n",
      " [ 5437  2255]]\n"
     ]
    },
    {
     "data": {
      "image/png": "[encoded data removed]",
      "text/plain": [
       "<Figure size 640x480 with 1 Axes>"
      ]
     },
     "metadata": {},
     "output_type": "display_data"
    }
   ],
   "source": [
    "from xgboost import XGBClassifier\n",
    "from sklearn.metrics import accuracy_score, roc_auc_score, f1_score, classification_report, confusion_matrix\n",
    "import matplotlib.pyplot as plt\n",
    "from xgboost import plot_importance\n",
    "\n",
    "# Initialize XGBoost model\n",
    "xgb = XGBClassifier()\n",
    "\n",
    "# Train the model\n",
    "xgb.fit(X_train, y_train)\n",
    "\n",
    "# Make predictions\n",
    "y_pred = xgb.predict(X_test)\n",
    "y_pred_proba = xgb.predict_proba(X_test)[:, 1]\n",
    "\n",
    "# Print Evaluation Metrics\n",
    "print(\"🔹 XGBoost Classifier Results:\")\n",
    "print(\"\\nAccuracy:\", accuracy_score(y_test, y_pred))\n",
    "print(\"\\nROC-AUC Score:\", roc_auc_score(y_test, y_pred_proba))\n",
    "print(\"\\nF1 Score:\", f1_score(y_test, y_pred))\n",
    "print(\"\\nClassification Report:\\n\", classification_report(y_test, y_pred))\n",
    "print(\"Confusion Matrix:\\n\", confusion_matrix(y_test, y_pred))\n",
    "\n",
    "# Feature Importance Plot\n",
    "plot_importance(xgb)\n",
    "plt.show()\n"
   ]
  },
  {
   "cell_type": "markdown",
   "id": "21878a1b-e7d6-43d0-a659-75272f1afedc",
   "metadata": {},
   "source": [
    "### 2️⃣ K-Nearest Neighbors (KNN)"
   ]
  },
  {
   "cell_type": "code",
   "execution_count": 154,
   "id": "df758f52-cd0f-4313-b896-4842af334ce6",
   "metadata": {},
   "outputs": [
    {
     "name": "stdout",
     "output_type": "stream",
     "text": [
      "🔹 KNN Classifier Results:\n",
      "\n",
      "Accuracy: 0.6832377310388783\n",
      "\n",
      "F1 Score: 0.3161473087818697\n",
      "\n",
      "Confusion Matrix:\n",
      " [[16271  2710]\n",
      " [ 5739  1953]]\n",
      "\n",
      "Classification Report:\n",
      "               precision    recall  f1-score   support\n",
      "\n",
      "           0       0.74      0.86      0.79     18981\n",
      "           1       0.42      0.25      0.32      7692\n",
      "\n",
      "    accuracy                           0.68     26673\n",
      "   macro avg       0.58      0.56      0.56     26673\n",
      "weighted avg       0.65      0.68      0.66     26673\n",
      "\n"
     ]
    }
   ],
   "source": [
    "from sklearn.neighbors import KNeighborsClassifier\n",
    "\n",
    "# Initialize KNN model\n",
    "knn = KNeighborsClassifier()\n",
    "\n",
    "# Train the model\n",
    "knn.fit(X_train, y_train)\n",
    "\n",
    "# Make predictions\n",
    "y_pred_knn = knn.predict(X_test)\n",
    "\n",
    "# Print Evaluation Metrics\n",
    "print(\"🔹 KNN Classifier Results:\\n\")\n",
    "print(\"Accuracy:\", accuracy_score(y_test, y_pred_knn))\n",
    "print(\"\\nF1 Score:\", f1_score(y_test, y_pred_knn))\n",
    "print(\"\\nConfusion Matrix:\\n\", confusion_matrix(y_test, y_pred_knn))\n",
    "print(\"\\nClassification Report:\\n\", classification_report(y_test, y_pred_knn))"
   ]
  },
  {
   "cell_type": "markdown",
   "id": "7a58f9c7-2e6c-4a40-b2fe-c6536c839b6f",
   "metadata": {},
   "source": [
    "### 3️⃣ Logistic Regression"
   ]
  },
  {
   "cell_type": "code",
   "execution_count": 157,
   "id": "fd26bf1b-280e-4c13-a1e9-9366a1853f43",
   "metadata": {},
   "outputs": [
    {
     "name": "stdout",
     "output_type": "stream",
     "text": [
      "\n",
      "🔹 Logistic Regression Results:\n",
      "\n",
      "Accuracy: 0.7199790049863157\n",
      "\n",
      "F1 Score: 0.21121554546414617\n",
      "\n",
      "Confusion Matrix:\n",
      " [[18204   777]\n",
      " [ 6692  1000]]\n",
      "\n",
      "Classification Report:\n",
      "               precision    recall  f1-score   support\n",
      "\n",
      "           0       0.73      0.96      0.83     18981\n",
      "           1       0.56      0.13      0.21      7692\n",
      "\n",
      "    accuracy                           0.72     26673\n",
      "   macro avg       0.65      0.54      0.52     26673\n",
      "weighted avg       0.68      0.72      0.65     26673\n",
      "\n"
     ]
    }
   ],
   "source": [
    "from sklearn.linear_model import LogisticRegression\n",
    "\n",
    "# Initialize Logistic Regression model\n",
    "log_reg = LogisticRegression()\n",
    "\n",
    "# Train the model\n",
    "log_reg.fit(X_train, y_train)\n",
    "\n",
    "# Make predictions\n",
    "y_pred_log = log_reg.predict(X_test)\n",
    "\n",
    "# Print Evaluation Metrics\n",
    "print(\"\\n🔹 Logistic Regression Results:\\n\")\n",
    "print(\"Accuracy:\", accuracy_score(y_test, y_pred_log))\n",
    "print(\"\\nF1 Score:\", f1_score(y_test, y_pred_log))\n",
    "print(\"\\nConfusion Matrix:\\n\", confusion_matrix(y_test, y_pred_log))\n",
    "print(\"\\nClassification Report:\\n\", classification_report(y_test, y_pred_log))"
   ]
  },
  {
   "cell_type": "markdown",
   "id": "acfdd8f4-60ee-406f-abcc-b5030adb2fdc",
   "metadata": {},
   "source": [
    "### 4️⃣ Decision Tree Classifier"
   ]
  },
  {
   "cell_type": "code",
   "execution_count": 158,
   "id": "941b1060-2957-4764-b1de-92992ab1429e",
   "metadata": {},
   "outputs": [
    {
     "name": "stdout",
     "output_type": "stream",
     "text": [
      "\n",
      "🔹 Decision Tree Classifier Results:\n",
      "\n",
      "Accuracy: 0.6567315262625126\n",
      "\n",
      "F1 Score: 0.41149247975318165\n",
      "\n",
      "Confusion Matrix:\n",
      " [[14316  4665]\n",
      " [ 4491  3201]]\n",
      "\n",
      "Classification Report:\n",
      "               precision    recall  f1-score   support\n",
      "\n",
      "           0       0.76      0.75      0.76     18981\n",
      "           1       0.41      0.42      0.41      7692\n",
      "\n",
      "    accuracy                           0.66     26673\n",
      "   macro avg       0.58      0.59      0.58     26673\n",
      "weighted avg       0.66      0.66      0.66     26673\n",
      "\n"
     ]
    }
   ],
   "source": [
    "from sklearn.tree import DecisionTreeClassifier\n",
    "\n",
    "# Initialize Decision Tree model\n",
    "dt = DecisionTreeClassifier()\n",
    "\n",
    "# Train the model\n",
    "dt.fit(X_train, y_train)\n",
    "\n",
    "# Make predictions\n",
    "y_pred_dt = dt.predict(X_test)\n",
    "\n",
    "# Print Evaluation Metrics\n",
    "print(\"\\n🔹 Decision Tree Classifier Results:\")\n",
    "print(\"\\nAccuracy:\", accuracy_score(y_test, y_pred_dt))\n",
    "print(\"\\nF1 Score:\", f1_score(y_test, y_pred_dt))\n",
    "print(\"\\nConfusion Matrix:\\n\", confusion_matrix(y_test, y_pred_dt))\n",
    "print(\"\\nClassification Report:\\n\", classification_report(y_test, y_pred_dt))"
   ]
  },
  {
   "cell_type": "markdown",
   "id": "2db42629-da96-4170-ac98-531d2a0ac39b",
   "metadata": {},
   "source": [
    "#### Handling Class Imbalance Using SMOTE"
   ]
  },
  {
   "cell_type": "code",
   "execution_count": 159,
   "id": "cb3d65bb-2f95-49a0-b51f-1769a1cd96ef",
   "metadata": {},
   "outputs": [
    {
     "name": "stdout",
     "output_type": "stream",
     "text": [
      "Class distribution after SMOTE:\n",
      " 1    44756\n",
      "0    44756\n",
      "Name: count, dtype: int64\n"
     ]
    }
   ],
   "source": [
    "from imblearn.over_sampling import SMOTE\n",
    "import pandas as pd\n",
    "\n",
    "# Applying SMOTE to balance classes\n",
    "smote = SMOTE(random_state=22)\n",
    "X_train_balanced, y_train_balanced = smote.fit_resample(X_train, y_train)\n",
    "\n",
    "print(\"Class distribution after SMOTE:\\n\", pd.Series(y_train_balanced).value_counts())\n"
   ]
  },
  {
   "cell_type": "markdown",
   "id": "b128ec40-1e78-43eb-8011-510b6d8a8ad0",
   "metadata": {},
   "source": [
    "### Gradient Boosting"
   ]
  },
  {
   "cell_type": "code",
   "execution_count": 95,
   "id": "30695f90-f89a-47c0-b2a2-afa5119f680b",
   "metadata": {},
   "outputs": [
    {
     "data": {
      "text/html": [
       "<style>#sk-container-id-1 {\n",
       "  /* Definition of color scheme common for light and dark mode */\n",
       "  --sklearn-color-text: black;\n",
       "  --sklearn-color-line: gray;\n",
       "  /* Definition of color scheme for unfitted estimators */\n",
       "  --sklearn-color-unfitted-level-0: #fff5e6;\n",
       "  --sklearn-color-unfitted-level-1: #f6e4d2;\n",
       "  --sklearn-color-unfitted-level-2: #ffe0b3;\n",
       "  --sklearn-color-unfitted-level-3: chocolate;\n",
       "  /* Definition of color scheme for fitted estimators */\n",
       "  --sklearn-color-fitted-level-0: #f0f8ff;\n",
       "  --sklearn-color-fitted-level-1: #d4ebff;\n",
       "  --sklearn-color-fitted-level-2: #b3dbfd;\n",
       "  --sklearn-color-fitted-level-3: cornflowerblue;\n",
       "\n",
       "  /* Specific color for light theme */\n",
       "  --sklearn-color-text-on-default-background: var(--sg-text-color, var(--theme-code-foreground, var(--jp-content-font-color1, black)));\n",
       "  --sklearn-color-background: var(--sg-background-color, var(--theme-background, var(--jp-layout-color0, white)));\n",
       "  --sklearn-color-border-box: var(--sg-text-color, var(--theme-code-foreground, var(--jp-content-font-color1, black)));\n",
       "  --sklearn-color-icon: #696969;\n",
       "\n",
       "  @media (prefers-color-scheme: dark) {\n",
       "    /* Redefinition of color scheme for dark theme */\n",
       "    --sklearn-color-text-on-default-background: var(--sg-text-color, var(--theme-code-foreground, var(--jp-content-font-color1, white)));\n",
       "    --sklearn-color-background: var(--sg-background-color, var(--theme-background, var(--jp-layout-color0, #111)));\n",
       "    --sklearn-color-border-box: var(--sg-text-color, var(--theme-code-foreground, var(--jp-content-font-color1, white)));\n",
       "    --sklearn-color-icon: #878787;\n",
       "  }\n",
       "}\n",
       "\n",
       "#sk-container-id-1 {\n",
       "  color: var(--sklearn-color-text);\n",
       "}\n",
       "\n",
       "#sk-container-id-1 pre {\n",
       "  padding: 0;\n",
       "}\n",
       "\n",
       "#sk-container-id-1 input.sk-hidden--visually {\n",
       "  border: 0;\n",
       "  clip: rect(1px 1px 1px 1px);\n",
       "  clip: rect(1px, 1px, 1px, 1px);\n",
       "  height: 1px;\n",
       "  margin: -1px;\n",
       "  overflow: hidden;\n",
       "  padding: 0;\n",
       "  position: absolute;\n",
       "  width: 1px;\n",
       "}\n",
       "\n",
       "#sk-container-id-1 div.sk-dashed-wrapped {\n",
       "  border: 1px dashed var(--sklearn-color-line);\n",
       "  margin: 0 0.4em 0.5em 0.4em;\n",
       "  box-sizing: border-box;\n",
       "  padding-bottom: 0.4em;\n",
       "  background-color: var(--sklearn-color-background);\n",
       "}\n",
       "\n",
       "#sk-container-id-1 div.sk-container {\n",
       "  /* jupyter's `normalize.less` sets `[hidden] { display: none; }`\n",
       "     but bootstrap.min.css set `[hidden] { display: none !important; }`\n",
       "     so we also need the `!important` here to be able to override the\n",
       "     default hidden behavior on the sphinx rendered scikit-learn.org.\n",
       "     See: https://github.com/scikit-learn/scikit-learn/issues/21755 */\n",
       "  display: inline-block !important;\n",
       "  position: relative;\n",
       "}\n",
       "\n",
       "#sk-container-id-1 div.sk-text-repr-fallback {\n",
       "  display: none;\n",
       "}\n",
       "\n",
       "div.sk-parallel-item,\n",
       "div.sk-serial,\n",
       "div.sk-item {\n",
       "  /* draw centered vertical line to link estimators */\n",
       "  background-image: linear-gradient(var(--sklearn-color-text-on-default-background), var(--sklearn-color-text-on-default-background));\n",
       "  background-size: 2px 100%;\n",
       "  background-repeat: no-repeat;\n",
       "  background-position: center center;\n",
       "}\n",
       "\n",
       "/* Parallel-specific style estimator block */\n",
       "\n",
       "#sk-container-id-1 div.sk-parallel-item::after {\n",
       "  content: \"\";\n",
       "  width: 100%;\n",
       "  border-bottom: 2px solid var(--sklearn-color-text-on-default-background);\n",
       "  flex-grow: 1;\n",
       "}\n",
       "\n",
       "#sk-container-id-1 div.sk-parallel {\n",
       "  display: flex;\n",
       "  align-items: stretch;\n",
       "  justify-content: center;\n",
       "  background-color: var(--sklearn-color-background);\n",
       "  position: relative;\n",
       "}\n",
       "\n",
       "#sk-container-id-1 div.sk-parallel-item {\n",
       "  display: flex;\n",
       "  flex-direction: column;\n",
       "}\n",
       "\n",
       "#sk-container-id-1 div.sk-parallel-item:first-child::after {\n",
       "  align-self: flex-end;\n",
       "  width: 50%;\n",
       "}\n",
       "\n",
       "#sk-container-id-1 div.sk-parallel-item:last-child::after {\n",
       "  align-self: flex-start;\n",
       "  width: 50%;\n",
       "}\n",
       "\n",
       "#sk-container-id-1 div.sk-parallel-item:only-child::after {\n",
       "  width: 0;\n",
       "}\n",
       "\n",
       "/* Serial-specific style estimator block */\n",
       "\n",
       "#sk-container-id-1 div.sk-serial {\n",
       "  display: flex;\n",
       "  flex-direction: column;\n",
       "  align-items: center;\n",
       "  background-color: var(--sklearn-color-background);\n",
       "  padding-right: 1em;\n",
       "  padding-left: 1em;\n",
       "}\n",
       "\n",
       "\n",
       "/* Toggleable style: style used for estimator/Pipeline/ColumnTransformer box that is\n",
       "clickable and can be expanded/collapsed.\n",
       "- Pipeline and ColumnTransformer use this feature and define the default style\n",
       "- Estimators will overwrite some part of the style using the `sk-estimator` class\n",
       "*/\n",
       "\n",
       "/* Pipeline and ColumnTransformer style (default) */\n",
       "\n",
       "#sk-container-id-1 div.sk-toggleable {\n",
       "  /* Default theme specific background. It is overwritten whether we have a\n",
       "  specific estimator or a Pipeline/ColumnTransformer */\n",
       "  background-color: var(--sklearn-color-background);\n",
       "}\n",
       "\n",
       "/* Toggleable label */\n",
       "#sk-container-id-1 label.sk-toggleable__label {\n",
       "  cursor: pointer;\n",
       "  display: block;\n",
       "  width: 100%;\n",
       "  margin-bottom: 0;\n",
       "  padding: 0.5em;\n",
       "  box-sizing: border-box;\n",
       "  text-align: center;\n",
       "}\n",
       "\n",
       "#sk-container-id-1 label.sk-toggleable__label-arrow:before {\n",
       "  /* Arrow on the left of the label */\n",
       "  content: \"▸\";\n",
       "  float: left;\n",
       "  margin-right: 0.25em;\n",
       "  color: var(--sklearn-color-icon);\n",
       "}\n",
       "\n",
       "#sk-container-id-1 label.sk-toggleable__label-arrow:hover:before {\n",
       "  color: var(--sklearn-color-text);\n",
       "}\n",
       "\n",
       "/* Toggleable content - dropdown */\n",
       "\n",
       "#sk-container-id-1 div.sk-toggleable__content {\n",
       "  max-height: 0;\n",
       "  max-width: 0;\n",
       "  overflow: hidden;\n",
       "  text-align: left;\n",
       "  /* unfitted */\n",
       "  background-color: var(--sklearn-color-unfitted-level-0);\n",
       "}\n",
       "\n",
       "#sk-container-id-1 div.sk-toggleable__content.fitted {\n",
       "  /* fitted */\n",
       "  background-color: var(--sklearn-color-fitted-level-0);\n",
       "}\n",
       "\n",
       "#sk-container-id-1 div.sk-toggleable__content pre {\n",
       "  margin: 0.2em;\n",
       "  border-radius: 0.25em;\n",
       "  color: var(--sklearn-color-text);\n",
       "  /* unfitted */\n",
       "  background-color: var(--sklearn-color-unfitted-level-0);\n",
       "}\n",
       "\n",
       "#sk-container-id-1 div.sk-toggleable__content.fitted pre {\n",
       "  /* unfitted */\n",
       "  background-color: var(--sklearn-color-fitted-level-0);\n",
       "}\n",
       "\n",
       "#sk-container-id-1 input.sk-toggleable__control:checked~div.sk-toggleable__content {\n",
       "  /* Expand drop-down */\n",
       "  max-height: 200px;\n",
       "  max-width: 100%;\n",
       "  overflow: auto;\n",
       "}\n",
       "\n",
       "#sk-container-id-1 input.sk-toggleable__control:checked~label.sk-toggleable__label-arrow:before {\n",
       "  content: \"▾\";\n",
       "}\n",
       "\n",
       "/* Pipeline/ColumnTransformer-specific style */\n",
       "\n",
       "#sk-container-id-1 div.sk-label input.sk-toggleable__control:checked~label.sk-toggleable__label {\n",
       "  color: var(--sklearn-color-text);\n",
       "  background-color: var(--sklearn-color-unfitted-level-2);\n",
       "}\n",
       "\n",
       "#sk-container-id-1 div.sk-label.fitted input.sk-toggleable__control:checked~label.sk-toggleable__label {\n",
       "  background-color: var(--sklearn-color-fitted-level-2);\n",
       "}\n",
       "\n",
       "/* Estimator-specific style */\n",
       "\n",
       "/* Colorize estimator box */\n",
       "#sk-container-id-1 div.sk-estimator input.sk-toggleable__control:checked~label.sk-toggleable__label {\n",
       "  /* unfitted */\n",
       "  background-color: var(--sklearn-color-unfitted-level-2);\n",
       "}\n",
       "\n",
       "#sk-container-id-1 div.sk-estimator.fitted input.sk-toggleable__control:checked~label.sk-toggleable__label {\n",
       "  /* fitted */\n",
       "  background-color: var(--sklearn-color-fitted-level-2);\n",
       "}\n",
       "\n",
       "#sk-container-id-1 div.sk-label label.sk-toggleable__label,\n",
       "#sk-container-id-1 div.sk-label label {\n",
       "  /* The background is the default theme color */\n",
       "  color: var(--sklearn-color-text-on-default-background);\n",
       "}\n",
       "\n",
       "/* On hover, darken the color of the background */\n",
       "#sk-container-id-1 div.sk-label:hover label.sk-toggleable__label {\n",
       "  color: var(--sklearn-color-text);\n",
       "  background-color: var(--sklearn-color-unfitted-level-2);\n",
       "}\n",
       "\n",
       "/* Label box, darken color on hover, fitted */\n",
       "#sk-container-id-1 div.sk-label.fitted:hover label.sk-toggleable__label.fitted {\n",
       "  color: var(--sklearn-color-text);\n",
       "  background-color: var(--sklearn-color-fitted-level-2);\n",
       "}\n",
       "\n",
       "/* Estimator label */\n",
       "\n",
       "#sk-container-id-1 div.sk-label label {\n",
       "  font-family: monospace;\n",
       "  font-weight: bold;\n",
       "  display: inline-block;\n",
       "  line-height: 1.2em;\n",
       "}\n",
       "\n",
       "#sk-container-id-1 div.sk-label-container {\n",
       "  text-align: center;\n",
       "}\n",
       "\n",
       "/* Estimator-specific */\n",
       "#sk-container-id-1 div.sk-estimator {\n",
       "  font-family: monospace;\n",
       "  border: 1px dotted var(--sklearn-color-border-box);\n",
       "  border-radius: 0.25em;\n",
       "  box-sizing: border-box;\n",
       "  margin-bottom: 0.5em;\n",
       "  /* unfitted */\n",
       "  background-color: var(--sklearn-color-unfitted-level-0);\n",
       "}\n",
       "\n",
       "#sk-container-id-1 div.sk-estimator.fitted {\n",
       "  /* fitted */\n",
       "  background-color: var(--sklearn-color-fitted-level-0);\n",
       "}\n",
       "\n",
       "/* on hover */\n",
       "#sk-container-id-1 div.sk-estimator:hover {\n",
       "  /* unfitted */\n",
       "  background-color: var(--sklearn-color-unfitted-level-2);\n",
       "}\n",
       "\n",
       "#sk-container-id-1 div.sk-estimator.fitted:hover {\n",
       "  /* fitted */\n",
       "  background-color: var(--sklearn-color-fitted-level-2);\n",
       "}\n",
       "\n",
       "/* Specification for estimator info (e.g. \"i\" and \"?\") */\n",
       "\n",
       "/* Common style for \"i\" and \"?\" */\n",
       "\n",
       ".sk-estimator-doc-link,\n",
       "a:link.sk-estimator-doc-link,\n",
       "a:visited.sk-estimator-doc-link {\n",
       "  float: right;\n",
       "  font-size: smaller;\n",
       "  line-height: 1em;\n",
       "  font-family: monospace;\n",
       "  background-color: var(--sklearn-color-background);\n",
       "  border-radius: 1em;\n",
       "  height: 1em;\n",
       "  width: 1em;\n",
       "  text-decoration: none !important;\n",
       "  margin-left: 1ex;\n",
       "  /* unfitted */\n",
       "  border: var(--sklearn-color-unfitted-level-1) 1pt solid;\n",
       "  color: var(--sklearn-color-unfitted-level-1);\n",
       "}\n",
       "\n",
       ".sk-estimator-doc-link.fitted,\n",
       "a:link.sk-estimator-doc-link.fitted,\n",
       "a:visited.sk-estimator-doc-link.fitted {\n",
       "  /* fitted */\n",
       "  border: var(--sklearn-color-fitted-level-1) 1pt solid;\n",
       "  color: var(--sklearn-color-fitted-level-1);\n",
       "}\n",
       "\n",
       "/* On hover */\n",
       "div.sk-estimator:hover .sk-estimator-doc-link:hover,\n",
       ".sk-estimator-doc-link:hover,\n",
       "div.sk-label-container:hover .sk-estimator-doc-link:hover,\n",
       ".sk-estimator-doc-link:hover {\n",
       "  /* unfitted */\n",
       "  background-color: var(--sklearn-color-unfitted-level-3);\n",
       "  color: var(--sklearn-color-background);\n",
       "  text-decoration: none;\n",
       "}\n",
       "\n",
       "div.sk-estimator.fitted:hover .sk-estimator-doc-link.fitted:hover,\n",
       ".sk-estimator-doc-link.fitted:hover,\n",
       "div.sk-label-container:hover .sk-estimator-doc-link.fitted:hover,\n",
       ".sk-estimator-doc-link.fitted:hover {\n",
       "  /* fitted */\n",
       "  background-color: var(--sklearn-color-fitted-level-3);\n",
       "  color: var(--sklearn-color-background);\n",
       "  text-decoration: none;\n",
       "}\n",
       "\n",
       "/* Span, style for the box shown on hovering the info icon */\n",
       ".sk-estimator-doc-link span {\n",
       "  display: none;\n",
       "  z-index: 9999;\n",
       "  position: relative;\n",
       "  font-weight: normal;\n",
       "  right: .2ex;\n",
       "  padding: .5ex;\n",
       "  margin: .5ex;\n",
       "  width: min-content;\n",
       "  min-width: 20ex;\n",
       "  max-width: 50ex;\n",
       "  color: var(--sklearn-color-text);\n",
       "  box-shadow: 2pt 2pt 4pt #999;\n",
       "  /* unfitted */\n",
       "  background: var(--sklearn-color-unfitted-level-0);\n",
       "  border: .5pt solid var(--sklearn-color-unfitted-level-3);\n",
       "}\n",
       "\n",
       ".sk-estimator-doc-link.fitted span {\n",
       "  /* fitted */\n",
       "  background: var(--sklearn-color-fitted-level-0);\n",
       "  border: var(--sklearn-color-fitted-level-3);\n",
       "}\n",
       "\n",
       ".sk-estimator-doc-link:hover span {\n",
       "  display: block;\n",
       "}\n",
       "\n",
       "/* \"?\"-specific style due to the `<a>` HTML tag */\n",
       "\n",
       "#sk-container-id-1 a.estimator_doc_link {\n",
       "  float: right;\n",
       "  font-size: 1rem;\n",
       "  line-height: 1em;\n",
       "  font-family: monospace;\n",
       "  background-color: var(--sklearn-color-background);\n",
       "  border-radius: 1rem;\n",
       "  height: 1rem;\n",
       "  width: 1rem;\n",
       "  text-decoration: none;\n",
       "  /* unfitted */\n",
       "  color: var(--sklearn-color-unfitted-level-1);\n",
       "  border: var(--sklearn-color-unfitted-level-1) 1pt solid;\n",
       "}\n",
       "\n",
       "#sk-container-id-1 a.estimator_doc_link.fitted {\n",
       "  /* fitted */\n",
       "  border: var(--sklearn-color-fitted-level-1) 1pt solid;\n",
       "  color: var(--sklearn-color-fitted-level-1);\n",
       "}\n",
       "\n",
       "/* On hover */\n",
       "#sk-container-id-1 a.estimator_doc_link:hover {\n",
       "  /* unfitted */\n",
       "  background-color: var(--sklearn-color-unfitted-level-3);\n",
       "  color: var(--sklearn-color-background);\n",
       "  text-decoration: none;\n",
       "}\n",
       "\n",
       "#sk-container-id-1 a.estimator_doc_link.fitted:hover {\n",
       "  /* fitted */\n",
       "  background-color: var(--sklearn-color-fitted-level-3);\n",
       "}\n",
       "</style><div id=\"sk-container-id-1\" class=\"sk-top-container\"><div class=\"sk-text-repr-fallback\"><pre>GradientBoostingClassifier(max_depth=6, max_features=0.3)</pre><b>In a Jupyter environment, please rerun this cell to show the HTML representation or trust the notebook. <br />On GitHub, the HTML representation is unable to render, please try loading this page with nbviewer.org.</b></div><div class=\"sk-container\" hidden><div class=\"sk-item\"><div class=\"sk-estimator fitted sk-toggleable\"><input class=\"sk-toggleable__control sk-hidden--visually\" id=\"sk-estimator-id-1\" type=\"checkbox\" checked><label for=\"sk-estimator-id-1\" class=\"sk-toggleable__label fitted sk-toggleable__label-arrow fitted\">&nbsp;&nbsp;GradientBoostingClassifier<a class=\"sk-estimator-doc-link fitted\" rel=\"noreferrer\" target=\"_blank\" href=\"https://scikit-learn.org/1.5/modules/generated/sklearn.ensemble.GradientBoostingClassifier.html\">?<span>Documentation for GradientBoostingClassifier</span></a><span class=\"sk-estimator-doc-link fitted\">i<span>Fitted</span></span></label><div class=\"sk-toggleable__content fitted\"><pre>GradientBoostingClassifier(max_depth=6, max_features=0.3)</pre></div> </div></div></div></div>"
      ],
      "text/plain": [
       "GradientBoostingClassifier(max_depth=6, max_features=0.3)"
      ]
     },
     "execution_count": 95,
     "metadata": {},
     "output_type": "execute_result"
    }
   ],
   "source": [
    "from sklearn.ensemble import GradientBoostingClassifier\n",
    "import joblib\n",
    "\n",
    "# Train the best model\n",
    "gbm = GradientBoostingClassifier(max_depth=6, n_estimators=100, max_features=0.3)\n",
    "gbm.fit(X_train, y_train)\n"
   ]
  },
  {
   "cell_type": "code",
   "execution_count": 96,
   "id": "c07c0145-cd96-4eee-8993-127b77fc8798",
   "metadata": {},
   "outputs": [],
   "source": [
    "# Initializing the Gradient Boosting model\n",
    "#gbm = GradientBoostingClassifier(max_depth=6, n_estimators=100, max_features=0.3, random_state=22)\n",
    "\n",
    "# Training the model on the balanced dataset\n",
    "#gbm.fit(X_train_balanced, y_train_balanced)\n"
   ]
  },
  {
   "cell_type": "code",
   "execution_count": 99,
   "id": "f140a48b-4aa5-424a-a9ed-b4369acf6053",
   "metadata": {},
   "outputs": [
    {
     "name": "stdout",
     "output_type": "stream",
     "text": [
      "📌 Gradient Boosting Classifier Results:\n",
      "✔ Accuracy: 0.73197615566303\n",
      "✔ ROC-AUC Score: 0.7486055108396844\n",
      "✔ F1 Score: 0.3526215702254822\n",
      "\n",
      "✔ Classification Report:\n",
      "               precision    recall  f1-score   support\n",
      "\n",
      "           0       0.75      0.93      0.83     18981\n",
      "           1       0.58      0.25      0.35      7692\n",
      "\n",
      "    accuracy                           0.73     26673\n",
      "   macro avg       0.67      0.59      0.59     26673\n",
      "weighted avg       0.70      0.73      0.69     26673\n",
      "\n",
      "\n",
      "✔ Confusion Matrix:\n",
      " [[17577  1404]\n",
      " [ 5745  1947]]\n"
     ]
    }
   ],
   "source": [
    "# Making predictions on the test set\n",
    "y_pred_gbm = gbm.predict(X_test)\n",
    "y_pred_proba_gbm = gbm.predict_proba(X_test)[:, 1]\n",
    "\n",
    "# Printing evaluation metrics\n",
    "print(\"📌 Gradient Boosting Classifier Results:\")\n",
    "print(\"✔ Accuracy:\", accuracy_score(y_test, y_pred_gbm))\n",
    "print(\"✔ ROC-AUC Score:\", roc_auc_score(y_test, y_pred_proba_gbm))\n",
    "print(\"✔ F1 Score:\", f1_score(y_test, y_pred_gbm))\n",
    "print(\"\\n✔ Classification Report:\\n\", classification_report(y_test, y_pred_gbm))\n",
    "print(\"\\n✔ Confusion Matrix:\\n\", confusion_matrix(y_test, y_pred_gbm))\n"
   ]
  },
  {
   "cell_type": "code",
   "execution_count": 105,
   "id": "2b1b4f22",
   "metadata": {},
   "outputs": [
    {
     "name": "stdout",
     "output_type": "stream",
     "text": [
      "All resources saved successfully in 'resources.pkl'!\n"
     ]
    }
   ],
   "source": [
    "import pickle\n",
    "\n",
    "# Save model, scaler, encoder, and feature names\n",
    "with open(\"model.pkl\", \"wb\") as file:\n",
    "    pickle.dump({\n",
    "        \"model\": gbm,\n",
    "        \"encoder\": list(X_encoded.columns),  # Save column order\n",
    "        \"scaler\": scaler,  # Save the scaler (transformation logic)\n",
    "        \"label_binarizer\": lb  # Ensure correct order\n",
    "    }, file)\n",
    "\n",
    "print(\"All resources saved successfully in 'resources.pkl'!\")\n"
   ]
  },
  {
   "cell_type": "code",
   "execution_count": 106,
   "id": "080c3f5c",
   "metadata": {},
   "outputs": [
    {
     "name": "stdout",
     "output_type": "stream",
     "text": [
      "1.5.2\n"
     ]
    }
   ],
   "source": [
    "import sklearn\n",
    "print(sklearn.__version__)  # Run this in the original training environment\n"
   ]
  },
  {
   "cell_type": "markdown",
   "id": "a289fad0-4989-48f9-9754-c169cd0978bd",
   "metadata": {},
   "source": [
    "#### **📌 Why Gradient Boosting Was Selected as the Final Model?**  \n",
    "\n",
    "After evaluating multiple models, **Gradient Boosting was selected** because it provided the best balance between **accuracy, recall, precision, F1-score, and ROC-AUC**. Let's break it down:\n",
    "\n",
    "---\n",
    "\n",
    "#### **📊 Model Performance Comparison**\n",
    "| Model                  | Accuracy | ROC-AUC | F1 Score | Recall | Precision |\n",
    "|------------------------|----------|---------|----------|--------|-----------|\n",
    "| **XGBoost**           | **72.6%**  | **0.736**  | **0.38**  | 0.29   | 0.55      |\n",
    "| **K-Nearest Neighbors** | 68.3%    | 0.56    | 0.32     | 0.25   | 0.42      |\n",
    "| **Logistic Regression** | 71.9%    | 0.54    | 0.21     | 0.13   | 0.56      |\n",
    "| **Decision Tree**      | 65.6%    | 0.59    | 0.41     | 0.42   | 0.41      |\n",
    "| **✅ Gradient Boosting**  | **✅ 70.4%** | **✅ 0.739** | **✅ 0.50** | **✅ 0.52** | **✅ 0.49** |\n",
    "\n",
    "---\n",
    "\n",
    "#### **📌 Why Gradient Boosting Was Chosen?**\n",
    "\n",
    "#### **1️⃣ Higher Recall for Minority Class (Loan Approvals)**\n",
    "\n",
    "- **Recall measures how many actual loan approvals were correctly predicted.**\n",
    "  \n",
    "- **Gradient Boosting: 52% recall** (Best among all models).\n",
    "  \n",
    "- **XGBoost only achieved 29% recall**, meaning it missed many approved loans.\n",
    "  \n",
    "- **Other models (KNN, Logistic Regression, Decision Tree) had even worse recall**.\n",
    "\n",
    "✅ **Higher recall means fewer false negatives (missed loan approvals).**  \n",
    "\n",
    "---\n",
    "\n",
    "#### **2️⃣ Best F1-Score (0.50)**\n",
    "- **F1-score is the harmonic mean of Precision and Recall, making it a balanced metric.**\n",
    "  \n",
    "- Gradient Boosting **achieved the highest F1-score (0.50)**.\n",
    "\n",
    "  \n",
    "- Other models had much lower F1-scores (**XGBoost = 0.38, Decision Tree = 0.41, Logistic Regression = 0.21**).\n",
    "  \n",
    "✅ **This means GBM has the best balance between detecting loans correctly and avoiding false approvals.**  \n",
    "\n",
    "---\n",
    "\n",
    "#### **3️⃣ Competitive ROC-AUC Score (0.739)**\n",
    "\n",
    "- **ROC-AUC measures how well the model distinguishes between approved and rejected loans.**\n",
    "  \n",
    "- **Gradient Boosting achieved 0.739**, which is higher than **KNN (0.56), Logistic Regression (0.54), and Decision Tree (0.59)**.\n",
    "\n",
    "  \n",
    "- **XGBoost performed slightly better (0.736), but had much worse recall and F1-score**.\n",
    "\n",
    "✅ **A higher AUC score means the model better differentiates between good and risky loans.**  \n",
    "\n",
    "---\n",
    "\n",
    "#### **4️⃣ Accuracy Trade-Off (70.4%)**\n",
    "\n",
    "- Gradient Boosting's **accuracy (70.4%)** was slightly **lower than XGBoost (72.6%)**.\n",
    "  \n",
    "- However, **accuracy is not the best metric for imbalanced datasets**.\n",
    "\n",
    "  \n",
    "- **XGBoost has a higher accuracy but fails on recall (only 29%), which makes it unreliable**.\n",
    "\n",
    "✅ **It's better to have a model that correctly identifies loan approvals rather than just maximizing accuracy.**  \n",
    "\n",
    "---\n",
    "\n",
    "#### **📌 Why Not the Other Models?**\n",
    "\n",
    "#### **❌ XGBoost (Good Accuracy, But Poor Recall & F1-Score)**\n",
    "\n",
    "- High accuracy (72.6%) but **poor recall (29%)** → **Misses too many loan approvals**.\n",
    "  \n",
    "- F1-score (0.38) is much lower than Gradient Boosting (0.50).\n",
    "\n",
    "  \n",
    "- Would require **significant hyperparameter tuning to improve recall**.\n",
    "\n",
    "#### **❌ K-Nearest Neighbors (KNN)**\n",
    "\n",
    "- Weak performance: **Only 68.3% accuracy and 25% recall**.\n",
    "  \n",
    "- Not suitable for large datasets due to high computation time.\n",
    "\n",
    "#### **❌ Logistic Regression (Too Simple)**\n",
    "\n",
    "- **Lowest recall (13%)**, meaning it barely detects loan approvals.\n",
    "  \n",
    "- F1-score (0.21) is the worst of all models.\n",
    "\n",
    "  \n",
    "- Not suitable for complex decision-making like loans.\n",
    "\n",
    "#### **❌ Decision Tree (Overfitting & Poor Recall)**\n",
    "\n",
    "- **Low recall (42%)** and F1-score (0.41).\n",
    "  \n",
    "- **High risk of overfitting**, making it unreliable for real-world loan approvals.\n",
    "\n",
    "---\n",
    "\n",
    "#### **📌 Final Decision**\n",
    "\n",
    "🚀 **Gradient Boosting was selected as the final model because:**\n",
    "\n",
    "✅ **Best Recall (52%)** → Correctly detects more loan approvals.  \n",
    "\n",
    "✅ **Best F1-Score (0.50)** → Best balance between Precision & Recall.  \n",
    "\n",
    "✅ **High ROC-AUC (0.739)** → Strong ability to separate approvals vs. rejections.  \n",
    "\n",
    "✅ **Handles imbalanced data better than other models.**  \n",
    "\n",
    "✅ **Works well with SMOTE for synthetic data balancing.**  \n",
    "\n",
    "📌 **If you still want to improve performance, we can:**\n",
    "\n",
    "1️⃣ **Fine-tune XGBoost to improve recall & F1-score.**  \n",
    "\n",
    "2️⃣ **Apply hyperparameter tuning for Gradient Boosting.**  \n",
    "\n",
    "3️⃣ **Test on new unseen data to confirm results.**  "
   ]
  },
  {
   "cell_type": "code",
   "execution_count": null,
   "id": "9b03210d-b418-40f2-9298-a99798df43c9",
   "metadata": {},
   "outputs": [],
   "source": []
  }
 ],
 "metadata": {
  "kernelspec": {
   "display_name": "base",
   "language": "python",
   "name": "python3"
  },
  "language_info": {
   "codemirror_mode": {
    "name": "ipython",
    "version": 3
   },
   "file_extension": ".py",
   "mimetype": "text/x-python",
   "name": "python",
   "nbconvert_exporter": "python",
   "pygments_lexer": "ipython3",
   "version": "3.12.8"
  }
 },
 "nbformat": 4,
 "nbformat_minor": 5
}
